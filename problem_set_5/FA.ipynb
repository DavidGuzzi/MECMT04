{
 "cells": [
  {
   "cell_type": "code",
   "execution_count": 28,
   "metadata": {},
   "outputs": [],
   "source": [
    "import pandas as pd\n",
    "import numpy as np\n",
    "\n",
    "np.set_printoptions(precision=4)\n",
    "pd.set_option('display.float_format', '{:.4f}'.format)\n",
    "# path = r\"C:\\Users\\HP\\OneDrive\\Escritorio\\David Guzzi\\DiTella\\MEC\\Materias\\2024 2T\\[MT04] Análisis Estadístico Multivariado\\Guías prácticas\\Problem Set 5-20240906\\FA.xlsx\"\n",
    "\n",
    "# df = pd.read_excel(path)\n",
    "# df\n"
   ]
  },
  {
   "cell_type": "code",
   "execution_count": 3,
   "metadata": {},
   "outputs": [],
   "source": [
    "# df.to_stata(r\"C:\\Users\\HP\\OneDrive\\Escritorio\\David Guzzi\\DiTella\\MEC\\Materias\\2024 2T\\[MT04] Análisis Estadístico Multivariado\\Guías prácticas\\Problem Set 5-20240906\\FA.dta\")"
   ]
  },
  {
   "cell_type": "code",
   "execution_count": 22,
   "metadata": {},
   "outputs": [],
   "source": [
    "data = np.array([\n",
    "    [1, 5, 5, 1, 1],\n",
    "    [8, 9, 7, 9, 8],\n",
    "    [9, 8, 9, 9, 8],\n",
    "    [9, 9, 9, 9, 9],\n",
    "    [1, 9, 1, 1, 9],\n",
    "    [9, 7, 7, 9, 9],\n",
    "    [9, 7, 9, 9, 7]\n",
    "])"
   ]
  },
  {
   "cell_type": "code",
   "execution_count": 35,
   "metadata": {},
   "outputs": [
    {
     "data": {
      "text/plain": [
       "array([14.619 ,  2.2381,  8.5714, 15.2381,  8.2381])"
      ]
     },
     "execution_count": 35,
     "metadata": {},
     "output_type": "execute_result"
    }
   ],
   "source": [
    "data_cov = np.cov(data, rowvar=False)\n",
    "data_cov_inv = np.linalg.inv(data_cov)\n",
    "data_cov_inv_d = np.diag(data_cov_inv)\n",
    "data_cov_d = np.diag(data_cov)\n",
    "\n",
    "data_cov_d - (1/data_cov_inv_d)\n"
   ]
  },
  {
   "cell_type": "code",
   "execution_count": 36,
   "metadata": {},
   "outputs": [
    {
     "data": {
      "text/plain": [
       "array([14.619 ,  2.2381,  8.5714, 15.2381,  8.2381])"
      ]
     },
     "execution_count": 36,
     "metadata": {},
     "output_type": "execute_result"
    }
   ],
   "source": [
    "data_cov_d"
   ]
  },
  {
   "cell_type": "code",
   "execution_count": 34,
   "metadata": {},
   "outputs": [
    {
     "data": {
      "text/html": [
       "<div>\n",
       "<style scoped>\n",
       "    .dataframe tbody tr th:only-of-type {\n",
       "        vertical-align: middle;\n",
       "    }\n",
       "\n",
       "    .dataframe tbody tr th {\n",
       "        vertical-align: top;\n",
       "    }\n",
       "\n",
       "    .dataframe thead th {\n",
       "        text-align: right;\n",
       "    }\n",
       "</style>\n",
       "<table border=\"1\" class=\"dataframe\">\n",
       "  <thead>\n",
       "    <tr style=\"text-align: right;\">\n",
       "      <th></th>\n",
       "      <th>0</th>\n",
       "      <th>1</th>\n",
       "      <th>2</th>\n",
       "      <th>3</th>\n",
       "      <th>4</th>\n",
       "    </tr>\n",
       "  </thead>\n",
       "  <tbody>\n",
       "    <tr>\n",
       "      <th>0</th>\n",
       "      <td>-2644311556751862.0000</td>\n",
       "      <td>-344882461543805.6875</td>\n",
       "      <td>674929534706399.2500</td>\n",
       "      <td>1799812092550371.7500</td>\n",
       "      <td>661675771094734.8750</td>\n",
       "    </tr>\n",
       "    <tr>\n",
       "      <th>1</th>\n",
       "      <td>-344882461543805.9375</td>\n",
       "      <td>-44981050730122.6016</td>\n",
       "      <td>88027206440106.9531</td>\n",
       "      <td>234739217173618.3438</td>\n",
       "      <td>86298593710095.0938</td>\n",
       "    </tr>\n",
       "    <tr>\n",
       "      <th>2</th>\n",
       "      <td>674929534706398.2500</td>\n",
       "      <td>88027206440106.7812</td>\n",
       "      <td>-172267853860047.3438</td>\n",
       "      <td>-459380943626832.1875</td>\n",
       "      <td>-168884986026386.1250</td>\n",
       "    </tr>\n",
       "    <tr>\n",
       "      <th>3</th>\n",
       "      <td>1799812092550373.0000</td>\n",
       "      <td>234739217173618.4062</td>\n",
       "      <td>-459380943626833.1875</td>\n",
       "      <td>-1225015849671483.2500</td>\n",
       "      <td>-450359962737050.1875</td>\n",
       "    </tr>\n",
       "    <tr>\n",
       "      <th>4</th>\n",
       "      <td>661675771094734.5000</td>\n",
       "      <td>86298593710095.0156</td>\n",
       "      <td>-168884986026386.2812</td>\n",
       "      <td>-450359962737049.6250</td>\n",
       "      <td>-165568548432159.7188</td>\n",
       "    </tr>\n",
       "  </tbody>\n",
       "</table>\n",
       "</div>"
      ],
      "text/plain": [
       "                       0                     1                     2  \\\n",
       "0 -2644311556751862.0000 -344882461543805.6875  674929534706399.2500   \n",
       "1  -344882461543805.9375  -44981050730122.6016   88027206440106.9531   \n",
       "2   674929534706398.2500   88027206440106.7812 -172267853860047.3438   \n",
       "3  1799812092550373.0000  234739217173618.4062 -459380943626833.1875   \n",
       "4   661675771094734.5000   86298593710095.0156 -168884986026386.2812   \n",
       "\n",
       "                       3                     4  \n",
       "0  1799812092550371.7500  661675771094734.8750  \n",
       "1   234739217173618.3438   86298593710095.0938  \n",
       "2  -459380943626832.1875 -168884986026386.1250  \n",
       "3 -1225015849671483.2500 -450359962737050.1875  \n",
       "4  -450359962737049.6250 -165568548432159.7188  "
      ]
     },
     "execution_count": 34,
     "metadata": {},
     "output_type": "execute_result"
    }
   ],
   "source": [
    "data_cor = np.corrcoef(data, rowvar=False)\n",
    "data_inv = np.linalg.inv(data_cor)\n",
    "data_inv_d = np.diag(data_inv)\n",
    "com = 1 - (1/data_inv_d)\n",
    "pd.DataFrame(data_inv)"
   ]
  },
  {
   "cell_type": "code",
   "execution_count": 30,
   "metadata": {},
   "outputs": [
    {
     "data": {
      "text/plain": [
       "array([-2.6443e+15, -4.4981e+13, -1.7227e+14, -1.2250e+15, -1.6557e+14])"
      ]
     },
     "execution_count": 30,
     "metadata": {},
     "output_type": "execute_result"
    }
   ],
   "source": [
    "data_inv_d"
   ]
  },
  {
   "cell_type": "code",
   "execution_count": 18,
   "metadata": {},
   "outputs": [
    {
     "data": {
      "text/html": [
       "<div>\n",
       "<style scoped>\n",
       "    .dataframe tbody tr th:only-of-type {\n",
       "        vertical-align: middle;\n",
       "    }\n",
       "\n",
       "    .dataframe tbody tr th {\n",
       "        vertical-align: top;\n",
       "    }\n",
       "\n",
       "    .dataframe thead th {\n",
       "        text-align: right;\n",
       "    }\n",
       "</style>\n",
       "<table border=\"1\" class=\"dataframe\">\n",
       "  <thead>\n",
       "    <tr style=\"text-align: right;\">\n",
       "      <th></th>\n",
       "      <th>0</th>\n",
       "      <th>1</th>\n",
       "      <th>2</th>\n",
       "      <th>3</th>\n",
       "      <th>4</th>\n",
       "    </tr>\n",
       "  </thead>\n",
       "  <tbody>\n",
       "    <tr>\n",
       "      <th>0</th>\n",
       "      <td>-0.969455</td>\n",
       "      <td>0.231148</td>\n",
       "      <td>0.078451</td>\n",
       "      <td>-0.023928</td>\n",
       "      <td>-8.292461e-09</td>\n",
       "    </tr>\n",
       "    <tr>\n",
       "      <th>1</th>\n",
       "      <td>-0.519402</td>\n",
       "      <td>-0.806945</td>\n",
       "      <td>-0.280349</td>\n",
       "      <td>-0.021568</td>\n",
       "      <td>-1.081538e-09</td>\n",
       "    </tr>\n",
       "    <tr>\n",
       "      <th>2</th>\n",
       "      <td>-0.784517</td>\n",
       "      <td>0.587241</td>\n",
       "      <td>-0.167545</td>\n",
       "      <td>0.107744</td>\n",
       "      <td>2.116553e-09</td>\n",
       "    </tr>\n",
       "    <tr>\n",
       "      <th>3</th>\n",
       "      <td>-0.970870</td>\n",
       "      <td>0.209949</td>\n",
       "      <td>0.039351</td>\n",
       "      <td>-0.108552</td>\n",
       "      <td>5.644142e-09</td>\n",
       "    </tr>\n",
       "    <tr>\n",
       "      <th>4</th>\n",
       "      <td>-0.703964</td>\n",
       "      <td>-0.666927</td>\n",
       "      <td>0.231258</td>\n",
       "      <td>0.078502</td>\n",
       "      <td>2.074990e-09</td>\n",
       "    </tr>\n",
       "  </tbody>\n",
       "</table>\n",
       "</div>"
      ],
      "text/plain": [
       "          0         1         2         3             4\n",
       "0 -0.969455  0.231148  0.078451 -0.023928 -8.292461e-09\n",
       "1 -0.519402 -0.806945 -0.280349 -0.021568 -1.081538e-09\n",
       "2 -0.784517  0.587241 -0.167545  0.107744  2.116553e-09\n",
       "3 -0.970870  0.209949  0.039351 -0.108552  5.644142e-09\n",
       "4 -0.703964 -0.666927  0.231258  0.078502  2.074990e-09"
      ]
     },
     "execution_count": 18,
     "metadata": {},
     "output_type": "execute_result"
    }
   ],
   "source": [
    "data_cor = np.corrcoef(data, rowvar=False)\n",
    "C, D, V = np.linalg.svd(data_cor, full_matrices=False)\n",
    "loadings = C * np.sqrt(D)\n",
    "pd.DataFrame(loadings)\n"
   ]
  },
  {
   "cell_type": "code",
   "execution_count": null,
   "metadata": {},
   "outputs": [],
   "source": []
  },
  {
   "cell_type": "code",
   "execution_count": null,
   "metadata": {},
   "outputs": [],
   "source": []
  },
  {
   "cell_type": "code",
   "execution_count": 49,
   "metadata": {},
   "outputs": [
    {
     "data": {
      "text/plain": [
       "array([[0.26418458, 0.26418458],\n",
       "       [0.26418458, 0.26418458]])"
      ]
     },
     "execution_count": 49,
     "metadata": {},
     "output_type": "execute_result"
    }
   ],
   "source": [
    "corr = df.corr().values\n",
    "max = np.array([corr[:, i][corr[:, i] < 1].max() for i in range(corr.shape[1])])\n",
    "corr_max = corr.copy()\n",
    "np.fill_diagonal(corr_max, max)\n",
    "corr_max\n"
   ]
  },
  {
   "cell_type": "code",
   "execution_count": 47,
   "metadata": {},
   "outputs": [
    {
     "data": {
      "text/html": [
       "<div>\n",
       "<style scoped>\n",
       "    .dataframe tbody tr th:only-of-type {\n",
       "        vertical-align: middle;\n",
       "    }\n",
       "\n",
       "    .dataframe tbody tr th {\n",
       "        vertical-align: top;\n",
       "    }\n",
       "\n",
       "    .dataframe thead th {\n",
       "        text-align: right;\n",
       "    }\n",
       "</style>\n",
       "<table border=\"1\" class=\"dataframe\">\n",
       "  <thead>\n",
       "    <tr style=\"text-align: right;\">\n",
       "      <th></th>\n",
       "      <th>0</th>\n",
       "      <th>1</th>\n",
       "    </tr>\n",
       "  </thead>\n",
       "  <tbody>\n",
       "    <tr>\n",
       "      <th>0</th>\n",
       "      <td>-0.513989</td>\n",
       "      <td>-3.239622e-09</td>\n",
       "    </tr>\n",
       "    <tr>\n",
       "      <th>1</th>\n",
       "      <td>-0.513989</td>\n",
       "      <td>3.239622e-09</td>\n",
       "    </tr>\n",
       "  </tbody>\n",
       "</table>\n",
       "</div>"
      ],
      "text/plain": [
       "          0             1\n",
       "0 -0.513989 -3.239622e-09\n",
       "1 -0.513989  3.239622e-09"
      ]
     },
     "execution_count": 47,
     "metadata": {},
     "output_type": "execute_result"
    }
   ],
   "source": [
    "C, D, V = np.linalg.svd(corr_max, full_matrices=False)\n",
    "D_o = sorted(D, reverse=True)\n",
    "loadings = C * np.sqrt(D_o)\n",
    "pd.DataFrame(loadings)"
   ]
  },
  {
   "cell_type": "code",
   "execution_count": 48,
   "metadata": {},
   "outputs": [
    {
     "data": {
      "text/plain": [
       "[0.5283691548027929, 2.0990295514250575e-17]"
      ]
     },
     "execution_count": 48,
     "metadata": {},
     "output_type": "execute_result"
    }
   ],
   "source": [
    "D_o"
   ]
  },
  {
   "cell_type": "code",
   "execution_count": 36,
   "metadata": {},
   "outputs": [],
   "source": [
    "# data = np.array([\n",
    "#     [1, 5, 5, 1, 1],\n",
    "#     [8, 9, 7, 9, 8],\n",
    "#     [9, 8, 9, 9, 8],\n",
    "#     [9, 9, 9, 9, 9],\n",
    "#     [1, 9, 1, 1, 9],\n",
    "#     [9, 7, 7, 9, 9],\n",
    "#     [9, 7, 9, 9, 7]\n",
    "# ])\n",
    "# correlacion = np.corrcoef(data, rowvar=False)\n",
    "# correlacion\n",
    "\n",
    "\n",
    "R = np.array([\n",
    "    [1.000, 0.296, 0.881, 0.995, 0.545],\n",
    "    [0.296, 1.000, -0.022, 0.326, 0.837],\n",
    "    [0.881, -0.022, 1.000, 0.867, 0.130],\n",
    "    [0.995, 0.326, 0.867, 1.000, 0.544],\n",
    "    [0.545, 0.837, 0.130, 0.544, 1.000]\n",
    "])"
   ]
  },
  {
   "cell_type": "code",
   "execution_count": 37,
   "metadata": {},
   "outputs": [
    {
     "data": {
      "text/plain": [
       "array([[ 0.995,  0.296,  0.881,  0.995,  0.545],\n",
       "       [ 0.296,  0.837, -0.022,  0.326,  0.837],\n",
       "       [ 0.881, -0.022,  0.881,  0.867,  0.13 ],\n",
       "       [ 0.995,  0.326,  0.867,  0.995,  0.544],\n",
       "       [ 0.545,  0.837,  0.13 ,  0.544,  0.837]])"
      ]
     },
     "execution_count": 37,
     "metadata": {},
     "output_type": "execute_result"
    }
   ],
   "source": [
    "# Obtener el máximo de cada columna\n",
    "maximos = np.array([R[:, i][R[:, i] < 1].max() for i in range(R.shape[1])])\n",
    "\n",
    "# Asignar los máximos a la diagonal principal\n",
    "corr_m = R.copy()\n",
    "np.fill_diagonal(corr_m, maximos)\n",
    "\n",
    "corr_m"
   ]
  },
  {
   "cell_type": "code",
   "execution_count": 40,
   "metadata": {},
   "outputs": [
    {
     "data": {
      "text/plain": [
       "[3.2017093090737263,\n",
       " 1.3944390756838965,\n",
       " 0.08030346115353326,\n",
       " 0.029317098629336614,\n",
       " 0.00016202223342619344]"
      ]
     },
     "execution_count": 40,
     "metadata": {},
     "output_type": "execute_result"
    }
   ],
   "source": [
    "C, D, V = np.linalg.svd(corr_m, full_matrices=False)\n",
    "D_o = sorted(D, reverse=True)\n",
    "D_o"
   ]
  },
  {
   "cell_type": "code",
   "execution_count": 41,
   "metadata": {},
   "outputs": [
    {
     "data": {
      "text/plain": [
       "array([[-0.54801288,  0.17703557,  0.43482521,  0.4128932 , -0.55568564],\n",
       "       [-0.27205858, -0.6555723 ,  0.35020688, -0.60069019, -0.11285179],\n",
       "       [-0.43126509,  0.46085993, -0.49431898, -0.55340045, -0.22586551],\n",
       "       [-0.54855994,  0.15869823,  0.20994059,  0.04883377,  0.79210926],\n",
       "       [-0.37250292, -0.5489138 , -0.63234157,  0.40006713, -0.00506389]])"
      ]
     },
     "execution_count": 41,
     "metadata": {},
     "output_type": "execute_result"
    }
   ],
   "source": [
    "C"
   ]
  },
  {
   "cell_type": "code",
   "execution_count": 43,
   "metadata": {},
   "outputs": [
    {
     "data": {
      "text/html": [
       "<div>\n",
       "<style scoped>\n",
       "    .dataframe tbody tr th:only-of-type {\n",
       "        vertical-align: middle;\n",
       "    }\n",
       "\n",
       "    .dataframe tbody tr th {\n",
       "        vertical-align: top;\n",
       "    }\n",
       "\n",
       "    .dataframe thead th {\n",
       "        text-align: right;\n",
       "    }\n",
       "</style>\n",
       "<table border=\"1\" class=\"dataframe\">\n",
       "  <thead>\n",
       "    <tr style=\"text-align: right;\">\n",
       "      <th></th>\n",
       "      <th>0</th>\n",
       "      <th>1</th>\n",
       "      <th>2</th>\n",
       "      <th>3</th>\n",
       "      <th>4</th>\n",
       "    </tr>\n",
       "  </thead>\n",
       "  <tbody>\n",
       "    <tr>\n",
       "      <th>0</th>\n",
       "      <td>-0.980577</td>\n",
       "      <td>0.209055</td>\n",
       "      <td>0.123220</td>\n",
       "      <td>0.070697</td>\n",
       "      <td>-0.007073</td>\n",
       "    </tr>\n",
       "    <tr>\n",
       "      <th>1</th>\n",
       "      <td>-0.486803</td>\n",
       "      <td>-0.774142</td>\n",
       "      <td>0.099241</td>\n",
       "      <td>-0.102852</td>\n",
       "      <td>-0.001436</td>\n",
       "    </tr>\n",
       "    <tr>\n",
       "      <th>2</th>\n",
       "      <td>-0.771676</td>\n",
       "      <td>0.544213</td>\n",
       "      <td>-0.140079</td>\n",
       "      <td>-0.094755</td>\n",
       "      <td>-0.002875</td>\n",
       "    </tr>\n",
       "    <tr>\n",
       "      <th>3</th>\n",
       "      <td>-0.981556</td>\n",
       "      <td>0.187401</td>\n",
       "      <td>0.059493</td>\n",
       "      <td>0.008361</td>\n",
       "      <td>0.010083</td>\n",
       "    </tr>\n",
       "    <tr>\n",
       "      <th>4</th>\n",
       "      <td>-0.666531</td>\n",
       "      <td>-0.648192</td>\n",
       "      <td>-0.179192</td>\n",
       "      <td>0.068500</td>\n",
       "      <td>-0.000064</td>\n",
       "    </tr>\n",
       "  </tbody>\n",
       "</table>\n",
       "</div>"
      ],
      "text/plain": [
       "          0         1         2         3         4\n",
       "0 -0.980577  0.209055  0.123220  0.070697 -0.007073\n",
       "1 -0.486803 -0.774142  0.099241 -0.102852 -0.001436\n",
       "2 -0.771676  0.544213 -0.140079 -0.094755 -0.002875\n",
       "3 -0.981556  0.187401  0.059493  0.008361  0.010083\n",
       "4 -0.666531 -0.648192 -0.179192  0.068500 -0.000064"
      ]
     },
     "execution_count": 43,
     "metadata": {},
     "output_type": "execute_result"
    }
   ],
   "source": [
    "loadings = C * np.sqrt(D_o)\n",
    "pd.DataFrame(loadings)"
   ]
  },
  {
   "cell_type": "code",
   "execution_count": 19,
   "metadata": {},
   "outputs": [
    {
     "data": {
      "text/plain": [
       "array([[-0.78859185, -0.13680245,  0.19148531,  0.18636648, -0.5366646 ],\n",
       "       [-0.10285153, -0.12331285, -0.68428658, -0.65061165, -0.28752715],\n",
       "       [ 0.20127883,  0.61600625, -0.40895166,  0.47347196, -0.4342879 ],\n",
       "       [ 0.53674354, -0.62062607,  0.0960492 ,  0.16927454, -0.53744798],\n",
       "       [ 0.19732626,  0.44881913,  0.56446288, -0.53771969, -0.38969594]])"
      ]
     },
     "execution_count": 19,
     "metadata": {},
     "output_type": "execute_result"
    }
   ],
   "source": [
    "\n",
    "\n",
    "from numpy.linalg import eigh\n",
    "eigenvalues, eigenvectors = eigh(correlacion)\n",
    "\n",
    "eigenvectors\n"
   ]
  },
  {
   "cell_type": "code",
   "execution_count": 21,
   "metadata": {},
   "outputs": [
    {
     "data": {
      "text/plain": [
       "[3.263245029034827,\n",
       " 1.5383125277506948,\n",
       " 0.16785005049901378,\n",
       " 0.03059239271546363,\n",
       " 1.1057635293408557e-16]"
      ]
     },
     "execution_count": 21,
     "metadata": {},
     "output_type": "execute_result"
    }
   ],
   "source": [
    "C, D, V = np.linalg.svd(correlacion, full_matrices=False)\n",
    "D_o = sorted(D, reverse=True)\n",
    "D_o"
   ]
  },
  {
   "cell_type": "code",
   "execution_count": 12,
   "metadata": {},
   "outputs": [
    {
     "data": {
      "text/plain": [
       "array([[-0.53673007,  0.18598191,  0.18991841, -0.12479313, -0.79100521],\n",
       "       [-0.28746718, -0.65056657, -0.68488713, -0.11981409, -0.10344059],\n",
       "       [-0.43435455,  0.47368768, -0.40694897,  0.61366343,  0.2115794 ],\n",
       "       [-0.53739095,  0.16927968,  0.09532905, -0.62938958,  0.52662747],\n",
       "       [-0.38965441, -0.53771576,  0.5658317 ,  0.44424905,  0.20373628]])"
      ]
     },
     "execution_count": 12,
     "metadata": {},
     "output_type": "execute_result"
    }
   ],
   "source": [
    "C"
   ]
  },
  {
   "cell_type": "code",
   "execution_count": 22,
   "metadata": {},
   "outputs": [
    {
     "data": {
      "text/plain": [
       "array([[-9.69455305e-01,  2.31147968e-01,  7.84505865e-02,\n",
       "        -2.39276806e-02, -8.29246060e-09],\n",
       "       [-5.19402104e-01, -8.06945347e-01, -2.80348839e-01,\n",
       "        -2.15682580e-02, -1.08153830e-09],\n",
       "       [-7.84517390e-01,  5.87241242e-01, -1.67545477e-01,\n",
       "         1.07743689e-01,  2.11655338e-09],\n",
       "       [-9.70870447e-01,  2.09949055e-01,  3.93508828e-02,\n",
       "        -1.08551727e-01,  5.64414236e-09],\n",
       "       [-7.03964442e-01, -6.66926884e-01,  2.31257661e-01,\n",
       "         7.85015230e-02,  2.07499008e-09]])"
      ]
     },
     "execution_count": 22,
     "metadata": {},
     "output_type": "execute_result"
    }
   ],
   "source": [
    "loadings = C * np.sqrt(D_o)\n",
    "loadings"
   ]
  },
  {
   "cell_type": "code",
   "execution_count": 16,
   "metadata": {},
   "outputs": [
    {
     "data": {
      "text/plain": [
       "array([1., 1., 1., 1., 1.])"
      ]
     },
     "execution_count": 16,
     "metadata": {},
     "output_type": "execute_result"
    }
   ],
   "source": [
    "array_cuadrado = np.square(loadings)\n",
    "\n",
    "# Sumar los cuadrados por cada fila\n",
    "suma_filas = np.sum(array_cuadrado, axis=1)\n",
    "suma_filas"
   ]
  },
  {
   "cell_type": "code",
   "execution_count": 51,
   "metadata": {},
   "outputs": [
    {
     "name": "stderr",
     "output_type": "stream",
     "text": [
      "C:\\Users\\HP\\AppData\\Local\\Temp\\ipykernel_13820\\3666724846.py:11: InvalidColumnName: \n",
      "Not all pandas column names were valid Stata variable names.\n",
      "The following replacements have been made:\n",
      "\n",
      "    0   ->   _0\n",
      "    1   ->   _1\n",
      "    2   ->   _2\n",
      "    3   ->   _3\n",
      "    4   ->   _4\n",
      "\n",
      "If this is not what you expect, please make sure you have Stata-compliant\n",
      "column names in your DataFrame (strings only, max 32 characters, only\n",
      "alphanumerics and underscores, no Stata reserved words)\n",
      "\n",
      "  pd.DataFrame(data).to_stata(r\"C:\\Users\\HP\\OneDrive\\Escritorio\\David Guzzi\\DiTella\\MEC\\Materias\\2024 2T\\[MT04] Análisis Estadístico Multivariado\\Guías prácticas\\Problem Set 5-20240906\\FA.dta\")\n"
     ]
    }
   ],
   "source": [
    "data = np.array([\n",
    "    [1, 5, 5, 1, 1],\n",
    "    [8, 9, 7, 9, 8],\n",
    "    [9, 8, 9, 9, 8],\n",
    "    [9, 9, 9, 9, 9],\n",
    "    [1, 9, 1, 1, 9],\n",
    "    [9, 7, 7, 9, 9],\n",
    "    [9, 7, 9, 9, 7]\n",
    "])\n",
    "\n",
    "pd.DataFrame(data).to_stata(r\"C:\\Users\\HP\\OneDrive\\Escritorio\\David Guzzi\\DiTella\\MEC\\Materias\\2024 2T\\[MT04] Análisis Estadístico Multivariado\\Guías prácticas\\Problem Set 5-20240906\\FA.dta\")"
   ]
  },
  {
   "cell_type": "code",
   "execution_count": 50,
   "metadata": {},
   "outputs": [],
   "source": [
    "final = pd.read_excel(r\"C:\\Users\\HP\\OneDrive\\Escritorio\\David Guzzi\\Github\\MECMT04\\TP AEM - database.xlsx\")\n",
    "\n",
    "final.columns = [f\"X{i}\" for i in range(len(final.columns))]\n",
    "\n",
    "# final.to_stata(r\"C:\\Users\\HP\\OneDrive\\Escritorio\\David Guzzi\\DiTella\\MEC\\Materias\\2024 2T\\[MT04] Análisis Estadístico Multivariado\\Guías prácticas\\Problem Set 5-20240906\\final.dta\")"
   ]
  },
  {
   "cell_type": "code",
   "execution_count": 48,
   "metadata": {},
   "outputs": [
    {
     "data": {
      "text/html": [
       "<div>\n",
       "<style scoped>\n",
       "    .dataframe tbody tr th:only-of-type {\n",
       "        vertical-align: middle;\n",
       "    }\n",
       "\n",
       "    .dataframe tbody tr th {\n",
       "        vertical-align: top;\n",
       "    }\n",
       "\n",
       "    .dataframe thead th {\n",
       "        text-align: right;\n",
       "    }\n",
       "</style>\n",
       "<table border=\"1\" class=\"dataframe\">\n",
       "  <thead>\n",
       "    <tr style=\"text-align: right;\">\n",
       "      <th></th>\n",
       "      <th>X0</th>\n",
       "      <th>X1</th>\n",
       "      <th>X2</th>\n",
       "      <th>X3</th>\n",
       "      <th>X4</th>\n",
       "      <th>X5</th>\n",
       "      <th>X6</th>\n",
       "      <th>X7</th>\n",
       "      <th>X8</th>\n",
       "    </tr>\n",
       "  </thead>\n",
       "  <tbody>\n",
       "    <tr>\n",
       "      <th>0</th>\n",
       "      <td>Argentina</td>\n",
       "      <td>ARG</td>\n",
       "      <td>42.5908</td>\n",
       "      <td>14.9117</td>\n",
       "      <td>0.8813</td>\n",
       "      <td>1.0457</td>\n",
       "      <td>5.3186</td>\n",
       "      <td>7.3309</td>\n",
       "      <td>8.0090</td>\n",
       "    </tr>\n",
       "    <tr>\n",
       "      <th>1</th>\n",
       "      <td>Australia</td>\n",
       "      <td>AUS</td>\n",
       "      <td>47.1238</td>\n",
       "      <td>3.9746</td>\n",
       "      <td>2.1059</td>\n",
       "      <td>0.6622</td>\n",
       "      <td>2.1131</td>\n",
       "      <td>2.5583</td>\n",
       "      <td>13.8760</td>\n",
       "    </tr>\n",
       "    <tr>\n",
       "      <th>2</th>\n",
       "      <td>Austria</td>\n",
       "      <td>AUT</td>\n",
       "      <td>32.1281</td>\n",
       "      <td>16.0631</td>\n",
       "      <td>1.5208</td>\n",
       "      <td>1.8149</td>\n",
       "      <td>1.0524</td>\n",
       "      <td>3.6561</td>\n",
       "      <td>41.4850</td>\n",
       "    </tr>\n",
       "    <tr>\n",
       "      <th>3</th>\n",
       "      <td>Belgium</td>\n",
       "      <td>BEL</td>\n",
       "      <td>44.7960</td>\n",
       "      <td>28.3120</td>\n",
       "      <td>1.2331</td>\n",
       "      <td>1.0485</td>\n",
       "      <td>0.6700</td>\n",
       "      <td>0.9196</td>\n",
       "      <td>1.9590</td>\n",
       "    </tr>\n",
       "    <tr>\n",
       "      <th>4</th>\n",
       "      <td>Canada</td>\n",
       "      <td>CAN</td>\n",
       "      <td>6.4344</td>\n",
       "      <td>4.3107</td>\n",
       "      <td>3.6934</td>\n",
       "      <td>0.8181</td>\n",
       "      <td>1.6971</td>\n",
       "      <td>1.5105</td>\n",
       "      <td>18.5180</td>\n",
       "    </tr>\n",
       "  </tbody>\n",
       "</table>\n",
       "</div>"
      ],
      "text/plain": [
       "          X0   X1      X2      X3     X4     X5     X6     X7      X8\n",
       "0  Argentina  ARG 42.5908 14.9117 0.8813 1.0457 5.3186 7.3309  8.0090\n",
       "1  Australia  AUS 47.1238  3.9746 2.1059 0.6622 2.1131 2.5583 13.8760\n",
       "2    Austria  AUT 32.1281 16.0631 1.5208 1.8149 1.0524 3.6561 41.4850\n",
       "3    Belgium  BEL 44.7960 28.3120 1.2331 1.0485 0.6700 0.9196  1.9590\n",
       "4     Canada  CAN  6.4344  4.3107 3.6934 0.8181 1.6971 1.5105 18.5180"
      ]
     },
     "execution_count": 48,
     "metadata": {},
     "output_type": "execute_result"
    }
   ],
   "source": [
    "final.head()"
   ]
  },
  {
   "cell_type": "code",
   "execution_count": 51,
   "metadata": {},
   "outputs": [
    {
     "data": {
      "text/html": [
       "<div>\n",
       "<style scoped>\n",
       "    .dataframe tbody tr th:only-of-type {\n",
       "        vertical-align: middle;\n",
       "    }\n",
       "\n",
       "    .dataframe tbody tr th {\n",
       "        vertical-align: top;\n",
       "    }\n",
       "\n",
       "    .dataframe thead th {\n",
       "        text-align: right;\n",
       "    }\n",
       "</style>\n",
       "<table border=\"1\" class=\"dataframe\">\n",
       "  <thead>\n",
       "    <tr style=\"text-align: right;\">\n",
       "      <th></th>\n",
       "      <th>0</th>\n",
       "      <th>1</th>\n",
       "      <th>2</th>\n",
       "      <th>3</th>\n",
       "      <th>4</th>\n",
       "      <th>5</th>\n",
       "      <th>6</th>\n",
       "    </tr>\n",
       "  </thead>\n",
       "  <tbody>\n",
       "    <tr>\n",
       "      <th>0</th>\n",
       "      <td>-0.3620</td>\n",
       "      <td>-0.5729</td>\n",
       "      <td>0.3125</td>\n",
       "      <td>-0.2164</td>\n",
       "      <td>0.1097</td>\n",
       "      <td>-0.0770</td>\n",
       "      <td>-0.0963</td>\n",
       "    </tr>\n",
       "    <tr>\n",
       "      <th>1</th>\n",
       "      <td>-0.5573</td>\n",
       "      <td>-0.6024</td>\n",
       "      <td>-0.0920</td>\n",
       "      <td>0.2949</td>\n",
       "      <td>0.1548</td>\n",
       "      <td>0.0332</td>\n",
       "      <td>0.0562</td>\n",
       "    </tr>\n",
       "    <tr>\n",
       "      <th>2</th>\n",
       "      <td>0.4277</td>\n",
       "      <td>0.0578</td>\n",
       "      <td>-0.4933</td>\n",
       "      <td>0.1525</td>\n",
       "      <td>0.1836</td>\n",
       "      <td>-0.1280</td>\n",
       "      <td>-0.0935</td>\n",
       "    </tr>\n",
       "    <tr>\n",
       "      <th>3</th>\n",
       "      <td>-0.0015</td>\n",
       "      <td>-0.4064</td>\n",
       "      <td>-0.6090</td>\n",
       "      <td>-0.2837</td>\n",
       "      <td>-0.0612</td>\n",
       "      <td>-0.0261</td>\n",
       "      <td>0.0549</td>\n",
       "    </tr>\n",
       "    <tr>\n",
       "      <th>4</th>\n",
       "      <td>0.8288</td>\n",
       "      <td>-0.3121</td>\n",
       "      <td>0.1079</td>\n",
       "      <td>-0.0507</td>\n",
       "      <td>0.1651</td>\n",
       "      <td>0.2626</td>\n",
       "      <td>0.0063</td>\n",
       "    </tr>\n",
       "    <tr>\n",
       "      <th>5</th>\n",
       "      <td>0.7171</td>\n",
       "      <td>-0.4543</td>\n",
       "      <td>0.2437</td>\n",
       "      <td>0.0964</td>\n",
       "      <td>-0.1480</td>\n",
       "      <td>-0.2293</td>\n",
       "      <td>0.0380</td>\n",
       "    </tr>\n",
       "    <tr>\n",
       "      <th>6</th>\n",
       "      <td>-0.0502</td>\n",
       "      <td>-0.3159</td>\n",
       "      <td>-0.1551</td>\n",
       "      <td>0.1343</td>\n",
       "      <td>-0.3320</td>\n",
       "      <td>0.1569</td>\n",
       "      <td>-0.0813</td>\n",
       "    </tr>\n",
       "  </tbody>\n",
       "</table>\n",
       "</div>"
      ],
      "text/plain": [
       "        0       1       2       3       4       5       6\n",
       "0 -0.3620 -0.5729  0.3125 -0.2164  0.1097 -0.0770 -0.0963\n",
       "1 -0.5573 -0.6024 -0.0920  0.2949  0.1548  0.0332  0.0562\n",
       "2  0.4277  0.0578 -0.4933  0.1525  0.1836 -0.1280 -0.0935\n",
       "3 -0.0015 -0.4064 -0.6090 -0.2837 -0.0612 -0.0261  0.0549\n",
       "4  0.8288 -0.3121  0.1079 -0.0507  0.1651  0.2626  0.0063\n",
       "5  0.7171 -0.4543  0.2437  0.0964 -0.1480 -0.2293  0.0380\n",
       "6 -0.0502 -0.3159 -0.1551  0.1343 -0.3320  0.1569 -0.0813"
      ]
     },
     "execution_count": 51,
     "metadata": {},
     "output_type": "execute_result"
    }
   ],
   "source": [
    "final = final.iloc[:,2:].values\n",
    "data_cor = np.corrcoef(final, rowvar=False)\n",
    "data_inv = np.linalg.inv(data_cor)\n",
    "data_inv_d = np.diag(data_inv)\n",
    "com = 1 - (1/data_inv_d)\n",
    "np.fill_diagonal(data_cor, com)\n",
    "C, D, V = np.linalg.svd(data_cor, full_matrices=False, hermitian=True)\n",
    "loadings = C * np.sqrt(D)\n",
    "pd.DataFrame(loadings)"
   ]
  },
  {
   "cell_type": "code",
   "execution_count": 59,
   "metadata": {},
   "outputs": [
    {
     "data": {
      "text/plain": [
       "array([[-0.2678, -0.5098,  0.3461, -0.4184,  0.2274, -0.1867, -0.5358],\n",
       "       [-0.4122, -0.536 , -0.1019,  0.5702,  0.3207,  0.0804,  0.3129],\n",
       "       [ 0.3163,  0.0515, -0.5463,  0.2948,  0.3804, -0.3101, -0.5206],\n",
       "       [-0.0011, -0.3615, -0.6744, -0.5486, -0.1268, -0.0632,  0.3056],\n",
       "       [ 0.6129, -0.2777,  0.1194, -0.0981,  0.3422,  0.6364,  0.0351],\n",
       "       [ 0.5304, -0.4042,  0.2698,  0.1864, -0.3068, -0.5558,  0.2117],\n",
       "       [-0.0372, -0.2811, -0.1718,  0.2598, -0.6881,  0.3803, -0.4523]])"
      ]
     },
     "execution_count": 59,
     "metadata": {},
     "output_type": "execute_result"
    }
   ],
   "source": [
    "C"
   ]
  },
  {
   "cell_type": "code",
   "execution_count": 54,
   "metadata": {},
   "outputs": [
    {
     "data": {
      "text/plain": [
       "array([0.0323, 0.1703, 0.2328, 0.2674, 0.8155, 1.2632, 1.8282])"
      ]
     },
     "execution_count": 54,
     "metadata": {},
     "output_type": "execute_result"
    }
   ],
   "source": [
    "np.sort(D)"
   ]
  },
  {
   "cell_type": "code",
   "execution_count": 58,
   "metadata": {},
   "outputs": [
    {
     "data": {
      "text/plain": [
       "array([[-0.4184, -0.1867, -0.5358,  0.2274,  0.3461, -0.5098, -0.2678],\n",
       "       [ 0.5702,  0.0804,  0.3129,  0.3207, -0.1019, -0.536 , -0.4122],\n",
       "       [ 0.2948, -0.3101, -0.5206,  0.3804, -0.5463,  0.0515,  0.3163],\n",
       "       [-0.5486, -0.0632,  0.3056, -0.1268, -0.6744, -0.3615, -0.0011],\n",
       "       [-0.0981,  0.6364,  0.0351,  0.3422,  0.1194, -0.2777,  0.6129],\n",
       "       [ 0.1864, -0.5558,  0.2117, -0.3068,  0.2698, -0.4042,  0.5304],\n",
       "       [ 0.2598,  0.3803, -0.4523, -0.6881, -0.1718, -0.2811, -0.0372]])"
      ]
     },
     "execution_count": 58,
     "metadata": {},
     "output_type": "execute_result"
    }
   ],
   "source": [
    "from numpy.linalg import eigh\n",
    "eigenvalues, eigenvectors = eigh(data_cor)\n",
    "np.sort(eigenvalues)\n",
    "\n",
    "eigenvectors"
   ]
  },
  {
   "cell_type": "code",
   "execution_count": 61,
   "metadata": {},
   "outputs": [
    {
     "data": {
      "text/plain": [
       "array([-0.2674, -0.1703, -0.0323,  0.2328,  0.8155,  1.2632,  1.8282])"
      ]
     },
     "execution_count": 61,
     "metadata": {},
     "output_type": "execute_result"
    }
   ],
   "source": [
    "eigenvalues"
   ]
  },
  {
   "cell_type": "code",
   "execution_count": 60,
   "metadata": {},
   "outputs": [
    {
     "name": "stderr",
     "output_type": "stream",
     "text": [
      "C:\\Users\\HP\\AppData\\Local\\Temp\\ipykernel_11736\\3645955264.py:1: RuntimeWarning: invalid value encountered in sqrt\n",
      "  loadings3 = C * np.sqrt(eigenvalues)\n"
     ]
    },
    {
     "data": {
      "text/plain": [
       "array([[    nan,     nan,     nan, -0.2019,  0.2053, -0.2098, -0.7245],\n",
       "       [    nan,     nan,     nan,  0.2751,  0.2896,  0.0904,  0.4231],\n",
       "       [    nan,     nan,     nan,  0.1422,  0.3435, -0.3485, -0.7039],\n",
       "       [    nan,     nan,     nan, -0.2647, -0.1145, -0.0711,  0.4132],\n",
       "       [    nan,     nan,     nan, -0.0473,  0.309 ,  0.7153,  0.0474],\n",
       "       [    nan,     nan,     nan,  0.09  , -0.277 , -0.6247,  0.2862],\n",
       "       [    nan,     nan,     nan,  0.1253, -0.6213,  0.4274, -0.6115]])"
      ]
     },
     "execution_count": 60,
     "metadata": {},
     "output_type": "execute_result"
    }
   ],
   "source": [
    "loadings3 = C * np.sqrt(eigenvalues)\n",
    "loadings3"
   ]
  },
  {
   "cell_type": "code",
   "execution_count": 67,
   "metadata": {},
   "outputs": [
    {
     "name": "stdout",
     "output_type": "stream",
     "text": [
      "Autovalores positivos ordenados: [1.8282 1.2632 0.8155 0.2328]\n",
      "Autovectores de SVD correspondientes ordenados:\n",
      " [[-0.2678 -0.5098  0.3461  0.4184 -0.2274  0.1867  0.5358]\n",
      " [-0.4122 -0.536  -0.1019 -0.5702 -0.3207 -0.0804 -0.3129]\n",
      " [ 0.3163  0.0515 -0.5463 -0.2948 -0.3804  0.3101  0.5206]\n",
      " [-0.0011 -0.3615 -0.6744  0.5486  0.1268  0.0632 -0.3056]\n",
      " [ 0.6129 -0.2777  0.1194  0.0981 -0.3422 -0.6364 -0.0351]\n",
      " [ 0.5304 -0.4042  0.2698 -0.1864  0.3068  0.5558 -0.2117]\n",
      " [-0.0372 -0.2811 -0.1718 -0.2598  0.6881 -0.3803  0.4523]]\n",
      "Loadings:\n",
      " [-0.3425 -1.7908 -0.1222 -0.7008  0.2413  0.7494 -0.3993]\n"
     ]
    }
   ],
   "source": [
    "import pandas as pd\n",
    "import numpy as np\n",
    "from scipy.linalg import eigh\n",
    "\n",
    "# Cargar los datos desde el archivo Excel\n",
    "final = pd.read_excel(r\"C:\\Users\\HP\\OneDrive\\Escritorio\\David Guzzi\\Github\\MECMT04\\TP AEM - database.xlsx\")\n",
    "\n",
    "# Renombrar las columnas\n",
    "final.columns = [f\"X{i}\" for i in range(len(final.columns))]\n",
    "\n",
    "# Seleccionar los datos a partir de la tercera columna\n",
    "final = final.iloc[:, 2:].values\n",
    "\n",
    "# Calcular la matriz de correlación\n",
    "data_cor = np.corrcoef(final, rowvar=False)\n",
    "\n",
    "# Calcular la matriz inversa de la correlación\n",
    "data_inv = np.linalg.inv(data_cor)\n",
    "data_inv_d = np.diag(data_inv)\n",
    "\n",
    "# Calcular la matriz de comunalidades\n",
    "com = 1 - (1 / data_inv_d)\n",
    "\n",
    "# Rellenar la diagonal de la matriz de correlación\n",
    "np.fill_diagonal(data_cor, com)\n",
    "\n",
    "# Paso 1: Descomposición SVD\n",
    "C, D, V = np.linalg.svd(data_cor, full_matrices=False)\n",
    "\n",
    "# Paso 2: Obtener autovalores y autovectores\n",
    "eigenvalues, eigenvectors = eigh(data_cor)\n",
    "\n",
    "# Paso 3: Filtrar y ordenar autovalores positivos\n",
    "positive_indices = eigenvalues > 0\n",
    "sorted_indices = np.argsort(eigenvalues[positive_indices])[::-1]  # Índices para ordenar de mayor a menor\n",
    "positive_eigenvalues = eigenvalues[positive_indices][sorted_indices]\n",
    "\n",
    "# Filtrar los autovectores de SVD (C) usando los índices positivos\n",
    "\n",
    "\n",
    "# Paso 4: Realizar la multiplicación para obtener los loadings\n",
    "loadings = C @ np.sqrt(D)\n",
    "\n",
    "# Resultados\n",
    "print(\"Autovalores positivos ordenados:\", positive_eigenvalues)\n",
    "print(\"Autovectores de SVD correspondientes ordenados:\\n\", C)\n",
    "print(\"Loadings:\\n\", loadings)\n"
   ]
  }
 ],
 "metadata": {
  "kernelspec": {
   "display_name": "Python 3",
   "language": "python",
   "name": "python3"
  },
  "language_info": {
   "codemirror_mode": {
    "name": "ipython",
    "version": 3
   },
   "file_extension": ".py",
   "mimetype": "text/x-python",
   "name": "python",
   "nbconvert_exporter": "python",
   "pygments_lexer": "ipython3",
   "version": "3.12.2"
  }
 },
 "nbformat": 4,
 "nbformat_minor": 2
}
