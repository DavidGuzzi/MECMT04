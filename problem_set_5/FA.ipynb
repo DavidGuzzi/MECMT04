{
 "cells": [
  {
   "cell_type": "code",
   "execution_count": 343,
   "metadata": {},
   "outputs": [],
   "source": [
    "import pandas as pd\n",
    "import numpy as np\n",
    "\n",
    "np.set_printoptions(precision=4)\n",
    "pd.set_option('display.float_format', '{:.4f}'.format)\n",
    "# path = r\"C:\\Users\\HP\\OneDrive\\Escritorio\\David Guzzi\\DiTella\\MEC\\Materias\\2024 2T\\[MT04] Análisis Estadístico Multivariado\\Guías prácticas\\Problem Set 5-20240906\\FA.xlsx\"\n",
    "\n",
    "# df = pd.read_excel(path)\n",
    "# df\n"
   ]
  },
  {
   "cell_type": "code",
   "execution_count": 3,
   "metadata": {},
   "outputs": [],
   "source": [
    "# df.to_stata(r\"C:\\Users\\HP\\OneDrive\\Escritorio\\David Guzzi\\DiTella\\MEC\\Materias\\2024 2T\\[MT04] Análisis Estadístico Multivariado\\Guías prácticas\\Problem Set 5-20240906\\FA.dta\")"
   ]
  },
  {
   "cell_type": "code",
   "execution_count": 22,
   "metadata": {},
   "outputs": [],
   "source": [
    "data = np.array([\n",
    "    [1, 5, 5, 1, 1],\n",
    "    [8, 9, 7, 9, 8],\n",
    "    [9, 8, 9, 9, 8],\n",
    "    [9, 9, 9, 9, 9],\n",
    "    [1, 9, 1, 1, 9],\n",
    "    [9, 7, 7, 9, 9],\n",
    "    [9, 7, 9, 9, 7]\n",
    "])"
   ]
  },
  {
   "cell_type": "code",
   "execution_count": 35,
   "metadata": {},
   "outputs": [
    {
     "data": {
      "text/plain": [
       "array([14.619 ,  2.2381,  8.5714, 15.2381,  8.2381])"
      ]
     },
     "execution_count": 35,
     "metadata": {},
     "output_type": "execute_result"
    }
   ],
   "source": [
    "data_cov = np.cov(data, rowvar=False)\n",
    "data_cov_inv = np.linalg.inv(data_cov)\n",
    "data_cov_inv_d = np.diag(data_cov_inv)\n",
    "data_cov_d = np.diag(data_cov)\n",
    "\n",
    "data_cov_d - (1/data_cov_inv_d)\n"
   ]
  },
  {
   "cell_type": "code",
   "execution_count": 36,
   "metadata": {},
   "outputs": [
    {
     "data": {
      "text/plain": [
       "array([14.619 ,  2.2381,  8.5714, 15.2381,  8.2381])"
      ]
     },
     "execution_count": 36,
     "metadata": {},
     "output_type": "execute_result"
    }
   ],
   "source": [
    "data_cov_d"
   ]
  },
  {
   "cell_type": "code",
   "execution_count": 34,
   "metadata": {},
   "outputs": [
    {
     "data": {
      "text/html": [
       "<div>\n",
       "<style scoped>\n",
       "    .dataframe tbody tr th:only-of-type {\n",
       "        vertical-align: middle;\n",
       "    }\n",
       "\n",
       "    .dataframe tbody tr th {\n",
       "        vertical-align: top;\n",
       "    }\n",
       "\n",
       "    .dataframe thead th {\n",
       "        text-align: right;\n",
       "    }\n",
       "</style>\n",
       "<table border=\"1\" class=\"dataframe\">\n",
       "  <thead>\n",
       "    <tr style=\"text-align: right;\">\n",
       "      <th></th>\n",
       "      <th>0</th>\n",
       "      <th>1</th>\n",
       "      <th>2</th>\n",
       "      <th>3</th>\n",
       "      <th>4</th>\n",
       "    </tr>\n",
       "  </thead>\n",
       "  <tbody>\n",
       "    <tr>\n",
       "      <th>0</th>\n",
       "      <td>-2644311556751862.0000</td>\n",
       "      <td>-344882461543805.6875</td>\n",
       "      <td>674929534706399.2500</td>\n",
       "      <td>1799812092550371.7500</td>\n",
       "      <td>661675771094734.8750</td>\n",
       "    </tr>\n",
       "    <tr>\n",
       "      <th>1</th>\n",
       "      <td>-344882461543805.9375</td>\n",
       "      <td>-44981050730122.6016</td>\n",
       "      <td>88027206440106.9531</td>\n",
       "      <td>234739217173618.3438</td>\n",
       "      <td>86298593710095.0938</td>\n",
       "    </tr>\n",
       "    <tr>\n",
       "      <th>2</th>\n",
       "      <td>674929534706398.2500</td>\n",
       "      <td>88027206440106.7812</td>\n",
       "      <td>-172267853860047.3438</td>\n",
       "      <td>-459380943626832.1875</td>\n",
       "      <td>-168884986026386.1250</td>\n",
       "    </tr>\n",
       "    <tr>\n",
       "      <th>3</th>\n",
       "      <td>1799812092550373.0000</td>\n",
       "      <td>234739217173618.4062</td>\n",
       "      <td>-459380943626833.1875</td>\n",
       "      <td>-1225015849671483.2500</td>\n",
       "      <td>-450359962737050.1875</td>\n",
       "    </tr>\n",
       "    <tr>\n",
       "      <th>4</th>\n",
       "      <td>661675771094734.5000</td>\n",
       "      <td>86298593710095.0156</td>\n",
       "      <td>-168884986026386.2812</td>\n",
       "      <td>-450359962737049.6250</td>\n",
       "      <td>-165568548432159.7188</td>\n",
       "    </tr>\n",
       "  </tbody>\n",
       "</table>\n",
       "</div>"
      ],
      "text/plain": [
       "                       0                     1                     2  \\\n",
       "0 -2644311556751862.0000 -344882461543805.6875  674929534706399.2500   \n",
       "1  -344882461543805.9375  -44981050730122.6016   88027206440106.9531   \n",
       "2   674929534706398.2500   88027206440106.7812 -172267853860047.3438   \n",
       "3  1799812092550373.0000  234739217173618.4062 -459380943626833.1875   \n",
       "4   661675771094734.5000   86298593710095.0156 -168884986026386.2812   \n",
       "\n",
       "                       3                     4  \n",
       "0  1799812092550371.7500  661675771094734.8750  \n",
       "1   234739217173618.3438   86298593710095.0938  \n",
       "2  -459380943626832.1875 -168884986026386.1250  \n",
       "3 -1225015849671483.2500 -450359962737050.1875  \n",
       "4  -450359962737049.6250 -165568548432159.7188  "
      ]
     },
     "execution_count": 34,
     "metadata": {},
     "output_type": "execute_result"
    }
   ],
   "source": [
    "data_cor = np.corrcoef(data, rowvar=False)\n",
    "data_inv = np.linalg.inv(data_cor)\n",
    "data_inv_d = np.diag(data_inv)\n",
    "com = 1 - (1/data_inv_d)\n",
    "pd.DataFrame(data_inv)"
   ]
  },
  {
   "cell_type": "code",
   "execution_count": 30,
   "metadata": {},
   "outputs": [
    {
     "data": {
      "text/plain": [
       "array([-2.6443e+15, -4.4981e+13, -1.7227e+14, -1.2250e+15, -1.6557e+14])"
      ]
     },
     "execution_count": 30,
     "metadata": {},
     "output_type": "execute_result"
    }
   ],
   "source": [
    "data_inv_d"
   ]
  },
  {
   "cell_type": "code",
   "execution_count": 18,
   "metadata": {},
   "outputs": [
    {
     "data": {
      "text/html": [
       "<div>\n",
       "<style scoped>\n",
       "    .dataframe tbody tr th:only-of-type {\n",
       "        vertical-align: middle;\n",
       "    }\n",
       "\n",
       "    .dataframe tbody tr th {\n",
       "        vertical-align: top;\n",
       "    }\n",
       "\n",
       "    .dataframe thead th {\n",
       "        text-align: right;\n",
       "    }\n",
       "</style>\n",
       "<table border=\"1\" class=\"dataframe\">\n",
       "  <thead>\n",
       "    <tr style=\"text-align: right;\">\n",
       "      <th></th>\n",
       "      <th>0</th>\n",
       "      <th>1</th>\n",
       "      <th>2</th>\n",
       "      <th>3</th>\n",
       "      <th>4</th>\n",
       "    </tr>\n",
       "  </thead>\n",
       "  <tbody>\n",
       "    <tr>\n",
       "      <th>0</th>\n",
       "      <td>-0.969455</td>\n",
       "      <td>0.231148</td>\n",
       "      <td>0.078451</td>\n",
       "      <td>-0.023928</td>\n",
       "      <td>-8.292461e-09</td>\n",
       "    </tr>\n",
       "    <tr>\n",
       "      <th>1</th>\n",
       "      <td>-0.519402</td>\n",
       "      <td>-0.806945</td>\n",
       "      <td>-0.280349</td>\n",
       "      <td>-0.021568</td>\n",
       "      <td>-1.081538e-09</td>\n",
       "    </tr>\n",
       "    <tr>\n",
       "      <th>2</th>\n",
       "      <td>-0.784517</td>\n",
       "      <td>0.587241</td>\n",
       "      <td>-0.167545</td>\n",
       "      <td>0.107744</td>\n",
       "      <td>2.116553e-09</td>\n",
       "    </tr>\n",
       "    <tr>\n",
       "      <th>3</th>\n",
       "      <td>-0.970870</td>\n",
       "      <td>0.209949</td>\n",
       "      <td>0.039351</td>\n",
       "      <td>-0.108552</td>\n",
       "      <td>5.644142e-09</td>\n",
       "    </tr>\n",
       "    <tr>\n",
       "      <th>4</th>\n",
       "      <td>-0.703964</td>\n",
       "      <td>-0.666927</td>\n",
       "      <td>0.231258</td>\n",
       "      <td>0.078502</td>\n",
       "      <td>2.074990e-09</td>\n",
       "    </tr>\n",
       "  </tbody>\n",
       "</table>\n",
       "</div>"
      ],
      "text/plain": [
       "          0         1         2         3             4\n",
       "0 -0.969455  0.231148  0.078451 -0.023928 -8.292461e-09\n",
       "1 -0.519402 -0.806945 -0.280349 -0.021568 -1.081538e-09\n",
       "2 -0.784517  0.587241 -0.167545  0.107744  2.116553e-09\n",
       "3 -0.970870  0.209949  0.039351 -0.108552  5.644142e-09\n",
       "4 -0.703964 -0.666927  0.231258  0.078502  2.074990e-09"
      ]
     },
     "execution_count": 18,
     "metadata": {},
     "output_type": "execute_result"
    }
   ],
   "source": [
    "data_cor = np.corrcoef(data, rowvar=False)\n",
    "C, D, V = np.linalg.svd(data_cor, full_matrices=False)\n",
    "loadings = C * np.sqrt(D)\n",
    "pd.DataFrame(loadings)\n"
   ]
  },
  {
   "cell_type": "code",
   "execution_count": null,
   "metadata": {},
   "outputs": [],
   "source": []
  },
  {
   "cell_type": "code",
   "execution_count": null,
   "metadata": {},
   "outputs": [],
   "source": []
  },
  {
   "cell_type": "code",
   "execution_count": 49,
   "metadata": {},
   "outputs": [
    {
     "data": {
      "text/plain": [
       "array([[0.26418458, 0.26418458],\n",
       "       [0.26418458, 0.26418458]])"
      ]
     },
     "execution_count": 49,
     "metadata": {},
     "output_type": "execute_result"
    }
   ],
   "source": [
    "corr = df.corr().values\n",
    "max = np.array([corr[:, i][corr[:, i] < 1].max() for i in range(corr.shape[1])])\n",
    "corr_max = corr.copy()\n",
    "np.fill_diagonal(corr_max, max)\n",
    "corr_max\n"
   ]
  },
  {
   "cell_type": "code",
   "execution_count": 47,
   "metadata": {},
   "outputs": [
    {
     "data": {
      "text/html": [
       "<div>\n",
       "<style scoped>\n",
       "    .dataframe tbody tr th:only-of-type {\n",
       "        vertical-align: middle;\n",
       "    }\n",
       "\n",
       "    .dataframe tbody tr th {\n",
       "        vertical-align: top;\n",
       "    }\n",
       "\n",
       "    .dataframe thead th {\n",
       "        text-align: right;\n",
       "    }\n",
       "</style>\n",
       "<table border=\"1\" class=\"dataframe\">\n",
       "  <thead>\n",
       "    <tr style=\"text-align: right;\">\n",
       "      <th></th>\n",
       "      <th>0</th>\n",
       "      <th>1</th>\n",
       "    </tr>\n",
       "  </thead>\n",
       "  <tbody>\n",
       "    <tr>\n",
       "      <th>0</th>\n",
       "      <td>-0.513989</td>\n",
       "      <td>-3.239622e-09</td>\n",
       "    </tr>\n",
       "    <tr>\n",
       "      <th>1</th>\n",
       "      <td>-0.513989</td>\n",
       "      <td>3.239622e-09</td>\n",
       "    </tr>\n",
       "  </tbody>\n",
       "</table>\n",
       "</div>"
      ],
      "text/plain": [
       "          0             1\n",
       "0 -0.513989 -3.239622e-09\n",
       "1 -0.513989  3.239622e-09"
      ]
     },
     "execution_count": 47,
     "metadata": {},
     "output_type": "execute_result"
    }
   ],
   "source": [
    "C, D, V = np.linalg.svd(corr_max, full_matrices=False)\n",
    "D_o = sorted(D, reverse=True)\n",
    "loadings = C * np.sqrt(D_o)\n",
    "pd.DataFrame(loadings)"
   ]
  },
  {
   "cell_type": "code",
   "execution_count": 48,
   "metadata": {},
   "outputs": [
    {
     "data": {
      "text/plain": [
       "[0.5283691548027929, 2.0990295514250575e-17]"
      ]
     },
     "execution_count": 48,
     "metadata": {},
     "output_type": "execute_result"
    }
   ],
   "source": [
    "D_o"
   ]
  },
  {
   "cell_type": "code",
   "execution_count": 36,
   "metadata": {},
   "outputs": [],
   "source": [
    "# data = np.array([\n",
    "#     [1, 5, 5, 1, 1],\n",
    "#     [8, 9, 7, 9, 8],\n",
    "#     [9, 8, 9, 9, 8],\n",
    "#     [9, 9, 9, 9, 9],\n",
    "#     [1, 9, 1, 1, 9],\n",
    "#     [9, 7, 7, 9, 9],\n",
    "#     [9, 7, 9, 9, 7]\n",
    "# ])\n",
    "# correlacion = np.corrcoef(data, rowvar=False)\n",
    "# correlacion\n",
    "\n",
    "\n",
    "R = np.array([\n",
    "    [1.000, 0.296, 0.881, 0.995, 0.545],\n",
    "    [0.296, 1.000, -0.022, 0.326, 0.837],\n",
    "    [0.881, -0.022, 1.000, 0.867, 0.130],\n",
    "    [0.995, 0.326, 0.867, 1.000, 0.544],\n",
    "    [0.545, 0.837, 0.130, 0.544, 1.000]\n",
    "])"
   ]
  },
  {
   "cell_type": "code",
   "execution_count": 37,
   "metadata": {},
   "outputs": [
    {
     "data": {
      "text/plain": [
       "array([[ 0.995,  0.296,  0.881,  0.995,  0.545],\n",
       "       [ 0.296,  0.837, -0.022,  0.326,  0.837],\n",
       "       [ 0.881, -0.022,  0.881,  0.867,  0.13 ],\n",
       "       [ 0.995,  0.326,  0.867,  0.995,  0.544],\n",
       "       [ 0.545,  0.837,  0.13 ,  0.544,  0.837]])"
      ]
     },
     "execution_count": 37,
     "metadata": {},
     "output_type": "execute_result"
    }
   ],
   "source": [
    "# Obtener el máximo de cada columna\n",
    "maximos = np.array([R[:, i][R[:, i] < 1].max() for i in range(R.shape[1])])\n",
    "\n",
    "# Asignar los máximos a la diagonal principal\n",
    "corr_m = R.copy()\n",
    "np.fill_diagonal(corr_m, maximos)\n",
    "\n",
    "corr_m"
   ]
  },
  {
   "cell_type": "code",
   "execution_count": 40,
   "metadata": {},
   "outputs": [
    {
     "data": {
      "text/plain": [
       "[3.2017093090737263,\n",
       " 1.3944390756838965,\n",
       " 0.08030346115353326,\n",
       " 0.029317098629336614,\n",
       " 0.00016202223342619344]"
      ]
     },
     "execution_count": 40,
     "metadata": {},
     "output_type": "execute_result"
    }
   ],
   "source": [
    "C, D, V = np.linalg.svd(corr_m, full_matrices=False)\n",
    "D_o = sorted(D, reverse=True)\n",
    "D_o"
   ]
  },
  {
   "cell_type": "code",
   "execution_count": 41,
   "metadata": {},
   "outputs": [
    {
     "data": {
      "text/plain": [
       "array([[-0.54801288,  0.17703557,  0.43482521,  0.4128932 , -0.55568564],\n",
       "       [-0.27205858, -0.6555723 ,  0.35020688, -0.60069019, -0.11285179],\n",
       "       [-0.43126509,  0.46085993, -0.49431898, -0.55340045, -0.22586551],\n",
       "       [-0.54855994,  0.15869823,  0.20994059,  0.04883377,  0.79210926],\n",
       "       [-0.37250292, -0.5489138 , -0.63234157,  0.40006713, -0.00506389]])"
      ]
     },
     "execution_count": 41,
     "metadata": {},
     "output_type": "execute_result"
    }
   ],
   "source": [
    "C"
   ]
  },
  {
   "cell_type": "code",
   "execution_count": 43,
   "metadata": {},
   "outputs": [
    {
     "data": {
      "text/html": [
       "<div>\n",
       "<style scoped>\n",
       "    .dataframe tbody tr th:only-of-type {\n",
       "        vertical-align: middle;\n",
       "    }\n",
       "\n",
       "    .dataframe tbody tr th {\n",
       "        vertical-align: top;\n",
       "    }\n",
       "\n",
       "    .dataframe thead th {\n",
       "        text-align: right;\n",
       "    }\n",
       "</style>\n",
       "<table border=\"1\" class=\"dataframe\">\n",
       "  <thead>\n",
       "    <tr style=\"text-align: right;\">\n",
       "      <th></th>\n",
       "      <th>0</th>\n",
       "      <th>1</th>\n",
       "      <th>2</th>\n",
       "      <th>3</th>\n",
       "      <th>4</th>\n",
       "    </tr>\n",
       "  </thead>\n",
       "  <tbody>\n",
       "    <tr>\n",
       "      <th>0</th>\n",
       "      <td>-0.980577</td>\n",
       "      <td>0.209055</td>\n",
       "      <td>0.123220</td>\n",
       "      <td>0.070697</td>\n",
       "      <td>-0.007073</td>\n",
       "    </tr>\n",
       "    <tr>\n",
       "      <th>1</th>\n",
       "      <td>-0.486803</td>\n",
       "      <td>-0.774142</td>\n",
       "      <td>0.099241</td>\n",
       "      <td>-0.102852</td>\n",
       "      <td>-0.001436</td>\n",
       "    </tr>\n",
       "    <tr>\n",
       "      <th>2</th>\n",
       "      <td>-0.771676</td>\n",
       "      <td>0.544213</td>\n",
       "      <td>-0.140079</td>\n",
       "      <td>-0.094755</td>\n",
       "      <td>-0.002875</td>\n",
       "    </tr>\n",
       "    <tr>\n",
       "      <th>3</th>\n",
       "      <td>-0.981556</td>\n",
       "      <td>0.187401</td>\n",
       "      <td>0.059493</td>\n",
       "      <td>0.008361</td>\n",
       "      <td>0.010083</td>\n",
       "    </tr>\n",
       "    <tr>\n",
       "      <th>4</th>\n",
       "      <td>-0.666531</td>\n",
       "      <td>-0.648192</td>\n",
       "      <td>-0.179192</td>\n",
       "      <td>0.068500</td>\n",
       "      <td>-0.000064</td>\n",
       "    </tr>\n",
       "  </tbody>\n",
       "</table>\n",
       "</div>"
      ],
      "text/plain": [
       "          0         1         2         3         4\n",
       "0 -0.980577  0.209055  0.123220  0.070697 -0.007073\n",
       "1 -0.486803 -0.774142  0.099241 -0.102852 -0.001436\n",
       "2 -0.771676  0.544213 -0.140079 -0.094755 -0.002875\n",
       "3 -0.981556  0.187401  0.059493  0.008361  0.010083\n",
       "4 -0.666531 -0.648192 -0.179192  0.068500 -0.000064"
      ]
     },
     "execution_count": 43,
     "metadata": {},
     "output_type": "execute_result"
    }
   ],
   "source": [
    "loadings = C * np.sqrt(D_o)\n",
    "pd.DataFrame(loadings)"
   ]
  },
  {
   "cell_type": "code",
   "execution_count": 19,
   "metadata": {},
   "outputs": [
    {
     "data": {
      "text/plain": [
       "array([[-0.78859185, -0.13680245,  0.19148531,  0.18636648, -0.5366646 ],\n",
       "       [-0.10285153, -0.12331285, -0.68428658, -0.65061165, -0.28752715],\n",
       "       [ 0.20127883,  0.61600625, -0.40895166,  0.47347196, -0.4342879 ],\n",
       "       [ 0.53674354, -0.62062607,  0.0960492 ,  0.16927454, -0.53744798],\n",
       "       [ 0.19732626,  0.44881913,  0.56446288, -0.53771969, -0.38969594]])"
      ]
     },
     "execution_count": 19,
     "metadata": {},
     "output_type": "execute_result"
    }
   ],
   "source": [
    "\n",
    "\n",
    "from numpy.linalg import eigh\n",
    "eigenvalues, eigenvectors = eigh(correlacion)\n",
    "\n",
    "eigenvectors\n"
   ]
  },
  {
   "cell_type": "code",
   "execution_count": 21,
   "metadata": {},
   "outputs": [
    {
     "data": {
      "text/plain": [
       "[3.263245029034827,\n",
       " 1.5383125277506948,\n",
       " 0.16785005049901378,\n",
       " 0.03059239271546363,\n",
       " 1.1057635293408557e-16]"
      ]
     },
     "execution_count": 21,
     "metadata": {},
     "output_type": "execute_result"
    }
   ],
   "source": [
    "C, D, V = np.linalg.svd(correlacion, full_matrices=False)\n",
    "D_o = sorted(D, reverse=True)\n",
    "D_o"
   ]
  },
  {
   "cell_type": "code",
   "execution_count": 12,
   "metadata": {},
   "outputs": [
    {
     "data": {
      "text/plain": [
       "array([[-0.53673007,  0.18598191,  0.18991841, -0.12479313, -0.79100521],\n",
       "       [-0.28746718, -0.65056657, -0.68488713, -0.11981409, -0.10344059],\n",
       "       [-0.43435455,  0.47368768, -0.40694897,  0.61366343,  0.2115794 ],\n",
       "       [-0.53739095,  0.16927968,  0.09532905, -0.62938958,  0.52662747],\n",
       "       [-0.38965441, -0.53771576,  0.5658317 ,  0.44424905,  0.20373628]])"
      ]
     },
     "execution_count": 12,
     "metadata": {},
     "output_type": "execute_result"
    }
   ],
   "source": [
    "C"
   ]
  },
  {
   "cell_type": "code",
   "execution_count": 22,
   "metadata": {},
   "outputs": [
    {
     "data": {
      "text/plain": [
       "array([[-9.69455305e-01,  2.31147968e-01,  7.84505865e-02,\n",
       "        -2.39276806e-02, -8.29246060e-09],\n",
       "       [-5.19402104e-01, -8.06945347e-01, -2.80348839e-01,\n",
       "        -2.15682580e-02, -1.08153830e-09],\n",
       "       [-7.84517390e-01,  5.87241242e-01, -1.67545477e-01,\n",
       "         1.07743689e-01,  2.11655338e-09],\n",
       "       [-9.70870447e-01,  2.09949055e-01,  3.93508828e-02,\n",
       "        -1.08551727e-01,  5.64414236e-09],\n",
       "       [-7.03964442e-01, -6.66926884e-01,  2.31257661e-01,\n",
       "         7.85015230e-02,  2.07499008e-09]])"
      ]
     },
     "execution_count": 22,
     "metadata": {},
     "output_type": "execute_result"
    }
   ],
   "source": [
    "loadings = C * np.sqrt(D_o)\n",
    "loadings"
   ]
  },
  {
   "cell_type": "code",
   "execution_count": 16,
   "metadata": {},
   "outputs": [
    {
     "data": {
      "text/plain": [
       "array([1., 1., 1., 1., 1.])"
      ]
     },
     "execution_count": 16,
     "metadata": {},
     "output_type": "execute_result"
    }
   ],
   "source": [
    "array_cuadrado = np.square(loadings)\n",
    "\n",
    "# Sumar los cuadrados por cada fila\n",
    "suma_filas = np.sum(array_cuadrado, axis=1)\n",
    "suma_filas"
   ]
  },
  {
   "cell_type": "code",
   "execution_count": 51,
   "metadata": {},
   "outputs": [
    {
     "name": "stderr",
     "output_type": "stream",
     "text": [
      "C:\\Users\\HP\\AppData\\Local\\Temp\\ipykernel_13820\\3666724846.py:11: InvalidColumnName: \n",
      "Not all pandas column names were valid Stata variable names.\n",
      "The following replacements have been made:\n",
      "\n",
      "    0   ->   _0\n",
      "    1   ->   _1\n",
      "    2   ->   _2\n",
      "    3   ->   _3\n",
      "    4   ->   _4\n",
      "\n",
      "If this is not what you expect, please make sure you have Stata-compliant\n",
      "column names in your DataFrame (strings only, max 32 characters, only\n",
      "alphanumerics and underscores, no Stata reserved words)\n",
      "\n",
      "  pd.DataFrame(data).to_stata(r\"C:\\Users\\HP\\OneDrive\\Escritorio\\David Guzzi\\DiTella\\MEC\\Materias\\2024 2T\\[MT04] Análisis Estadístico Multivariado\\Guías prácticas\\Problem Set 5-20240906\\FA.dta\")\n"
     ]
    }
   ],
   "source": [
    "data = np.array([\n",
    "    [1, 5, 5, 1, 1],\n",
    "    [8, 9, 7, 9, 8],\n",
    "    [9, 8, 9, 9, 8],\n",
    "    [9, 9, 9, 9, 9],\n",
    "    [1, 9, 1, 1, 9],\n",
    "    [9, 7, 7, 9, 9],\n",
    "    [9, 7, 9, 9, 7]\n",
    "])\n",
    "\n",
    "pd.DataFrame(data).to_stata(r\"C:\\Users\\HP\\OneDrive\\Escritorio\\David Guzzi\\DiTella\\MEC\\Materias\\2024 2T\\[MT04] Análisis Estadístico Multivariado\\Guías prácticas\\Problem Set 5-20240906\\FA.dta\")"
   ]
  },
  {
   "cell_type": "code",
   "execution_count": 14,
   "metadata": {},
   "outputs": [],
   "source": [
    "final = pd.read_excel(r\"C:\\Users\\HP\\OneDrive\\Escritorio\\David Guzzi\\Github\\MECMT04\\TP AEM - database.xlsx\")\n",
    "\n",
    "final.columns = [f\"X{i}\" for i in range(len(final.columns))]\n",
    "\n",
    "# final.to_stata(r\"C:\\Users\\HP\\OneDrive\\Escritorio\\David Guzzi\\DiTella\\MEC\\Materias\\2024 2T\\[MT04] Análisis Estadístico Multivariado\\Guías prácticas\\Problem Set 5-20240906\\final.dta\")"
   ]
  },
  {
   "cell_type": "code",
   "execution_count": 76,
   "metadata": {},
   "outputs": [
    {
     "data": {
      "text/html": [
       "<div>\n",
       "<style scoped>\n",
       "    .dataframe tbody tr th:only-of-type {\n",
       "        vertical-align: middle;\n",
       "    }\n",
       "\n",
       "    .dataframe tbody tr th {\n",
       "        vertical-align: top;\n",
       "    }\n",
       "\n",
       "    .dataframe thead th {\n",
       "        text-align: right;\n",
       "    }\n",
       "</style>\n",
       "<table border=\"1\" class=\"dataframe\">\n",
       "  <thead>\n",
       "    <tr style=\"text-align: right;\">\n",
       "      <th></th>\n",
       "      <th>X0</th>\n",
       "      <th>X1</th>\n",
       "      <th>X2</th>\n",
       "      <th>X3</th>\n",
       "      <th>X4</th>\n",
       "      <th>X5</th>\n",
       "      <th>X6</th>\n",
       "      <th>X7</th>\n",
       "      <th>X8</th>\n",
       "    </tr>\n",
       "  </thead>\n",
       "  <tbody>\n",
       "    <tr>\n",
       "      <th>0</th>\n",
       "      <td>Argentina</td>\n",
       "      <td>ARG</td>\n",
       "      <td>42.5908</td>\n",
       "      <td>14.9117</td>\n",
       "      <td>0.8813</td>\n",
       "      <td>1.0457</td>\n",
       "      <td>5.3186</td>\n",
       "      <td>7.3309</td>\n",
       "      <td>8.0090</td>\n",
       "    </tr>\n",
       "    <tr>\n",
       "      <th>1</th>\n",
       "      <td>Australia</td>\n",
       "      <td>AUS</td>\n",
       "      <td>47.1238</td>\n",
       "      <td>3.9746</td>\n",
       "      <td>2.1059</td>\n",
       "      <td>0.6622</td>\n",
       "      <td>2.1131</td>\n",
       "      <td>2.5583</td>\n",
       "      <td>13.8760</td>\n",
       "    </tr>\n",
       "    <tr>\n",
       "      <th>2</th>\n",
       "      <td>Austria</td>\n",
       "      <td>AUT</td>\n",
       "      <td>32.1281</td>\n",
       "      <td>16.0631</td>\n",
       "      <td>1.5208</td>\n",
       "      <td>1.8149</td>\n",
       "      <td>1.0524</td>\n",
       "      <td>3.6561</td>\n",
       "      <td>41.4850</td>\n",
       "    </tr>\n",
       "    <tr>\n",
       "      <th>3</th>\n",
       "      <td>Belgium</td>\n",
       "      <td>BEL</td>\n",
       "      <td>44.7960</td>\n",
       "      <td>28.3120</td>\n",
       "      <td>1.2331</td>\n",
       "      <td>1.0485</td>\n",
       "      <td>0.6700</td>\n",
       "      <td>0.9196</td>\n",
       "      <td>1.9590</td>\n",
       "    </tr>\n",
       "    <tr>\n",
       "      <th>4</th>\n",
       "      <td>Canada</td>\n",
       "      <td>CAN</td>\n",
       "      <td>6.4344</td>\n",
       "      <td>4.3107</td>\n",
       "      <td>3.6934</td>\n",
       "      <td>0.8181</td>\n",
       "      <td>1.6971</td>\n",
       "      <td>1.5105</td>\n",
       "      <td>18.5180</td>\n",
       "    </tr>\n",
       "  </tbody>\n",
       "</table>\n",
       "</div>"
      ],
      "text/plain": [
       "          X0   X1      X2      X3     X4     X5     X6     X7      X8\n",
       "0  Argentina  ARG 42.5908 14.9117 0.8813 1.0457 5.3186 7.3309  8.0090\n",
       "1  Australia  AUS 47.1238  3.9746 2.1059 0.6622 2.1131 2.5583 13.8760\n",
       "2    Austria  AUT 32.1281 16.0631 1.5208 1.8149 1.0524 3.6561 41.4850\n",
       "3    Belgium  BEL 44.7960 28.3120 1.2331 1.0485 0.6700 0.9196  1.9590\n",
       "4     Canada  CAN  6.4344  4.3107 3.6934 0.8181 1.6971 1.5105 18.5180"
      ]
     },
     "execution_count": 76,
     "metadata": {},
     "output_type": "execute_result"
    }
   ],
   "source": [
    "final.head()"
   ]
  },
  {
   "cell_type": "code",
   "execution_count": 77,
   "metadata": {},
   "outputs": [
    {
     "data": {
      "text/html": [
       "<div>\n",
       "<style scoped>\n",
       "    .dataframe tbody tr th:only-of-type {\n",
       "        vertical-align: middle;\n",
       "    }\n",
       "\n",
       "    .dataframe tbody tr th {\n",
       "        vertical-align: top;\n",
       "    }\n",
       "\n",
       "    .dataframe thead th {\n",
       "        text-align: right;\n",
       "    }\n",
       "</style>\n",
       "<table border=\"1\" class=\"dataframe\">\n",
       "  <thead>\n",
       "    <tr style=\"text-align: right;\">\n",
       "      <th></th>\n",
       "      <th>0</th>\n",
       "      <th>1</th>\n",
       "      <th>2</th>\n",
       "      <th>3</th>\n",
       "      <th>4</th>\n",
       "      <th>5</th>\n",
       "      <th>6</th>\n",
       "    </tr>\n",
       "  </thead>\n",
       "  <tbody>\n",
       "    <tr>\n",
       "      <th>0</th>\n",
       "      <td>-0.3620</td>\n",
       "      <td>-0.5729</td>\n",
       "      <td>0.3125</td>\n",
       "      <td>-0.2164</td>\n",
       "      <td>0.1097</td>\n",
       "      <td>-0.0770</td>\n",
       "      <td>-0.0963</td>\n",
       "    </tr>\n",
       "    <tr>\n",
       "      <th>1</th>\n",
       "      <td>-0.5573</td>\n",
       "      <td>-0.6024</td>\n",
       "      <td>-0.0920</td>\n",
       "      <td>0.2949</td>\n",
       "      <td>0.1548</td>\n",
       "      <td>0.0332</td>\n",
       "      <td>0.0562</td>\n",
       "    </tr>\n",
       "    <tr>\n",
       "      <th>2</th>\n",
       "      <td>0.4277</td>\n",
       "      <td>0.0578</td>\n",
       "      <td>-0.4933</td>\n",
       "      <td>0.1525</td>\n",
       "      <td>0.1836</td>\n",
       "      <td>-0.1280</td>\n",
       "      <td>-0.0935</td>\n",
       "    </tr>\n",
       "    <tr>\n",
       "      <th>3</th>\n",
       "      <td>-0.0015</td>\n",
       "      <td>-0.4064</td>\n",
       "      <td>-0.6090</td>\n",
       "      <td>-0.2837</td>\n",
       "      <td>-0.0612</td>\n",
       "      <td>-0.0261</td>\n",
       "      <td>0.0549</td>\n",
       "    </tr>\n",
       "    <tr>\n",
       "      <th>4</th>\n",
       "      <td>0.8288</td>\n",
       "      <td>-0.3121</td>\n",
       "      <td>0.1079</td>\n",
       "      <td>-0.0507</td>\n",
       "      <td>0.1651</td>\n",
       "      <td>0.2626</td>\n",
       "      <td>0.0063</td>\n",
       "    </tr>\n",
       "    <tr>\n",
       "      <th>5</th>\n",
       "      <td>0.7171</td>\n",
       "      <td>-0.4543</td>\n",
       "      <td>0.2437</td>\n",
       "      <td>0.0964</td>\n",
       "      <td>-0.1480</td>\n",
       "      <td>-0.2293</td>\n",
       "      <td>0.0380</td>\n",
       "    </tr>\n",
       "    <tr>\n",
       "      <th>6</th>\n",
       "      <td>-0.0502</td>\n",
       "      <td>-0.3159</td>\n",
       "      <td>-0.1551</td>\n",
       "      <td>0.1343</td>\n",
       "      <td>-0.3320</td>\n",
       "      <td>0.1569</td>\n",
       "      <td>-0.0813</td>\n",
       "    </tr>\n",
       "  </tbody>\n",
       "</table>\n",
       "</div>"
      ],
      "text/plain": [
       "        0       1       2       3       4       5       6\n",
       "0 -0.3620 -0.5729  0.3125 -0.2164  0.1097 -0.0770 -0.0963\n",
       "1 -0.5573 -0.6024 -0.0920  0.2949  0.1548  0.0332  0.0562\n",
       "2  0.4277  0.0578 -0.4933  0.1525  0.1836 -0.1280 -0.0935\n",
       "3 -0.0015 -0.4064 -0.6090 -0.2837 -0.0612 -0.0261  0.0549\n",
       "4  0.8288 -0.3121  0.1079 -0.0507  0.1651  0.2626  0.0063\n",
       "5  0.7171 -0.4543  0.2437  0.0964 -0.1480 -0.2293  0.0380\n",
       "6 -0.0502 -0.3159 -0.1551  0.1343 -0.3320  0.1569 -0.0813"
      ]
     },
     "execution_count": 77,
     "metadata": {},
     "output_type": "execute_result"
    }
   ],
   "source": [
    "final = final.iloc[:,2:].values\n",
    "data_cor = np.corrcoef(final, rowvar=False)\n",
    "data_inv = np.linalg.inv(data_cor)\n",
    "data_inv_d = np.diag(data_inv)\n",
    "com = 1 - (1/data_inv_d)\n",
    "np.fill_diagonal(data_cor, com)\n",
    "C, D, V = np.linalg.svd(data_cor, full_matrices=False, hermitian=True)\n",
    "loadings = C * np.sqrt(D)\n",
    "pd.DataFrame(loadings)"
   ]
  },
  {
   "cell_type": "code",
   "execution_count": 59,
   "metadata": {},
   "outputs": [
    {
     "data": {
      "text/plain": [
       "array([[-0.2678, -0.5098,  0.3461, -0.4184,  0.2274, -0.1867, -0.5358],\n",
       "       [-0.4122, -0.536 , -0.1019,  0.5702,  0.3207,  0.0804,  0.3129],\n",
       "       [ 0.3163,  0.0515, -0.5463,  0.2948,  0.3804, -0.3101, -0.5206],\n",
       "       [-0.0011, -0.3615, -0.6744, -0.5486, -0.1268, -0.0632,  0.3056],\n",
       "       [ 0.6129, -0.2777,  0.1194, -0.0981,  0.3422,  0.6364,  0.0351],\n",
       "       [ 0.5304, -0.4042,  0.2698,  0.1864, -0.3068, -0.5558,  0.2117],\n",
       "       [-0.0372, -0.2811, -0.1718,  0.2598, -0.6881,  0.3803, -0.4523]])"
      ]
     },
     "execution_count": 59,
     "metadata": {},
     "output_type": "execute_result"
    }
   ],
   "source": [
    "C"
   ]
  },
  {
   "cell_type": "code",
   "execution_count": 54,
   "metadata": {},
   "outputs": [
    {
     "data": {
      "text/plain": [
       "array([0.0323, 0.1703, 0.2328, 0.2674, 0.8155, 1.2632, 1.8282])"
      ]
     },
     "execution_count": 54,
     "metadata": {},
     "output_type": "execute_result"
    }
   ],
   "source": [
    "np.sort(D)"
   ]
  },
  {
   "cell_type": "code",
   "execution_count": 68,
   "metadata": {},
   "outputs": [
    {
     "name": "stderr",
     "output_type": "stream",
     "text": [
      "C:\\Users\\HP\\AppData\\Local\\Temp\\ipykernel_11736\\3228913241.py:5: RuntimeWarning: invalid value encountered in sqrt\n",
      "  eigenvectors * np.sqrt(eigenvalues)\n"
     ]
    },
    {
     "data": {
      "text/plain": [
       "array([[    nan,     nan,     nan,  0.1097,  0.3125, -0.5729, -0.362 ],\n",
       "       [    nan,     nan,     nan,  0.1548, -0.092 , -0.6024, -0.5573],\n",
       "       [    nan,     nan,     nan,  0.1836, -0.4933,  0.0578,  0.4277],\n",
       "       [    nan,     nan,     nan, -0.0612, -0.609 , -0.4064, -0.0015],\n",
       "       [    nan,     nan,     nan,  0.1651,  0.1079, -0.3121,  0.8288],\n",
       "       [    nan,     nan,     nan, -0.148 ,  0.2437, -0.4543,  0.7171],\n",
       "       [    nan,     nan,     nan, -0.332 , -0.1551, -0.3159, -0.0502]])"
      ]
     },
     "execution_count": 68,
     "metadata": {},
     "output_type": "execute_result"
    }
   ],
   "source": [
    "from numpy.linalg import eigh\n",
    "eigenvalues, eigenvectors = eigh(data_cor)\n",
    "np.sort(eigenvalues)\n",
    "\n",
    "eigenvectors * np.sqrt(eigenvalues)"
   ]
  },
  {
   "cell_type": "code",
   "execution_count": 61,
   "metadata": {},
   "outputs": [
    {
     "data": {
      "text/plain": [
       "array([-0.2674, -0.1703, -0.0323,  0.2328,  0.8155,  1.2632,  1.8282])"
      ]
     },
     "execution_count": 61,
     "metadata": {},
     "output_type": "execute_result"
    }
   ],
   "source": [
    "eigenvalues"
   ]
  },
  {
   "cell_type": "code",
   "execution_count": 60,
   "metadata": {},
   "outputs": [
    {
     "name": "stderr",
     "output_type": "stream",
     "text": [
      "C:\\Users\\HP\\AppData\\Local\\Temp\\ipykernel_11736\\3645955264.py:1: RuntimeWarning: invalid value encountered in sqrt\n",
      "  loadings3 = C * np.sqrt(eigenvalues)\n"
     ]
    },
    {
     "data": {
      "text/plain": [
       "array([[    nan,     nan,     nan, -0.2019,  0.2053, -0.2098, -0.7245],\n",
       "       [    nan,     nan,     nan,  0.2751,  0.2896,  0.0904,  0.4231],\n",
       "       [    nan,     nan,     nan,  0.1422,  0.3435, -0.3485, -0.7039],\n",
       "       [    nan,     nan,     nan, -0.2647, -0.1145, -0.0711,  0.4132],\n",
       "       [    nan,     nan,     nan, -0.0473,  0.309 ,  0.7153,  0.0474],\n",
       "       [    nan,     nan,     nan,  0.09  , -0.277 , -0.6247,  0.2862],\n",
       "       [    nan,     nan,     nan,  0.1253, -0.6213,  0.4274, -0.6115]])"
      ]
     },
     "execution_count": 60,
     "metadata": {},
     "output_type": "execute_result"
    }
   ],
   "source": [
    "loadings3 = C * np.sqrt(eigenvalues)\n",
    "loadings3"
   ]
  },
  {
   "cell_type": "code",
   "execution_count": 56,
   "metadata": {},
   "outputs": [
    {
     "name": "stdout",
     "output_type": "stream",
     "text": [
      "Loadings:\n",
      "           0         1         2         3         4         5         6\n",
      "0 -0.362026  0.572944 -0.312506 -0.216358 -0.109711 -0.077034  0.096279\n",
      "1 -0.557272  0.602441  0.092032  0.294884 -0.154758  0.033189 -0.056226\n",
      "2  0.427731 -0.057843  0.493310  0.152453 -0.183555 -0.127969  0.093550\n",
      "3 -0.001547  0.406351  0.609016 -0.283701  0.061187 -0.026100 -0.054910\n",
      "4  0.828759  0.312065 -0.107862 -0.050714 -0.165089  0.262619 -0.006299\n",
      "5  0.717103  0.454272 -0.243655  0.096408  0.148018 -0.229342 -0.038032\n",
      "6 -0.050240  0.315936  0.155129  0.134338  0.331991  0.156915  0.081274\n"
     ]
    }
   ],
   "source": [
    "import pandas as pd\n",
    "import numpy as np\n",
    "from scipy.linalg import eigh\n",
    "\n",
    "# Cargar los datos desde el archivo Excel\n",
    "final = pd.read_excel(r\"C:\\Users\\HP\\OneDrive\\Escritorio\\David Guzzi\\Github\\MECMT04\\TP AEM - database.xlsx\")\n",
    "\n",
    "# Renombrar las columnas\n",
    "final.columns = [f\"X{i}\" for i in range(len(final.columns))]\n",
    "\n",
    "# Seleccionar los datos a partir de la tercera columna\n",
    "final = final.iloc[:, 2:].values\n",
    "\n",
    "# Calcular la matriz de correlación\n",
    "data_cor = np.corrcoef(final, rowvar=False)\n",
    "\n",
    "# Calcular la matriz inversa de la correlación\n",
    "data_inv = np.linalg.inv(data_cor)\n",
    "data_inv_d = np.diag(data_inv)\n",
    "\n",
    "# Calcular la matriz de comunalidades\n",
    "com = 1 - (1 / data_inv_d)\n",
    "\n",
    "# Rellenar la diagonal de la matriz de correlación\n",
    "np.fill_diagonal(data_cor, com)\n",
    "\n",
    "# # Paso 1: Descomposición SVD\n",
    "# C, D, V = np.linalg.svd(data_cor, full_matrices=False)\n",
    "\n",
    "from sklearn.utils.extmath import randomized_svd\n",
    "C, D, V = randomized_svd(data_cor, n_components=17, random_state=1234567890)\n",
    "\n",
    "# Paso 2: Obtener autovalores y autovectores\n",
    "eigenvalues, eigenvectors = eigh(data_cor)\n",
    "\n",
    "# Paso 3: Filtrar y ordenar autovalores positivos\n",
    "# positive_indices = eigenvalues > 0\n",
    "# sorted_indices = np.argsort(eigenvalues[positive_indices])[::-1]  # Índices para ordenar de mayor a menor\n",
    "# positive_eigenvalues = eigenvalues[positive_indices][sorted_indices]\n",
    "\n",
    "# Filtrar los autovectores de SVD (C) usando los índices positivos\n",
    "\n",
    "\n",
    "# Paso 4: Realizar la multiplicación para obtener los loadings\n",
    "loadings = C * np.sqrt(D)\n",
    "loadings = loadings[:, ~np.isnan(loadings).any(axis=0)]\n",
    "\n",
    "# Resultados\n",
    "# print(\"Autovalores positivos ordenados:\", positive_eigenvalues)\n",
    "# print(\"Autovectores de SVD correspondientes ordenados:\\n\", eigenvectors)\n",
    "print(\"Loadings:\\n\", pd.DataFrame(loadings))\n"
   ]
  },
  {
   "cell_type": "code",
   "execution_count": 12,
   "metadata": {},
   "outputs": [],
   "source": [
    "from sklearn.utils.extmath import randomized_svd\n",
    "from tabulate import tabulate\n",
    "import textwrap\n",
    "\n",
    "def principal_factor_method(X, n_components = None):\n",
    "        \"\"\"\n",
    "        Returns the loading matrix of the specified number of principal components.\n",
    "        If not specified retuns for all the components whose Eigen value greater than 0\n",
    "        \"\"\"\n",
    "\n",
    "        X_corr = np.corrcoef(X, rowvar=False)\n",
    "        X_corr_inv = np.linalg.inv(X_corr)\n",
    "        X_corr_inv_diag = np.diag(X_corr_inv)\n",
    "        R = 1 - (1 / X_corr_inv_diag)\n",
    "        np.fill_diagonal(X_corr, R)\n",
    "        eigenvalues, _ = np.linalg.eig(X_corr)\n",
    "        #agregar la otra opción. \n",
    "        eigenvectors, eigenvalues_p, _ = randomized_svd(X_corr, n_components=X_corr.shape[1], random_state=1234567890)     \n",
    "        \n",
    "        loadings = eigenvectors * np.sqrt(eigenvalues_p)\n",
    "        positive_filter = np.array([i for i, value in enumerate(np.round(eigenvalues_p, decimals=10)) if value in np.round(eigenvalues, decimals=10)])\n",
    "        postive_loadings = loadings[:, positive_filter]\n",
    "\n",
    "        if n_components == None:\n",
    "            postive_loadings\n",
    "        else:\n",
    "            postive_loadings = postive_loadings[:, :n_components]\n",
    "                    \n",
    "        loadings_matrix = pd.DataFrame(postive_loadings, columns=[f\"Factor {i+1}\" for i in range(postive_loadings.shape[1])], index=[f\"x{i+1}\" for i in range(postive_loadings.shape[0])]).reset_index(names='Variable')\n",
    "        communalities, uniquenesses = np.sum((postive_loadings**2), axis=1), 1 - np.sum((postive_loadings**2), axis=1)\n",
    "        loadings_matrix = pd.concat([loadings_matrix, pd.DataFrame(uniquenesses, columns=['Uniqueness']), pd.DataFrame(communalities, columns=['Communality'])], axis=1)\n",
    "        eigenv_matrix = pd.DataFrame(np.sort(eigenvalues)[::-1], columns=['Eigenvalue'], index=[f\"Factor {i+1}\" for i in range(eigenvalues.shape[0])]).reset_index(names='Factor')\n",
    "        eigenv_proportion = [np.sort(eigenvalues)[::-1][i] / np.sum(np.sort(eigenvalues)[::-1]) for i in range(len(eigenvalues))]\n",
    "        eigenv_proportion_cs = np.cumsum(eigenv_proportion)\n",
    "        eigenv_matrix = pd.concat([eigenv_matrix, pd.DataFrame(eigenv_proportion, columns=['Proportion']), pd.DataFrame(eigenv_proportion_cs, columns=['Cumulative'])], axis=1)\n",
    "\n",
    "        # print(f\"-------------Resultados de Factor Analysis-------------\")\n",
    "        # print(tabulate(eigenv_matrix, headers='keys', tablefmt=\"fancy_grid\", showindex=False, floatfmt=\".4f\"))\n",
    "        # print(f\"-------------------------------------------------------\")\n",
    "        # print(tabulate(loadings_matrix, headers='keys', tablefmt=\"fancy_grid\", showindex=False, floatfmt=\".4f\"))\n",
    "        # Definir las tablas como cadenas\n",
    "        eigenv_table = tabulate(eigenv_matrix, headers='keys', tablefmt=\"fancy_grid\", showindex=False, floatfmt=\".4f\")\n",
    "        loadings_table = tabulate(loadings_matrix, headers='keys', tablefmt=\"fancy_grid\", showindex=False, floatfmt=\".4f\")\n",
    "\n",
    "        # Separar las líneas de cada tabla\n",
    "        eigenv_lines = eigenv_table.splitlines()\n",
    "        loadings_lines = loadings_table.splitlines()\n",
    "\n",
    "        # Asegurarse de que ambas tengan la misma cantidad de líneas\n",
    "        max_lines = max(len(eigenv_lines), len(loadings_lines))\n",
    "        eigenv_lines += [''] * (max_lines - len(eigenv_lines))\n",
    "        loadings_lines += [''] * (max_lines - len(loadings_lines))\n",
    "\n",
    "        # Combinar ambas tablas en una sola salida\n",
    "        combined_output = \"\\n\".join(f\"{eigenv: <40}   {loading}\" for eigenv, loading in zip(eigenv_lines, loadings_lines))\n",
    "        bold_start = \"\\033[1m\"\n",
    "        bold_end = \"\\033[0m\"\n",
    "        # Imprimir el resultado\n",
    "        print(f\"{bold_start}Resultados de Factor Analysis{bold_end}\")\n",
    "        print(combined_output)"
   ]
  },
  {
   "cell_type": "code",
   "execution_count": 2,
   "metadata": {},
   "outputs": [],
   "source": [
    "import pandas as pd\n",
    "import pyreadstat as st\n",
    "import pingouin as pg\n",
    "import numpy as np\n",
    "\n",
    "path = r\"C:\\Users\\HP\\OneDrive\\Escritorio\\David Guzzi\\Github\\MECMT04\\problem_set_5\\ind.dta\"\n",
    "\n",
    "df, meta = st.read_dta(path)"
   ]
  },
  {
   "cell_type": "code",
   "execution_count": 354,
   "metadata": {},
   "outputs": [
    {
     "data": {
      "text/html": [
       "<div>\n",
       "<style scoped>\n",
       "    .dataframe tbody tr th:only-of-type {\n",
       "        vertical-align: middle;\n",
       "    }\n",
       "\n",
       "    .dataframe tbody tr th {\n",
       "        vertical-align: top;\n",
       "    }\n",
       "\n",
       "    .dataframe thead th {\n",
       "        text-align: right;\n",
       "    }\n",
       "</style>\n",
       "<table border=\"1\" class=\"dataframe\">\n",
       "  <thead>\n",
       "    <tr style=\"text-align: right;\">\n",
       "      <th></th>\n",
       "      <th>pais</th>\n",
       "      <th>x1</th>\n",
       "      <th>x2</th>\n",
       "      <th>x3</th>\n",
       "      <th>x4</th>\n",
       "      <th>x5</th>\n",
       "      <th>x6</th>\n",
       "      <th>x7</th>\n",
       "      <th>x8</th>\n",
       "      <th>x9</th>\n",
       "      <th>x10</th>\n",
       "      <th>x11</th>\n",
       "      <th>x12</th>\n",
       "      <th>x13</th>\n",
       "      <th>x14</th>\n",
       "      <th>x15</th>\n",
       "      <th>x16</th>\n",
       "      <th>x17</th>\n",
       "    </tr>\n",
       "  </thead>\n",
       "  <tbody>\n",
       "    <tr>\n",
       "      <th>0</th>\n",
       "      <td>Albania</td>\n",
       "      <td>41.7500</td>\n",
       "      <td>29.1300</td>\n",
       "      <td>0.6900</td>\n",
       "      <td>17.6000</td>\n",
       "      <td>2.3400</td>\n",
       "      <td>59.6000</td>\n",
       "      <td>7.3000</td>\n",
       "      <td>95.0000</td>\n",
       "      <td>37.4900</td>\n",
       "      <td>19.0100</td>\n",
       "      <td>4.3200</td>\n",
       "      <td>1.1400</td>\n",
       "      <td>73.3500</td>\n",
       "      <td>36.6000</td>\n",
       "      <td>22.0000</td>\n",
       "      <td>25.0000</td>\n",
       "      <td>-0.0500</td>\n",
       "    </tr>\n",
       "  </tbody>\n",
       "</table>\n",
       "</div>"
      ],
      "text/plain": [
       "      pais      x1      x2     x3      x4     x5      x6     x7      x8  \\\n",
       "0  Albania 41.7500 29.1300 0.6900 17.6000 2.3400 59.6000 7.3000 95.0000   \n",
       "\n",
       "       x9     x10    x11    x12     x13     x14     x15     x16     x17  \n",
       "0 37.4900 19.0100 4.3200 1.1400 73.3500 36.6000 22.0000 25.0000 -0.0500  "
      ]
     },
     "execution_count": 354,
     "metadata": {},
     "output_type": "execute_result"
    }
   ],
   "source": [
    "df.head(1)"
   ]
  },
  {
   "cell_type": "code",
   "execution_count": 17,
   "metadata": {},
   "outputs": [
    {
     "name": "stdout",
     "output_type": "stream",
     "text": [
      "\u001b[1mResultados de Factor Analysis\u001b[0m\n",
      "╒══════════╤══════════════╤══════════════╤══════════════╕   ╒════════════╤════════════╤════════════╤════════════╤════════════╤══════════════╤═══════════════╕\n",
      "│ Factor   │   Eigenvalue │   Proportion │   Cumulative │   │ Variable   │   Factor 1 │   Factor 2 │   Factor 3 │   Factor 4 │   Uniqueness │   Communality │\n",
      "╞══════════╪══════════════╪══════════════╪══════════════╡   ╞════════════╪════════════╪════════════╪════════════╪════════════╪══════════════╪═══════════════╡\n",
      "│ Factor 1 │       1.8282 │       0.4982 │       0.4982 │   │ x1         │    -0.3620 │     0.5729 │    -0.3125 │    -0.1097 │       0.4310 │        0.5690 │\n",
      "├──────────┼──────────────┼──────────────┼──────────────┤   ├────────────┼────────────┼────────────┼────────────┼────────────┼──────────────┼───────────────┤\n",
      "│ Factor 2 │       1.2632 │       0.3442 │       0.8424 │   │ x2         │    -0.5573 │     0.6024 │     0.0920 │    -0.1548 │       0.2941 │        0.7059 │\n",
      "├──────────┼──────────────┼──────────────┼──────────────┤   ├────────────┼────────────┼────────────┼────────────┼────────────┼──────────────┼───────────────┤\n",
      "│ Factor 3 │       0.8155 │       0.2222 │       1.0646 │   │ x3         │     0.4277 │    -0.0578 │     0.4933 │    -0.1836 │       0.5367 │        0.4633 │\n",
      "├──────────┼──────────────┼──────────────┼──────────────┤   ├────────────┼────────────┼────────────┼────────────┼────────────┼──────────────┼───────────────┤\n",
      "│ Factor 4 │       0.2328 │       0.0634 │       1.1281 │   │ x4         │    -0.0015 │     0.4064 │     0.6090 │     0.0612 │       0.4602 │        0.5398 │\n",
      "├──────────┼──────────────┼──────────────┼──────────────┤   ├────────────┼────────────┼────────────┼────────────┼────────────┼──────────────┼───────────────┤\n",
      "│ Factor 5 │      -0.0323 │      -0.0088 │       1.1193 │   │ x5         │     0.8288 │     0.3121 │    -0.1079 │    -0.1651 │       0.1769 │        0.8231 │\n",
      "├──────────┼──────────────┼──────────────┼──────────────┤   ├────────────┼────────────┼────────────┼────────────┼────────────┼──────────────┼───────────────┤\n",
      "│ Factor 6 │      -0.1703 │      -0.0464 │       1.0729 │   │ x6         │     0.7171 │     0.4543 │    -0.2437 │     0.1480 │       0.1981 │        0.8019 │\n",
      "├──────────┼──────────────┼──────────────┼──────────────┤   ├────────────┼────────────┼────────────┼────────────┼────────────┼──────────────┼───────────────┤\n",
      "│ Factor 7 │      -0.2674 │      -0.0729 │       1.0000 │   │ x7         │    -0.0502 │     0.3159 │     0.1551 │     0.3320 │       0.7634 │        0.2366 │\n",
      "╘══════════╧══════════════╧══════════════╧══════════════╛   ╘════════════╧════════════╧════════════╧════════════╧════════════╧══════════════╧═══════════════╛\n"
     ]
    }
   ],
   "source": [
    "principal_factor_method(final.iloc[:,2:].values)"
   ]
  },
  {
   "cell_type": "code",
   "execution_count": 30,
   "metadata": {},
   "outputs": [],
   "source": [
    "n_components = 4\n",
    "X_corr = np.corrcoef(final.iloc[:,2:].values, rowvar=False)\n",
    "X_corr_inv = np.linalg.inv(X_corr)\n",
    "X_corr_inv_diag = np.diag(X_corr_inv)\n",
    "R = 1 - (1 / X_corr_inv_diag)\n",
    "np.fill_diagonal(X_corr, R)\n",
    "eigenvalues, _ = np.linalg.eig(X_corr)\n",
    "#agregar la otra opción. \n",
    "eigenvectors, eigenvalues_p, _ = randomized_svd(X_corr, n_components=X_corr.shape[1], random_state=1234567890)     \n",
    "\n",
    "loadings = eigenvectors * np.sqrt(eigenvalues_p)\n",
    "positive_filter = np.array([i for i, value in enumerate(np.round(eigenvalues_p, decimals=10)) if value in np.round(eigenvalues, decimals=10)])\n",
    "postive_loadings = loadings[:, positive_filter]\n",
    "\n",
    "if n_components == None:\n",
    "    postive_loadings\n",
    "else:\n",
    "    postive_loadings = postive_loadings[:, :n_components]\n",
    "            \n",
    "loadings_matrix = pd.DataFrame(postive_loadings, columns=[f\"Factor {i+1}\" for i in range(postive_loadings.shape[1])], index=[f\"x{i+1}\" for i in range(postive_loadings.shape[0])]).reset_index(names='Variable')\n",
    "communalities, uniquenesses = np.sum((postive_loadings**2), axis=1), 1 - np.sum((postive_loadings**2), axis=1)\n",
    "loadings_matrix = pd.concat([loadings_matrix, pd.DataFrame(uniquenesses, columns=['Uniqueness']), pd.DataFrame(communalities, columns=['Communality'])], axis=1)\n",
    "eigenv_matrix = pd.DataFrame(np.sort(eigenvalues)[::-1], columns=['Eigenvalue'], index=[f\"Factor {i+1}\" for i in range(eigenvalues.shape[0])]).reset_index(names='Factor')\n",
    "eigenv_proportion = [np.sort(eigenvalues)[::-1][i] / np.sum(np.sort(eigenvalues)[::-1]) for i in range(len(eigenvalues))]\n",
    "eigenv_proportion_cs = np.cumsum(eigenv_proportion)\n",
    "eigenv_matrix = pd.concat([eigenv_matrix, pd.DataFrame(eigenv_proportion, columns=['Proportion']), pd.DataFrame(eigenv_proportion_cs, columns=['Cumulative'])], axis=1)\n",
    "\n",
    "ee = pd.DataFrame(postive_loadings @ postive_loadings.T + np.diag(uniquenesses))"
   ]
  },
  {
   "cell_type": "code",
   "execution_count": 29,
   "metadata": {},
   "outputs": [],
   "source": [
    "re = pd.DataFrame(np.corrcoef(final.iloc[:,2:].values, rowvar=False))"
   ]
  },
  {
   "cell_type": "code",
   "execution_count": 33,
   "metadata": {},
   "outputs": [
    {
     "data": {
      "text/html": [
       "<div>\n",
       "<style scoped>\n",
       "    .dataframe tbody tr th:only-of-type {\n",
       "        vertical-align: middle;\n",
       "    }\n",
       "\n",
       "    .dataframe tbody tr th {\n",
       "        vertical-align: top;\n",
       "    }\n",
       "\n",
       "    .dataframe thead th {\n",
       "        text-align: right;\n",
       "    }\n",
       "</style>\n",
       "<table border=\"1\" class=\"dataframe\">\n",
       "  <thead>\n",
       "    <tr style=\"text-align: right;\">\n",
       "      <th></th>\n",
       "      <th>0</th>\n",
       "      <th>1</th>\n",
       "      <th>2</th>\n",
       "      <th>3</th>\n",
       "      <th>4</th>\n",
       "      <th>5</th>\n",
       "      <th>6</th>\n",
       "    </tr>\n",
       "  </thead>\n",
       "  <tbody>\n",
       "    <tr>\n",
       "      <th>0</th>\n",
       "      <td>1.000000</td>\n",
       "      <td>0.606901</td>\n",
       "      <td>-0.307895</td>\n",
       "      <td>-0.021763</td>\n",
       "      <td>-0.059553</td>\n",
       "      <td>0.067420</td>\n",
       "      <td>0.147628</td>\n",
       "    </tr>\n",
       "    <tr>\n",
       "      <th>1</th>\n",
       "      <td>0.606901</td>\n",
       "      <td>1.000000</td>\n",
       "      <td>-0.234851</td>\n",
       "      <td>0.373682</td>\n",
       "      <td>-0.252337</td>\n",
       "      <td>-0.194236</td>\n",
       "      <td>0.140976</td>\n",
       "    </tr>\n",
       "    <tr>\n",
       "      <th>2</th>\n",
       "      <td>-0.307895</td>\n",
       "      <td>-0.234851</td>\n",
       "      <td>1.000000</td>\n",
       "      <td>0.310085</td>\n",
       "      <td>0.355457</td>\n",
       "      <td>0.092595</td>\n",
       "      <td>-0.032179</td>\n",
       "    </tr>\n",
       "    <tr>\n",
       "      <th>3</th>\n",
       "      <td>-0.021763</td>\n",
       "      <td>0.373682</td>\n",
       "      <td>0.310085</td>\n",
       "      <td>1.000000</td>\n",
       "      <td>0.041856</td>\n",
       "      <td>0.063429</td>\n",
       "      <td>0.289918</td>\n",
       "    </tr>\n",
       "    <tr>\n",
       "      <th>4</th>\n",
       "      <td>-0.059553</td>\n",
       "      <td>-0.252337</td>\n",
       "      <td>0.355457</td>\n",
       "      <td>0.041856</td>\n",
       "      <td>1.000000</td>\n",
       "      <td>0.802792</td>\n",
       "      <td>-0.048469</td>\n",
       "    </tr>\n",
       "    <tr>\n",
       "      <th>5</th>\n",
       "      <td>0.067420</td>\n",
       "      <td>-0.194236</td>\n",
       "      <td>0.092595</td>\n",
       "      <td>0.063429</td>\n",
       "      <td>0.802792</td>\n",
       "      <td>1.000000</td>\n",
       "      <td>0.144964</td>\n",
       "    </tr>\n",
       "    <tr>\n",
       "      <th>6</th>\n",
       "      <td>0.147628</td>\n",
       "      <td>0.140976</td>\n",
       "      <td>-0.032179</td>\n",
       "      <td>0.289918</td>\n",
       "      <td>-0.048469</td>\n",
       "      <td>0.144964</td>\n",
       "      <td>1.000000</td>\n",
       "    </tr>\n",
       "  </tbody>\n",
       "</table>\n",
       "</div>"
      ],
      "text/plain": [
       "          0         1         2         3         4         5         6\n",
       "0  1.000000  0.606901 -0.307895 -0.021763 -0.059553  0.067420  0.147628\n",
       "1  0.606901  1.000000 -0.234851  0.373682 -0.252337 -0.194236  0.140976\n",
       "2 -0.307895 -0.234851  1.000000  0.310085  0.355457  0.092595 -0.032179\n",
       "3 -0.021763  0.373682  0.310085  1.000000  0.041856  0.063429  0.289918\n",
       "4 -0.059553 -0.252337  0.355457  0.041856  1.000000  0.802792 -0.048469\n",
       "5  0.067420 -0.194236  0.092595  0.063429  0.802792  1.000000  0.144964\n",
       "6  0.147628  0.140976 -0.032179  0.289918 -0.048469  0.144964  1.000000"
      ]
     },
     "execution_count": 33,
     "metadata": {},
     "output_type": "execute_result"
    }
   ],
   "source": [
    "re"
   ]
  },
  {
   "cell_type": "code",
   "execution_count": 31,
   "metadata": {},
   "outputs": [
    {
     "data": {
      "text/html": [
       "<div>\n",
       "<style scoped>\n",
       "    .dataframe tbody tr th:only-of-type {\n",
       "        vertical-align: middle;\n",
       "    }\n",
       "\n",
       "    .dataframe tbody tr th {\n",
       "        vertical-align: top;\n",
       "    }\n",
       "\n",
       "    .dataframe thead th {\n",
       "        text-align: right;\n",
       "    }\n",
       "</style>\n",
       "<table border=\"1\" class=\"dataframe\">\n",
       "  <thead>\n",
       "    <tr style=\"text-align: right;\">\n",
       "      <th></th>\n",
       "      <th>0</th>\n",
       "      <th>1</th>\n",
       "      <th>2</th>\n",
       "      <th>3</th>\n",
       "      <th>4</th>\n",
       "      <th>5</th>\n",
       "      <th>6</th>\n",
       "    </tr>\n",
       "  </thead>\n",
       "  <tbody>\n",
       "    <tr>\n",
       "      <th>0</th>\n",
       "      <td>0.000000</td>\n",
       "      <td>0.071771</td>\n",
       "      <td>1.411969e-02</td>\n",
       "      <td>-0.058105</td>\n",
       "      <td>9.864752e-03</td>\n",
       "      <td>6.853152e-03</td>\n",
       "      <td>0.033328</td>\n",
       "    </tr>\n",
       "    <tr>\n",
       "      <th>1</th>\n",
       "      <td>0.071771</td>\n",
       "      <td>0.000000</td>\n",
       "      <td>-3.544898e-02</td>\n",
       "      <td>0.081438</td>\n",
       "      <td>5.884523e-03</td>\n",
       "      <td>-2.295594e-02</td>\n",
       "      <td>-0.040252</td>\n",
       "    </tr>\n",
       "    <tr>\n",
       "      <th>2</th>\n",
       "      <td>0.014120</td>\n",
       "      <td>-0.035449</td>\n",
       "      <td>-1.110223e-16</td>\n",
       "      <td>0.045048</td>\n",
       "      <td>4.192798e-02</td>\n",
       "      <td>-4.048848e-02</td>\n",
       "      <td>-0.008003</td>\n",
       "    </tr>\n",
       "    <tr>\n",
       "      <th>3</th>\n",
       "      <td>-0.058105</td>\n",
       "      <td>0.081438</td>\n",
       "      <td>4.504802e-02</td>\n",
       "      <td>0.000000</td>\n",
       "      <td>-7.879195e-03</td>\n",
       "      <td>1.927687e-02</td>\n",
       "      <td>0.046670</td>\n",
       "    </tr>\n",
       "    <tr>\n",
       "      <th>4</th>\n",
       "      <td>0.009865</td>\n",
       "      <td>0.005885</td>\n",
       "      <td>4.192798e-02</td>\n",
       "      <td>-0.007879</td>\n",
       "      <td>-1.110223e-16</td>\n",
       "      <td>6.487921e-02</td>\n",
       "      <td>-0.033884</td>\n",
       "    </tr>\n",
       "    <tr>\n",
       "      <th>5</th>\n",
       "      <td>0.006853</td>\n",
       "      <td>-0.022956</td>\n",
       "      <td>-4.048848e-02</td>\n",
       "      <td>0.019277</td>\n",
       "      <td>6.487921e-02</td>\n",
       "      <td>-2.220446e-16</td>\n",
       "      <td>0.026127</td>\n",
       "    </tr>\n",
       "    <tr>\n",
       "      <th>6</th>\n",
       "      <td>0.033328</td>\n",
       "      <td>-0.040252</td>\n",
       "      <td>-8.003081e-03</td>\n",
       "      <td>0.046670</td>\n",
       "      <td>-3.388416e-02</td>\n",
       "      <td>2.612708e-02</td>\n",
       "      <td>0.000000</td>\n",
       "    </tr>\n",
       "  </tbody>\n",
       "</table>\n",
       "</div>"
      ],
      "text/plain": [
       "          0         1             2         3             4             5  \\\n",
       "0  0.000000  0.071771  1.411969e-02 -0.058105  9.864752e-03  6.853152e-03   \n",
       "1  0.071771  0.000000 -3.544898e-02  0.081438  5.884523e-03 -2.295594e-02   \n",
       "2  0.014120 -0.035449 -1.110223e-16  0.045048  4.192798e-02 -4.048848e-02   \n",
       "3 -0.058105  0.081438  4.504802e-02  0.000000 -7.879195e-03  1.927687e-02   \n",
       "4  0.009865  0.005885  4.192798e-02 -0.007879 -1.110223e-16  6.487921e-02   \n",
       "5  0.006853 -0.022956 -4.048848e-02  0.019277  6.487921e-02 -2.220446e-16   \n",
       "6  0.033328 -0.040252 -8.003081e-03  0.046670 -3.388416e-02  2.612708e-02   \n",
       "\n",
       "          6  \n",
       "0  0.033328  \n",
       "1 -0.040252  \n",
       "2 -0.008003  \n",
       "3  0.046670  \n",
       "4 -0.033884  \n",
       "5  0.026127  \n",
       "6  0.000000  "
      ]
     },
     "execution_count": 31,
     "metadata": {},
     "output_type": "execute_result"
    }
   ],
   "source": [
    "re - ee"
   ]
  },
  {
   "cell_type": "code",
   "execution_count": 22,
   "metadata": {},
   "outputs": [
    {
     "name": "stdout",
     "output_type": "stream",
     "text": [
      "[[0.43097485 0.         0.         0.         0.         0.\n",
      "  0.        ]\n",
      " [0.         0.29409291 0.         0.         0.         0.\n",
      "  0.        ]\n",
      " [0.         0.         0.53665307 0.         0.         0.\n",
      "  0.        ]\n",
      " [0.         0.         0.         0.46023243 0.         0.\n",
      "  0.        ]\n",
      " [0.         0.         0.         0.         0.17688512 0.\n",
      "  0.        ]\n",
      " [0.         0.         0.         0.         0.         0.19812327\n",
      "  0.        ]\n",
      " [0.         0.         0.         0.         0.         0.\n",
      "  0.7633776 ]]\n"
     ]
    }
   ],
   "source": [
    "print(np.diag(uniquenesses))"
   ]
  },
  {
   "cell_type": "code",
   "execution_count": 222,
   "metadata": {},
   "outputs": [
    {
     "data": {
      "text/plain": [
       "array([0.49818336, 0.84241787, 1.06463127, 1.12807119, 1.11927228,\n",
       "       1.07286987, 1.        ])"
      ]
     },
     "execution_count": 222,
     "metadata": {},
     "output_type": "execute_result"
    }
   ],
   "source": [
    "X_corr = np.corrcoef(final, rowvar=False)\n",
    "X_corr_inv = np.linalg.inv(X_corr)\n",
    "X_corr_inv_diag = np.diag(X_corr_inv)\n",
    "R = 1 - (1 / X_corr_inv_diag)\n",
    "np.fill_diagonal(X_corr, R)\n",
    "eigenvalues, _ = np.linalg.eig(X_corr)\n",
    "eigenvectors, eigenvalues_p, _ = randomized_svd(X_corr, n_components=X_corr.shape[1], random_state=1234567890)     \n",
    "\n",
    "d = np.sort(eigenvalues)[::-1]\n",
    "s = [d[i] / np.sum(d) for i in range(len(d))]\n",
    "np.cumsum(s)"
   ]
  },
  {
   "cell_type": "code",
   "execution_count": 201,
   "metadata": {},
   "outputs": [
    {
     "data": {
      "text/plain": [
       "array([ 1.82817372,  1.26323065,  0.81545216,  0.23280422, -0.03228917,\n",
       "       -0.26740915, -0.17028201])"
      ]
     },
     "execution_count": 201,
     "metadata": {},
     "output_type": "execute_result"
    }
   ],
   "source": [
    "eigenvalues"
   ]
  },
  {
   "cell_type": "code",
   "execution_count": null,
   "metadata": {},
   "outputs": [],
   "source": []
  },
  {
   "cell_type": "code",
   "execution_count": 190,
   "metadata": {},
   "outputs": [
    {
     "data": {
      "text/plain": [
       "array([[ 1.01057828e-01,  7.29007131e-03, -2.52898016e-01,\n",
       "        -1.50565095e-01, -5.30180733e-02, -6.88053261e-02,\n",
       "         3.05244510e-01,  2.05285650e-02, -4.40649698e-04,\n",
       "         4.87900996e-04],\n",
       "       [ 7.49810279e-01, -4.41252699e-03, -1.38452581e-01,\n",
       "        -2.42232654e-01, -3.93720652e-02, -6.33832867e-02,\n",
       "        -1.63825113e-01,  1.51742224e-01, -3.01185471e-02,\n",
       "        -4.98656318e-03],\n",
       "       [-6.55061596e-01, -2.00894170e-02,  3.68260358e-01,\n",
       "         1.09380049e-01,  6.35223365e-02,  9.59862892e-02,\n",
       "         7.37313145e-02,  1.53477983e-01, -1.56217906e-02,\n",
       "        -3.29578437e-03],\n",
       "       [-4.28423029e-01,  8.21047856e-01,  4.32259646e-02,\n",
       "        -3.80625783e-02, -6.08393768e-02,  5.34371170e-02,\n",
       "         2.55980464e-05,  3.13204235e-02, -5.74039803e-02,\n",
       "        -6.41271001e-04],\n",
       "       [ 8.12403195e-01,  1.09483165e-01,  2.01969214e-01,\n",
       "         1.14853169e-02,  5.97661915e-02,  1.51123060e-01,\n",
       "        -3.99960626e-02, -1.63161883e-02,  6.17820667e-02,\n",
       "         1.08895096e-03],\n",
       "       [-7.79254388e-01, -1.94854927e-01,  4.13103843e-01,\n",
       "        -3.09797900e-01, -5.65547856e-02, -9.19770564e-02,\n",
       "         5.97070674e-02, -4.61073186e-02, -3.03045306e-03,\n",
       "         2.20529508e-03],\n",
       "       [-1.39840908e-01,  1.95559240e-01,  4.40307242e-02,\n",
       "         1.20863235e-01,  4.82903805e-01, -2.64946828e-01,\n",
       "        -5.76298031e-02,  1.64846491e-02, -7.58491397e-03,\n",
       "        -2.02277955e-03],\n",
       "       [-7.33181387e-01, -2.19389462e-02, -3.12356319e-01,\n",
       "         7.41282538e-02,  6.89177470e-02,  1.14731624e-02,\n",
       "         6.76617283e-02,  1.53432200e-01,  7.04774469e-02,\n",
       "         1.35907494e-03],\n",
       "       [-2.59067409e-01,  7.62518543e-01, -2.62680391e-01,\n",
       "        -3.53428722e-01, -5.07122171e-02,  1.09302008e-01,\n",
       "        -9.94275175e-03, -3.61354610e-03,  2.16637423e-03,\n",
       "         3.17272259e-03],\n",
       "       [-2.37011086e-01,  3.69955823e-01,  2.72165411e-01,\n",
       "         4.66659787e-01, -1.43295578e-01, -3.04314130e-02,\n",
       "         6.84774194e-02, -5.40600044e-03, -2.04317656e-02,\n",
       "         2.45010719e-04],\n",
       "       [ 2.11082064e-01,  1.82738368e-01,  2.02260441e-01,\n",
       "         1.50981055e-01, -4.18343939e-01, -8.39425205e-02,\n",
       "        -9.49863508e-02,  5.75238130e-02,  3.47403042e-02,\n",
       "         1.92269800e-03],\n",
       "       [-6.56153524e-01, -1.77149502e-01,  5.31415018e-01,\n",
       "        -3.42202727e-01,  6.02423393e-03, -5.25285779e-03,\n",
       "        -4.11775031e-02,  1.97195397e-02,  2.09789774e-02,\n",
       "        -2.02129693e-03],\n",
       "       [-9.09772150e-01, -1.87275222e-01, -1.50340545e-01,\n",
       "         5.37403800e-02,  2.98130935e-02,  1.03035340e-02,\n",
       "        -1.28818819e-01,  1.22194204e-02, -1.50485897e-02,\n",
       "         1.71955170e-02],\n",
       "       [-2.94816868e-01,  7.95357408e-01,  7.93170901e-02,\n",
       "        -1.40086733e-02,  1.12444856e-01, -8.02952179e-02,\n",
       "        -3.45642683e-02, -5.40870998e-02,  5.55273439e-02,\n",
       "        -2.16560752e-03],\n",
       "       [ 9.45006671e-01,  1.66564010e-01,  2.15861027e-01,\n",
       "        -5.21964535e-02,  7.33064231e-02, -1.01836994e-01,\n",
       "         6.85555454e-02,  4.87942874e-02, -1.50933638e-03,\n",
       "         1.44323081e-02],\n",
       "       [ 9.38492324e-01,  1.46210750e-01,  2.63878143e-01,\n",
       "        -9.13237956e-02,  3.16476201e-02, -7.85961822e-02,\n",
       "         7.49483137e-02,  3.64122951e-02, -4.87793183e-03,\n",
       "         2.83570896e-03],\n",
       "       [ 3.16934072e-01,  3.64311499e-02,  1.94109594e-01,\n",
       "         4.77261604e-02,  2.59721164e-01,  3.41524102e-01,\n",
       "         1.59169165e-02,  1.16592233e-02, -1.04285565e-02,\n",
       "         2.07270321e-03]])"
      ]
     },
     "execution_count": 190,
     "metadata": {},
     "output_type": "execute_result"
    }
   ],
   "source": [
    "loadings"
   ]
  },
  {
   "cell_type": "code",
   "execution_count": 152,
   "metadata": {},
   "outputs": [
    {
     "data": {
      "text/html": [
       "<div>\n",
       "<style scoped>\n",
       "    .dataframe tbody tr th:only-of-type {\n",
       "        vertical-align: middle;\n",
       "    }\n",
       "\n",
       "    .dataframe tbody tr th {\n",
       "        vertical-align: top;\n",
       "    }\n",
       "\n",
       "    .dataframe thead th {\n",
       "        text-align: right;\n",
       "    }\n",
       "</style>\n",
       "<table border=\"1\" class=\"dataframe\">\n",
       "  <thead>\n",
       "    <tr style=\"text-align: right;\">\n",
       "      <th></th>\n",
       "      <th>0</th>\n",
       "      <th>1</th>\n",
       "      <th>2</th>\n",
       "      <th>3</th>\n",
       "      <th>4</th>\n",
       "      <th>5</th>\n",
       "      <th>6</th>\n",
       "      <th>7</th>\n",
       "      <th>8</th>\n",
       "      <th>9</th>\n",
       "      <th>10</th>\n",
       "      <th>11</th>\n",
       "      <th>12</th>\n",
       "      <th>13</th>\n",
       "      <th>14</th>\n",
       "      <th>15</th>\n",
       "      <th>16</th>\n",
       "    </tr>\n",
       "  </thead>\n",
       "  <tbody>\n",
       "    <tr>\n",
       "      <th>0</th>\n",
       "      <td>0.1011</td>\n",
       "      <td>0.0073</td>\n",
       "      <td>-0.2529</td>\n",
       "      <td>-0.1506</td>\n",
       "      <td>-0.0530</td>\n",
       "      <td>-0.0688</td>\n",
       "      <td>0.1017</td>\n",
       "      <td>0.3052</td>\n",
       "      <td>0.0365</td>\n",
       "      <td>-0.1104</td>\n",
       "      <td>-0.1286</td>\n",
       "      <td>0.0205</td>\n",
       "      <td>0.0071</td>\n",
       "      <td>0.0345</td>\n",
       "      <td>-0.0004</td>\n",
       "      <td>-0.0034</td>\n",
       "      <td>0.0005</td>\n",
       "    </tr>\n",
       "    <tr>\n",
       "      <th>1</th>\n",
       "      <td>0.7498</td>\n",
       "      <td>-0.0044</td>\n",
       "      <td>-0.1385</td>\n",
       "      <td>-0.2422</td>\n",
       "      <td>-0.0394</td>\n",
       "      <td>-0.0634</td>\n",
       "      <td>-0.0784</td>\n",
       "      <td>-0.1638</td>\n",
       "      <td>0.1565</td>\n",
       "      <td>0.0055</td>\n",
       "      <td>-0.0759</td>\n",
       "      <td>0.1517</td>\n",
       "      <td>0.0282</td>\n",
       "      <td>0.0243</td>\n",
       "      <td>-0.0301</td>\n",
       "      <td>-0.0064</td>\n",
       "      <td>-0.0050</td>\n",
       "    </tr>\n",
       "    <tr>\n",
       "      <th>2</th>\n",
       "      <td>-0.6551</td>\n",
       "      <td>-0.0201</td>\n",
       "      <td>0.3683</td>\n",
       "      <td>0.1094</td>\n",
       "      <td>0.0635</td>\n",
       "      <td>0.0960</td>\n",
       "      <td>-0.0448</td>\n",
       "      <td>0.0737</td>\n",
       "      <td>-0.1604</td>\n",
       "      <td>0.0577</td>\n",
       "      <td>-0.1107</td>\n",
       "      <td>0.1535</td>\n",
       "      <td>0.0388</td>\n",
       "      <td>-0.0435</td>\n",
       "      <td>-0.0156</td>\n",
       "      <td>0.0027</td>\n",
       "      <td>-0.0033</td>\n",
       "    </tr>\n",
       "    <tr>\n",
       "      <th>3</th>\n",
       "      <td>-0.4284</td>\n",
       "      <td>0.8210</td>\n",
       "      <td>0.0432</td>\n",
       "      <td>-0.0381</td>\n",
       "      <td>-0.0608</td>\n",
       "      <td>0.0534</td>\n",
       "      <td>-0.0536</td>\n",
       "      <td>0.0000</td>\n",
       "      <td>-0.0754</td>\n",
       "      <td>-0.1634</td>\n",
       "      <td>0.1131</td>\n",
       "      <td>0.0313</td>\n",
       "      <td>0.0235</td>\n",
       "      <td>0.0386</td>\n",
       "      <td>-0.0574</td>\n",
       "      <td>-0.0062</td>\n",
       "      <td>-0.0006</td>\n",
       "    </tr>\n",
       "    <tr>\n",
       "      <th>4</th>\n",
       "      <td>0.8124</td>\n",
       "      <td>0.1095</td>\n",
       "      <td>0.2020</td>\n",
       "      <td>0.0115</td>\n",
       "      <td>0.0598</td>\n",
       "      <td>0.1511</td>\n",
       "      <td>-0.0483</td>\n",
       "      <td>-0.0400</td>\n",
       "      <td>-0.1066</td>\n",
       "      <td>-0.0011</td>\n",
       "      <td>-0.0466</td>\n",
       "      <td>-0.0163</td>\n",
       "      <td>0.0756</td>\n",
       "      <td>0.0985</td>\n",
       "      <td>0.0618</td>\n",
       "      <td>-0.0058</td>\n",
       "      <td>0.0011</td>\n",
       "    </tr>\n",
       "    <tr>\n",
       "      <th>5</th>\n",
       "      <td>-0.7793</td>\n",
       "      <td>-0.1949</td>\n",
       "      <td>0.4131</td>\n",
       "      <td>-0.3098</td>\n",
       "      <td>-0.0566</td>\n",
       "      <td>-0.0920</td>\n",
       "      <td>-0.0299</td>\n",
       "      <td>0.0597</td>\n",
       "      <td>0.1119</td>\n",
       "      <td>0.0536</td>\n",
       "      <td>0.0524</td>\n",
       "      <td>-0.0461</td>\n",
       "      <td>0.1545</td>\n",
       "      <td>0.0051</td>\n",
       "      <td>-0.0030</td>\n",
       "      <td>0.0016</td>\n",
       "      <td>0.0022</td>\n",
       "    </tr>\n",
       "    <tr>\n",
       "      <th>6</th>\n",
       "      <td>-0.1398</td>\n",
       "      <td>0.1956</td>\n",
       "      <td>0.0440</td>\n",
       "      <td>0.1209</td>\n",
       "      <td>0.4829</td>\n",
       "      <td>-0.2649</td>\n",
       "      <td>0.1990</td>\n",
       "      <td>-0.0576</td>\n",
       "      <td>-0.0307</td>\n",
       "      <td>0.0154</td>\n",
       "      <td>0.0040</td>\n",
       "      <td>0.0165</td>\n",
       "      <td>0.0298</td>\n",
       "      <td>0.0276</td>\n",
       "      <td>-0.0076</td>\n",
       "      <td>-0.0023</td>\n",
       "      <td>-0.0020</td>\n",
       "    </tr>\n",
       "    <tr>\n",
       "      <th>7</th>\n",
       "      <td>-0.7332</td>\n",
       "      <td>-0.0219</td>\n",
       "      <td>-0.3124</td>\n",
       "      <td>0.0741</td>\n",
       "      <td>0.0689</td>\n",
       "      <td>0.0115</td>\n",
       "      <td>-0.0464</td>\n",
       "      <td>0.0677</td>\n",
       "      <td>0.0714</td>\n",
       "      <td>0.0108</td>\n",
       "      <td>0.1365</td>\n",
       "      <td>0.1534</td>\n",
       "      <td>-0.0046</td>\n",
       "      <td>0.0153</td>\n",
       "      <td>0.0705</td>\n",
       "      <td>0.0031</td>\n",
       "      <td>0.0014</td>\n",
       "    </tr>\n",
       "    <tr>\n",
       "      <th>8</th>\n",
       "      <td>-0.2591</td>\n",
       "      <td>0.7625</td>\n",
       "      <td>-0.2627</td>\n",
       "      <td>-0.3534</td>\n",
       "      <td>-0.0507</td>\n",
       "      <td>0.1093</td>\n",
       "      <td>0.1347</td>\n",
       "      <td>-0.0099</td>\n",
       "      <td>-0.0343</td>\n",
       "      <td>0.2008</td>\n",
       "      <td>-0.0219</td>\n",
       "      <td>-0.0036</td>\n",
       "      <td>-0.0158</td>\n",
       "      <td>-0.0002</td>\n",
       "      <td>0.0022</td>\n",
       "      <td>0.0030</td>\n",
       "      <td>0.0032</td>\n",
       "    </tr>\n",
       "    <tr>\n",
       "      <th>9</th>\n",
       "      <td>-0.2370</td>\n",
       "      <td>0.3700</td>\n",
       "      <td>0.2722</td>\n",
       "      <td>0.4667</td>\n",
       "      <td>-0.1433</td>\n",
       "      <td>-0.0304</td>\n",
       "      <td>-0.0335</td>\n",
       "      <td>0.0685</td>\n",
       "      <td>0.1613</td>\n",
       "      <td>0.1253</td>\n",
       "      <td>-0.0338</td>\n",
       "      <td>-0.0054</td>\n",
       "      <td>-0.0447</td>\n",
       "      <td>0.0589</td>\n",
       "      <td>-0.0204</td>\n",
       "      <td>-0.0048</td>\n",
       "      <td>0.0002</td>\n",
       "    </tr>\n",
       "    <tr>\n",
       "      <th>10</th>\n",
       "      <td>0.2111</td>\n",
       "      <td>0.1827</td>\n",
       "      <td>0.2023</td>\n",
       "      <td>0.1510</td>\n",
       "      <td>-0.4183</td>\n",
       "      <td>-0.0839</td>\n",
       "      <td>0.2480</td>\n",
       "      <td>-0.0950</td>\n",
       "      <td>-0.0057</td>\n",
       "      <td>-0.0708</td>\n",
       "      <td>0.0007</td>\n",
       "      <td>0.0575</td>\n",
       "      <td>0.0415</td>\n",
       "      <td>-0.0287</td>\n",
       "      <td>0.0347</td>\n",
       "      <td>0.0025</td>\n",
       "      <td>0.0019</td>\n",
       "    </tr>\n",
       "    <tr>\n",
       "      <th>11</th>\n",
       "      <td>-0.6562</td>\n",
       "      <td>-0.1771</td>\n",
       "      <td>0.5314</td>\n",
       "      <td>-0.3422</td>\n",
       "      <td>0.0060</td>\n",
       "      <td>-0.0053</td>\n",
       "      <td>0.0555</td>\n",
       "      <td>-0.0412</td>\n",
       "      <td>0.0110</td>\n",
       "      <td>-0.0492</td>\n",
       "      <td>-0.0075</td>\n",
       "      <td>0.0197</td>\n",
       "      <td>-0.1519</td>\n",
       "      <td>0.0368</td>\n",
       "      <td>0.0210</td>\n",
       "      <td>-0.0117</td>\n",
       "      <td>-0.0020</td>\n",
       "    </tr>\n",
       "    <tr>\n",
       "      <th>12</th>\n",
       "      <td>-0.9098</td>\n",
       "      <td>-0.1873</td>\n",
       "      <td>-0.1503</td>\n",
       "      <td>0.0537</td>\n",
       "      <td>0.0298</td>\n",
       "      <td>0.0103</td>\n",
       "      <td>-0.0232</td>\n",
       "      <td>-0.1288</td>\n",
       "      <td>0.0049</td>\n",
       "      <td>-0.0576</td>\n",
       "      <td>-0.0995</td>\n",
       "      <td>0.0122</td>\n",
       "      <td>-0.0002</td>\n",
       "      <td>0.0276</td>\n",
       "      <td>-0.0150</td>\n",
       "      <td>0.0229</td>\n",
       "      <td>0.0172</td>\n",
       "    </tr>\n",
       "    <tr>\n",
       "      <th>13</th>\n",
       "      <td>-0.2948</td>\n",
       "      <td>0.7954</td>\n",
       "      <td>0.0793</td>\n",
       "      <td>-0.0140</td>\n",
       "      <td>0.1124</td>\n",
       "      <td>-0.0803</td>\n",
       "      <td>-0.1482</td>\n",
       "      <td>-0.0346</td>\n",
       "      <td>0.0859</td>\n",
       "      <td>-0.0826</td>\n",
       "      <td>-0.1028</td>\n",
       "      <td>-0.0541</td>\n",
       "      <td>-0.0001</td>\n",
       "      <td>-0.0571</td>\n",
       "      <td>0.0555</td>\n",
       "      <td>0.0059</td>\n",
       "      <td>-0.0022</td>\n",
       "    </tr>\n",
       "    <tr>\n",
       "      <th>14</th>\n",
       "      <td>0.9450</td>\n",
       "      <td>0.1666</td>\n",
       "      <td>0.2159</td>\n",
       "      <td>-0.0522</td>\n",
       "      <td>0.0733</td>\n",
       "      <td>-0.1018</td>\n",
       "      <td>-0.0662</td>\n",
       "      <td>0.0686</td>\n",
       "      <td>-0.0169</td>\n",
       "      <td>0.0235</td>\n",
       "      <td>0.0368</td>\n",
       "      <td>0.0488</td>\n",
       "      <td>-0.0231</td>\n",
       "      <td>-0.0362</td>\n",
       "      <td>-0.0015</td>\n",
       "      <td>-0.0460</td>\n",
       "      <td>0.0144</td>\n",
       "    </tr>\n",
       "    <tr>\n",
       "      <th>15</th>\n",
       "      <td>0.9385</td>\n",
       "      <td>0.1462</td>\n",
       "      <td>0.2639</td>\n",
       "      <td>-0.0913</td>\n",
       "      <td>0.0316</td>\n",
       "      <td>-0.0786</td>\n",
       "      <td>-0.0349</td>\n",
       "      <td>0.0749</td>\n",
       "      <td>-0.0111</td>\n",
       "      <td>0.0141</td>\n",
       "      <td>0.0501</td>\n",
       "      <td>0.0364</td>\n",
       "      <td>-0.0359</td>\n",
       "      <td>0.0014</td>\n",
       "      <td>-0.0049</td>\n",
       "      <td>0.0734</td>\n",
       "      <td>0.0028</td>\n",
       "    </tr>\n",
       "    <tr>\n",
       "      <th>16</th>\n",
       "      <td>0.3169</td>\n",
       "      <td>0.0364</td>\n",
       "      <td>0.1941</td>\n",
       "      <td>0.0477</td>\n",
       "      <td>0.2597</td>\n",
       "      <td>0.3415</td>\n",
       "      <td>0.1500</td>\n",
       "      <td>0.0159</td>\n",
       "      <td>0.1809</td>\n",
       "      <td>-0.0640</td>\n",
       "      <td>0.0121</td>\n",
       "      <td>0.0117</td>\n",
       "      <td>0.0173</td>\n",
       "      <td>-0.0296</td>\n",
       "      <td>-0.0104</td>\n",
       "      <td>0.0024</td>\n",
       "      <td>0.0021</td>\n",
       "    </tr>\n",
       "  </tbody>\n",
       "</table>\n",
       "</div>"
      ],
      "text/plain": [
       "        0       1       2       3       4       5       6       7       8   \\\n",
       "0   0.1011  0.0073 -0.2529 -0.1506 -0.0530 -0.0688  0.1017  0.3052  0.0365   \n",
       "1   0.7498 -0.0044 -0.1385 -0.2422 -0.0394 -0.0634 -0.0784 -0.1638  0.1565   \n",
       "2  -0.6551 -0.0201  0.3683  0.1094  0.0635  0.0960 -0.0448  0.0737 -0.1604   \n",
       "3  -0.4284  0.8210  0.0432 -0.0381 -0.0608  0.0534 -0.0536  0.0000 -0.0754   \n",
       "4   0.8124  0.1095  0.2020  0.0115  0.0598  0.1511 -0.0483 -0.0400 -0.1066   \n",
       "5  -0.7793 -0.1949  0.4131 -0.3098 -0.0566 -0.0920 -0.0299  0.0597  0.1119   \n",
       "6  -0.1398  0.1956  0.0440  0.1209  0.4829 -0.2649  0.1990 -0.0576 -0.0307   \n",
       "7  -0.7332 -0.0219 -0.3124  0.0741  0.0689  0.0115 -0.0464  0.0677  0.0714   \n",
       "8  -0.2591  0.7625 -0.2627 -0.3534 -0.0507  0.1093  0.1347 -0.0099 -0.0343   \n",
       "9  -0.2370  0.3700  0.2722  0.4667 -0.1433 -0.0304 -0.0335  0.0685  0.1613   \n",
       "10  0.2111  0.1827  0.2023  0.1510 -0.4183 -0.0839  0.2480 -0.0950 -0.0057   \n",
       "11 -0.6562 -0.1771  0.5314 -0.3422  0.0060 -0.0053  0.0555 -0.0412  0.0110   \n",
       "12 -0.9098 -0.1873 -0.1503  0.0537  0.0298  0.0103 -0.0232 -0.1288  0.0049   \n",
       "13 -0.2948  0.7954  0.0793 -0.0140  0.1124 -0.0803 -0.1482 -0.0346  0.0859   \n",
       "14  0.9450  0.1666  0.2159 -0.0522  0.0733 -0.1018 -0.0662  0.0686 -0.0169   \n",
       "15  0.9385  0.1462  0.2639 -0.0913  0.0316 -0.0786 -0.0349  0.0749 -0.0111   \n",
       "16  0.3169  0.0364  0.1941  0.0477  0.2597  0.3415  0.1500  0.0159  0.1809   \n",
       "\n",
       "        9       10      11      12      13      14      15      16  \n",
       "0  -0.1104 -0.1286  0.0205  0.0071  0.0345 -0.0004 -0.0034  0.0005  \n",
       "1   0.0055 -0.0759  0.1517  0.0282  0.0243 -0.0301 -0.0064 -0.0050  \n",
       "2   0.0577 -0.1107  0.1535  0.0388 -0.0435 -0.0156  0.0027 -0.0033  \n",
       "3  -0.1634  0.1131  0.0313  0.0235  0.0386 -0.0574 -0.0062 -0.0006  \n",
       "4  -0.0011 -0.0466 -0.0163  0.0756  0.0985  0.0618 -0.0058  0.0011  \n",
       "5   0.0536  0.0524 -0.0461  0.1545  0.0051 -0.0030  0.0016  0.0022  \n",
       "6   0.0154  0.0040  0.0165  0.0298  0.0276 -0.0076 -0.0023 -0.0020  \n",
       "7   0.0108  0.1365  0.1534 -0.0046  0.0153  0.0705  0.0031  0.0014  \n",
       "8   0.2008 -0.0219 -0.0036 -0.0158 -0.0002  0.0022  0.0030  0.0032  \n",
       "9   0.1253 -0.0338 -0.0054 -0.0447  0.0589 -0.0204 -0.0048  0.0002  \n",
       "10 -0.0708  0.0007  0.0575  0.0415 -0.0287  0.0347  0.0025  0.0019  \n",
       "11 -0.0492 -0.0075  0.0197 -0.1519  0.0368  0.0210 -0.0117 -0.0020  \n",
       "12 -0.0576 -0.0995  0.0122 -0.0002  0.0276 -0.0150  0.0229  0.0172  \n",
       "13 -0.0826 -0.1028 -0.0541 -0.0001 -0.0571  0.0555  0.0059 -0.0022  \n",
       "14  0.0235  0.0368  0.0488 -0.0231 -0.0362 -0.0015 -0.0460  0.0144  \n",
       "15  0.0141  0.0501  0.0364 -0.0359  0.0014 -0.0049  0.0734  0.0028  \n",
       "16 -0.0640  0.0121  0.0117  0.0173 -0.0296 -0.0104  0.0024  0.0021  "
      ]
     },
     "execution_count": 152,
     "metadata": {},
     "output_type": "execute_result"
    }
   ],
   "source": [
    "X_corr = np.corrcoef(df.iloc[:,1:].values, rowvar=False)\n",
    "X_corr_inv = np.linalg.inv(X_corr)\n",
    "X_corr_inv_diag = np.diag(X_corr_inv)\n",
    "R = 1 - (1 / X_corr_inv_diag)\n",
    "np.fill_diagonal(X_corr, R)\n",
    "eigenvalues, _ = np.linalg.eig(X_corr)\n",
    "eigenvectors, D, _ = randomized_svd(X_corr, n_components=X_corr.shape[1], random_state=1234567890)\n",
    "pd.DataFrame(eigenvectors * np.sqrt(D))\n"
   ]
  },
  {
   "cell_type": "code",
   "execution_count": 158,
   "metadata": {},
   "outputs": [
    {
     "data": {
      "text/html": [
       "<div>\n",
       "<style scoped>\n",
       "    .dataframe tbody tr th:only-of-type {\n",
       "        vertical-align: middle;\n",
       "    }\n",
       "\n",
       "    .dataframe tbody tr th {\n",
       "        vertical-align: top;\n",
       "    }\n",
       "\n",
       "    .dataframe thead th {\n",
       "        text-align: right;\n",
       "    }\n",
       "</style>\n",
       "<table border=\"1\" class=\"dataframe\">\n",
       "  <thead>\n",
       "    <tr style=\"text-align: right;\">\n",
       "      <th></th>\n",
       "      <th>0</th>\n",
       "      <th>1</th>\n",
       "      <th>2</th>\n",
       "      <th>3</th>\n",
       "      <th>4</th>\n",
       "      <th>5</th>\n",
       "      <th>6</th>\n",
       "      <th>7</th>\n",
       "      <th>8</th>\n",
       "      <th>9</th>\n",
       "      <th>10</th>\n",
       "      <th>11</th>\n",
       "      <th>12</th>\n",
       "      <th>13</th>\n",
       "      <th>14</th>\n",
       "      <th>15</th>\n",
       "      <th>16</th>\n",
       "    </tr>\n",
       "  </thead>\n",
       "  <tbody>\n",
       "    <tr>\n",
       "      <th>0</th>\n",
       "      <td>0.0006</td>\n",
       "      <td>0.0084</td>\n",
       "      <td>0.0188</td>\n",
       "      <td>0.0278</td>\n",
       "      <td>0.0626</td>\n",
       "      <td>0.0848</td>\n",
       "      <td>0.0971</td>\n",
       "      <td>0.1239</td>\n",
       "      <td>0.1550</td>\n",
       "      <td>0.1824</td>\n",
       "      <td>0.2008</td>\n",
       "      <td>0.2821</td>\n",
       "      <td>0.5423</td>\n",
       "      <td>0.7100</td>\n",
       "      <td>1.1807</td>\n",
       "      <td>2.2645</td>\n",
       "      <td>6.3967</td>\n",
       "    </tr>\n",
       "  </tbody>\n",
       "</table>\n",
       "</div>"
      ],
      "text/plain": [
       "      0      1      2      3      4      5      6      7      8      9   \\\n",
       "0 0.0006 0.0084 0.0188 0.0278 0.0626 0.0848 0.0971 0.1239 0.1550 0.1824   \n",
       "\n",
       "      10     11     12     13     14     15     16  \n",
       "0 0.2008 0.2821 0.5423 0.7100 1.1807 2.2645 6.3967  "
      ]
     },
     "execution_count": 158,
     "metadata": {},
     "output_type": "execute_result"
    }
   ],
   "source": [
    "pd.DataFrame(np.sort(D)).T"
   ]
  },
  {
   "cell_type": "code",
   "execution_count": 159,
   "metadata": {},
   "outputs": [
    {
     "data": {
      "text/html": [
       "<div>\n",
       "<style scoped>\n",
       "    .dataframe tbody tr th:only-of-type {\n",
       "        vertical-align: middle;\n",
       "    }\n",
       "\n",
       "    .dataframe tbody tr th {\n",
       "        vertical-align: top;\n",
       "    }\n",
       "\n",
       "    .dataframe thead th {\n",
       "        text-align: right;\n",
       "    }\n",
       "</style>\n",
       "<table border=\"1\" class=\"dataframe\">\n",
       "  <thead>\n",
       "    <tr style=\"text-align: right;\">\n",
       "      <th></th>\n",
       "      <th>0</th>\n",
       "      <th>1</th>\n",
       "      <th>2</th>\n",
       "      <th>3</th>\n",
       "      <th>4</th>\n",
       "      <th>5</th>\n",
       "      <th>6</th>\n",
       "      <th>7</th>\n",
       "      <th>8</th>\n",
       "      <th>9</th>\n",
       "      <th>10</th>\n",
       "      <th>11</th>\n",
       "      <th>12</th>\n",
       "      <th>13</th>\n",
       "      <th>14</th>\n",
       "      <th>15</th>\n",
       "      <th>16</th>\n",
       "    </tr>\n",
       "  </thead>\n",
       "  <tbody>\n",
       "    <tr>\n",
       "      <th>0</th>\n",
       "      <td>-0.2008</td>\n",
       "      <td>-0.1550</td>\n",
       "      <td>-0.1239</td>\n",
       "      <td>-0.0971</td>\n",
       "      <td>-0.0626</td>\n",
       "      <td>-0.0278</td>\n",
       "      <td>-0.0084</td>\n",
       "      <td>0.0006</td>\n",
       "      <td>0.0188</td>\n",
       "      <td>0.0848</td>\n",
       "      <td>0.1824</td>\n",
       "      <td>0.2821</td>\n",
       "      <td>0.5423</td>\n",
       "      <td>0.7100</td>\n",
       "      <td>1.1807</td>\n",
       "      <td>2.2645</td>\n",
       "      <td>6.3967</td>\n",
       "    </tr>\n",
       "  </tbody>\n",
       "</table>\n",
       "</div>"
      ],
      "text/plain": [
       "       0       1       2       3       4       5       6      7      8   \\\n",
       "0 -0.2008 -0.1550 -0.1239 -0.0971 -0.0626 -0.0278 -0.0084 0.0006 0.0188   \n",
       "\n",
       "      9      10     11     12     13     14     15     16  \n",
       "0 0.0848 0.1824 0.2821 0.5423 0.7100 1.1807 2.2645 6.3967  "
      ]
     },
     "execution_count": 159,
     "metadata": {},
     "output_type": "execute_result"
    }
   ],
   "source": [
    "pd.DataFrame(np.sort(eigenvalues)).T"
   ]
  },
  {
   "cell_type": "code",
   "execution_count": 139,
   "metadata": {},
   "outputs": [
    {
     "data": {
      "text/html": [
       "<div>\n",
       "<style scoped>\n",
       "    .dataframe tbody tr th:only-of-type {\n",
       "        vertical-align: middle;\n",
       "    }\n",
       "\n",
       "    .dataframe tbody tr th {\n",
       "        vertical-align: top;\n",
       "    }\n",
       "\n",
       "    .dataframe thead th {\n",
       "        text-align: right;\n",
       "    }\n",
       "</style>\n",
       "<table border=\"1\" class=\"dataframe\">\n",
       "  <thead>\n",
       "    <tr style=\"text-align: right;\">\n",
       "      <th></th>\n",
       "      <th>0</th>\n",
       "      <th>1</th>\n",
       "      <th>2</th>\n",
       "      <th>3</th>\n",
       "    </tr>\n",
       "  </thead>\n",
       "  <tbody>\n",
       "    <tr>\n",
       "      <th>0</th>\n",
       "      <td>-0.3620</td>\n",
       "      <td>0.5729</td>\n",
       "      <td>-0.3125</td>\n",
       "      <td>-0.2019</td>\n",
       "    </tr>\n",
       "    <tr>\n",
       "      <th>1</th>\n",
       "      <td>-0.5573</td>\n",
       "      <td>0.6024</td>\n",
       "      <td>0.0920</td>\n",
       "      <td>0.2751</td>\n",
       "    </tr>\n",
       "    <tr>\n",
       "      <th>2</th>\n",
       "      <td>0.4277</td>\n",
       "      <td>-0.0578</td>\n",
       "      <td>0.4933</td>\n",
       "      <td>0.1422</td>\n",
       "    </tr>\n",
       "    <tr>\n",
       "      <th>3</th>\n",
       "      <td>-0.0015</td>\n",
       "      <td>0.4064</td>\n",
       "      <td>0.6090</td>\n",
       "      <td>-0.2647</td>\n",
       "    </tr>\n",
       "    <tr>\n",
       "      <th>4</th>\n",
       "      <td>0.8288</td>\n",
       "      <td>0.3121</td>\n",
       "      <td>-0.1079</td>\n",
       "      <td>-0.0473</td>\n",
       "    </tr>\n",
       "    <tr>\n",
       "      <th>5</th>\n",
       "      <td>0.7171</td>\n",
       "      <td>0.4543</td>\n",
       "      <td>-0.2437</td>\n",
       "      <td>0.0900</td>\n",
       "    </tr>\n",
       "    <tr>\n",
       "      <th>6</th>\n",
       "      <td>-0.0502</td>\n",
       "      <td>0.3159</td>\n",
       "      <td>0.1551</td>\n",
       "      <td>0.1253</td>\n",
       "    </tr>\n",
       "  </tbody>\n",
       "</table>\n",
       "</div>"
      ],
      "text/plain": [
       "        0       1       2       3\n",
       "0 -0.3620  0.5729 -0.3125 -0.2019\n",
       "1 -0.5573  0.6024  0.0920  0.2751\n",
       "2  0.4277 -0.0578  0.4933  0.1422\n",
       "3 -0.0015  0.4064  0.6090 -0.2647\n",
       "4  0.8288  0.3121 -0.1079 -0.0473\n",
       "5  0.7171  0.4543 -0.2437  0.0900\n",
       "6 -0.0502  0.3159  0.1551  0.1253"
      ]
     },
     "execution_count": 139,
     "metadata": {},
     "output_type": "execute_result"
    }
   ],
   "source": [
    "principal_factor_method(final)"
   ]
  },
  {
   "cell_type": "code",
   "execution_count": 104,
   "metadata": {},
   "outputs": [],
   "source": [
    "X_corr = np.corrcoef(final, rowvar=False)\n",
    "X_corr_inv = np.linalg.inv(X_corr)\n",
    "X_corr_inv_diag = np.diag(X_corr_inv)\n",
    "R = 1 - (1 / X_corr_inv_diag)\n",
    "np.fill_diagonal(X_corr, R)\n",
    "eigenvalues, _ = np.linalg.eig(X_corr)\n",
    "eigenvectors, _, _ = randomized_svd(X_corr, n_components=X_corr.shape[1], random_state=1234567890)\n",
    "p_index = eigenvalues > 0\n",
    "eigenvalues = eigenvalues[p_index]\n",
    "eigenvectors = eigenvectors[:, p_index]"
   ]
  },
  {
   "cell_type": "code",
   "execution_count": 105,
   "metadata": {},
   "outputs": [
    {
     "data": {
      "text/plain": [
       "array([1.82817372, 1.26323065, 0.81545216, 0.23280422])"
      ]
     },
     "execution_count": 105,
     "metadata": {},
     "output_type": "execute_result"
    }
   ],
   "source": [
    "eigenvalues"
   ]
  },
  {
   "cell_type": "code",
   "execution_count": 106,
   "metadata": {},
   "outputs": [
    {
     "data": {
      "text/plain": [
       "array([[-0.26775118,  0.50976639, -0.34606667, -0.41839396],\n",
       "       [-0.41215303,  0.53601031,  0.10191528,  0.5702476 ],\n",
       "       [ 0.31634555, -0.0514643 ,  0.54628725,  0.29481451],\n",
       "       [-0.00114403,  0.36154311,  0.67441812, -0.54862196],\n",
       "       [ 0.61294248,  0.27765356, -0.1194454 , -0.09807081],\n",
       "       [ 0.5303624 ,  0.40418014, -0.26982084,  0.18643353],\n",
       "       [-0.03715666,  0.28109804,  0.17178791,  0.25978295]])"
      ]
     },
     "execution_count": 106,
     "metadata": {},
     "output_type": "execute_result"
    }
   ],
   "source": [
    "eigenvectors"
   ]
  },
  {
   "cell_type": "code",
   "execution_count": 85,
   "metadata": {},
   "outputs": [
    {
     "data": {
      "text/plain": [
       "array([ 1.82817372,  1.26323065,  0.81545216,  0.23280422, -0.03228917,\n",
       "       -0.26740915, -0.17028201])"
      ]
     },
     "execution_count": 85,
     "metadata": {},
     "output_type": "execute_result"
    }
   ],
   "source": [
    "eigenvalues"
   ]
  },
  {
   "cell_type": "code",
   "execution_count": 107,
   "metadata": {},
   "outputs": [
    {
     "data": {
      "text/plain": [
       "array([[-0.3620263 ,  0.57294446, -0.31250647, -0.20187421],\n",
       "       [-0.55727201,  0.60244093,  0.09203193,  0.27514327],\n",
       "       [ 0.42773073, -0.05784254,  0.49331044,  0.14224738],\n",
       "       [-0.00154684,  0.40635108,  0.60901568, -0.26470894],\n",
       "       [ 0.82875936,  0.31206465, -0.10786205, -0.04731896],\n",
       "       [ 0.71710287,  0.45427234, -0.24365467,  0.08995378],\n",
       "       [-0.0502395 ,  0.31593602,  0.15512859,  0.12534473]])"
      ]
     },
     "execution_count": 107,
     "metadata": {},
     "output_type": "execute_result"
    }
   ],
   "source": [
    "eigenvectors * np.sqrt(eigenvalues)"
   ]
  },
  {
   "cell_type": "code",
   "execution_count": 143,
   "metadata": {},
   "outputs": [
    {
     "data": {
      "text/plain": [
       "array([1.82817372, 1.26323065, 0.81545216, 0.26740915, 0.23280422,\n",
       "       0.17028201, 0.03228917])"
      ]
     },
     "execution_count": 143,
     "metadata": {},
     "output_type": "execute_result"
    }
   ],
   "source": [
    "X_corr = np.corrcoef(final, rowvar=False)\n",
    "X_corr_inv = np.linalg.inv(X_corr)\n",
    "X_corr_inv_diag = np.diag(X_corr_inv)\n",
    "R = 1 - (1 / X_corr_inv_diag)\n",
    "np.fill_diagonal(X_corr, R)\n",
    "eigenvalues, _ = np.linalg.eig(X_corr)\n",
    "eigenvectors, D, _ = randomized_svd(X_corr, n_components=X_corr.shape[1], random_state=1234567890)\n",
    "e =np.abs(eigenvalues)\n",
    "D"
   ]
  },
  {
   "cell_type": "code",
   "execution_count": 132,
   "metadata": {},
   "outputs": [
    {
     "data": {
      "text/plain": [
       "array([1.82817372, 1.26323065, 0.81545216, 0.26740915, 0.23280422,\n",
       "       0.17028201, 0.03228917])"
      ]
     },
     "execution_count": 132,
     "metadata": {},
     "output_type": "execute_result"
    }
   ],
   "source": [
    "np.sort(e)[::-1]"
   ]
  },
  {
   "cell_type": "code",
   "execution_count": 128,
   "metadata": {},
   "outputs": [
    {
     "data": {
      "text/plain": [
       "array([ 1.82817372,  1.26323065,  0.81545216,  0.23280422, -0.03228917,\n",
       "       -0.26740915, -0.17028201])"
      ]
     },
     "execution_count": 128,
     "metadata": {},
     "output_type": "execute_result"
    }
   ],
   "source": [
    "eigenvalues"
   ]
  },
  {
   "cell_type": "code",
   "execution_count": 109,
   "metadata": {},
   "outputs": [
    {
     "data": {
      "text/plain": [
       "array([[-0.26775118,  0.50976639, -0.34606667, -0.41839396, -0.22738087,\n",
       "        -0.18668067,  0.53579862],\n",
       "       [-0.41215303,  0.53601031,  0.10191528,  0.5702476 , -0.32074341,\n",
       "         0.08042834, -0.3129037 ],\n",
       "       [ 0.31634555, -0.0514643 ,  0.54628725,  0.29481451, -0.38042629,\n",
       "        -0.31011385,  0.52061194],\n",
       "       [-0.00114403,  0.36154311,  0.67441812, -0.54862196,  0.12681366,\n",
       "        -0.06324911, -0.30557695],\n",
       "       [ 0.61294248,  0.27765356, -0.1194454 , -0.09807081, -0.34215396,\n",
       "         0.63641704, -0.03505644],\n",
       "       [ 0.5303624 ,  0.40418014, -0.26982084,  0.18643353,  0.30677389,\n",
       "        -0.55577515, -0.21165339],\n",
       "       [-0.03715666,  0.28109804,  0.17178791,  0.25978295,  0.68806699,\n",
       "         0.38026028,  0.45229519]])"
      ]
     },
     "execution_count": 109,
     "metadata": {},
     "output_type": "execute_result"
    }
   ],
   "source": [
    "eigenvectors"
   ]
  },
  {
   "cell_type": "code",
   "execution_count": 144,
   "metadata": {},
   "outputs": [
    {
     "data": {
      "text/html": [
       "<div>\n",
       "<style scoped>\n",
       "    .dataframe tbody tr th:only-of-type {\n",
       "        vertical-align: middle;\n",
       "    }\n",
       "\n",
       "    .dataframe tbody tr th {\n",
       "        vertical-align: top;\n",
       "    }\n",
       "\n",
       "    .dataframe thead th {\n",
       "        text-align: right;\n",
       "    }\n",
       "</style>\n",
       "<table border=\"1\" class=\"dataframe\">\n",
       "  <thead>\n",
       "    <tr style=\"text-align: right;\">\n",
       "      <th></th>\n",
       "      <th>0</th>\n",
       "      <th>1</th>\n",
       "      <th>2</th>\n",
       "      <th>3</th>\n",
       "      <th>4</th>\n",
       "      <th>5</th>\n",
       "      <th>6</th>\n",
       "    </tr>\n",
       "  </thead>\n",
       "  <tbody>\n",
       "    <tr>\n",
       "      <th>0</th>\n",
       "      <td>-0.3620</td>\n",
       "      <td>0.5729</td>\n",
       "      <td>-0.3125</td>\n",
       "      <td>-0.2164</td>\n",
       "      <td>-0.1097</td>\n",
       "      <td>-0.0770</td>\n",
       "      <td>0.0963</td>\n",
       "    </tr>\n",
       "    <tr>\n",
       "      <th>1</th>\n",
       "      <td>-0.5573</td>\n",
       "      <td>0.6024</td>\n",
       "      <td>0.0920</td>\n",
       "      <td>0.2949</td>\n",
       "      <td>-0.1548</td>\n",
       "      <td>0.0332</td>\n",
       "      <td>-0.0562</td>\n",
       "    </tr>\n",
       "    <tr>\n",
       "      <th>2</th>\n",
       "      <td>0.4277</td>\n",
       "      <td>-0.0578</td>\n",
       "      <td>0.4933</td>\n",
       "      <td>0.1525</td>\n",
       "      <td>-0.1836</td>\n",
       "      <td>-0.1280</td>\n",
       "      <td>0.0935</td>\n",
       "    </tr>\n",
       "    <tr>\n",
       "      <th>3</th>\n",
       "      <td>-0.0015</td>\n",
       "      <td>0.4064</td>\n",
       "      <td>0.6090</td>\n",
       "      <td>-0.2837</td>\n",
       "      <td>0.0612</td>\n",
       "      <td>-0.0261</td>\n",
       "      <td>-0.0549</td>\n",
       "    </tr>\n",
       "    <tr>\n",
       "      <th>4</th>\n",
       "      <td>0.8288</td>\n",
       "      <td>0.3121</td>\n",
       "      <td>-0.1079</td>\n",
       "      <td>-0.0507</td>\n",
       "      <td>-0.1651</td>\n",
       "      <td>0.2626</td>\n",
       "      <td>-0.0063</td>\n",
       "    </tr>\n",
       "    <tr>\n",
       "      <th>5</th>\n",
       "      <td>0.7171</td>\n",
       "      <td>0.4543</td>\n",
       "      <td>-0.2437</td>\n",
       "      <td>0.0964</td>\n",
       "      <td>0.1480</td>\n",
       "      <td>-0.2293</td>\n",
       "      <td>-0.0380</td>\n",
       "    </tr>\n",
       "    <tr>\n",
       "      <th>6</th>\n",
       "      <td>-0.0502</td>\n",
       "      <td>0.3159</td>\n",
       "      <td>0.1551</td>\n",
       "      <td>0.1343</td>\n",
       "      <td>0.3320</td>\n",
       "      <td>0.1569</td>\n",
       "      <td>0.0813</td>\n",
       "    </tr>\n",
       "  </tbody>\n",
       "</table>\n",
       "</div>"
      ],
      "text/plain": [
       "        0       1       2       3       4       5       6\n",
       "0 -0.3620  0.5729 -0.3125 -0.2164 -0.1097 -0.0770  0.0963\n",
       "1 -0.5573  0.6024  0.0920  0.2949 -0.1548  0.0332 -0.0562\n",
       "2  0.4277 -0.0578  0.4933  0.1525 -0.1836 -0.1280  0.0935\n",
       "3 -0.0015  0.4064  0.6090 -0.2837  0.0612 -0.0261 -0.0549\n",
       "4  0.8288  0.3121 -0.1079 -0.0507 -0.1651  0.2626 -0.0063\n",
       "5  0.7171  0.4543 -0.2437  0.0964  0.1480 -0.2293 -0.0380\n",
       "6 -0.0502  0.3159  0.1551  0.1343  0.3320  0.1569  0.0813"
      ]
     },
     "execution_count": 144,
     "metadata": {},
     "output_type": "execute_result"
    }
   ],
   "source": [
    "pd.DataFrame(eigenvectors * np.sqrt(D))"
   ]
  },
  {
   "cell_type": "code",
   "execution_count": 145,
   "metadata": {},
   "outputs": [
    {
     "data": {
      "text/plain": [
       "array([1.82817372, 1.26323065, 0.81545216, 0.26740915, 0.23280422,\n",
       "       0.17028201, 0.03228917])"
      ]
     },
     "execution_count": 145,
     "metadata": {},
     "output_type": "execute_result"
    }
   ],
   "source": [
    "D"
   ]
  },
  {
   "cell_type": "code",
   "execution_count": null,
   "metadata": {},
   "outputs": [],
   "source": [
    "X_corr = np.corrcoef(final, rowvar=False)\n",
    "X_corr_inv = np.linalg.inv(X_corr)\n",
    "X_corr_inv_diag = np.diag(X_corr_inv)\n",
    "R = 1 - (1 / X_corr_inv_diag)\n",
    "np.fill_diagonal(X_corr, R)\n",
    "eigenvalues, _ = np.linalg.eig(X_corr)\n",
    "eigenvectors, _, _ = randomized_svd(X_corr, n_components=X_corr.shape[1], random_state=1234567890)"
   ]
  },
  {
   "cell_type": "code",
   "execution_count": 88,
   "metadata": {},
   "outputs": [
    {
     "data": {
      "text/plain": [
       "array([2.1735037 , 1.71622301, 1.33375426, 0.89603092, 0.52981505,\n",
       "       0.12449408, 0.22617897])"
      ]
     },
     "execution_count": 88,
     "metadata": {},
     "output_type": "execute_result"
    }
   ],
   "source": [
    "X_corr = np.corrcoef(final, rowvar=False)\n",
    "X_corr_inv = np.linalg.inv(X_corr)\n",
    "X_corr_inv_diag = np.diag(X_corr_inv)\n",
    "R = 1 - (1 / X_corr_inv_diag)\n",
    "np.fill_diagonal(X_corr, R)\n",
    "eigenvalues, C = np.linalg.eig(np.corrcoef(final, rowvar=False))\n",
    "eigenvalues"
   ]
  },
  {
   "cell_type": "code",
   "execution_count": 82,
   "metadata": {},
   "outputs": [
    {
     "data": {
      "text/plain": [
       "array([[-0.26775118, -0.50976639,  0.34606667, -0.22738087,  0.53579862,\n",
       "         0.41839396, -0.18668067],\n",
       "       [-0.41215303, -0.53601031, -0.10191528, -0.32074341, -0.3129037 ,\n",
       "        -0.5702476 ,  0.08042834],\n",
       "       [ 0.31634555,  0.0514643 , -0.54628725, -0.38042629,  0.52061194,\n",
       "        -0.29481451, -0.31011385],\n",
       "       [-0.00114403, -0.36154311, -0.67441812,  0.12681366, -0.30557695,\n",
       "         0.54862196, -0.06324911],\n",
       "       [ 0.61294248, -0.27765356,  0.1194454 , -0.34215396, -0.03505644,\n",
       "         0.09807081,  0.63641704],\n",
       "       [ 0.5303624 , -0.40418014,  0.26982084,  0.30677389, -0.21165339,\n",
       "        -0.18643353, -0.55577515],\n",
       "       [-0.03715666, -0.28109804, -0.17178791,  0.68806699,  0.45229519,\n",
       "        -0.25978295,  0.38026028]])"
      ]
     },
     "execution_count": 82,
     "metadata": {},
     "output_type": "execute_result"
    }
   ],
   "source": [
    "C"
   ]
  },
  {
   "cell_type": "code",
   "execution_count": 83,
   "metadata": {},
   "outputs": [
    {
     "data": {
      "text/plain": [
       "array([[-0.26775118,  0.50976639, -0.34606667, -0.41839396, -0.22738087,\n",
       "        -0.18668067,  0.53579862],\n",
       "       [-0.41215303,  0.53601031,  0.10191528,  0.5702476 , -0.32074341,\n",
       "         0.08042834, -0.3129037 ],\n",
       "       [ 0.31634555, -0.0514643 ,  0.54628725,  0.29481451, -0.38042629,\n",
       "        -0.31011385,  0.52061194],\n",
       "       [-0.00114403,  0.36154311,  0.67441812, -0.54862196,  0.12681366,\n",
       "        -0.06324911, -0.30557695],\n",
       "       [ 0.61294248,  0.27765356, -0.1194454 , -0.09807081, -0.34215396,\n",
       "         0.63641704, -0.03505644],\n",
       "       [ 0.5303624 ,  0.40418014, -0.26982084,  0.18643353,  0.30677389,\n",
       "        -0.55577515, -0.21165339],\n",
       "       [-0.03715666,  0.28109804,  0.17178791,  0.25978295,  0.68806699,\n",
       "         0.38026028,  0.45229519]])"
      ]
     },
     "execution_count": 83,
     "metadata": {},
     "output_type": "execute_result"
    }
   ],
   "source": [
    "eigenvectors"
   ]
  },
  {
   "cell_type": "code",
   "execution_count": 77,
   "metadata": {},
   "outputs": [
    {
     "data": {
      "text/plain": [
       "array([ 1.82817372,  1.26323065,  0.81545216,  0.23280422, -0.03228917,\n",
       "       -0.17028201, -0.26740915])"
      ]
     },
     "execution_count": 77,
     "metadata": {},
     "output_type": "execute_result"
    }
   ],
   "source": [
    "eigenvalues"
   ]
  },
  {
   "cell_type": "code",
   "execution_count": 70,
   "metadata": {},
   "outputs": [
    {
     "name": "stdout",
     "output_type": "stream",
     "text": [
      "4\n"
     ]
    }
   ],
   "source": [
    "n = 0\n",
    "for i in eigenvalues:\n",
    "    if i >= 0:\n",
    "        n += 1\n",
    "print(n)"
   ]
  },
  {
   "cell_type": "code",
   "execution_count": 140,
   "metadata": {},
   "outputs": [],
   "source": [
    "X_corr = np.corrcoef(final, rowvar=False)\n",
    "X_corr_inv = np.linalg.inv(X_corr)\n",
    "X_corr_inv_diag = np.diag(X_corr_inv)\n",
    "R = 1 - (1 / X_corr_inv_diag)\n",
    "np.fill_diagonal(X_corr, R)\n",
    "eigenvalues, _ = np.linalg.eig(X_corr)\n",
    "eigenvectors, _, _ = randomized_svd(X_corr, n_components=X_corr.shape[1], random_state=1234567890)\n",
    "idx = eigenvalues.argsort()[::-1]\n",
    "eigenvalues = eigenvalues[idx]\n",
    "eigenvectors = eigenvectors[:, idx]\n",
    "p_index = eigenvalues > 0\n",
    "eigenvalues = eigenvalues[p_index]\n",
    "eigenvectors = eigenvectors[:, p_index]"
   ]
  },
  {
   "cell_type": "code",
   "execution_count": 141,
   "metadata": {},
   "outputs": [
    {
     "data": {
      "text/plain": [
       "array([1.82817372, 1.26323065, 0.81545216, 0.23280422])"
      ]
     },
     "execution_count": 141,
     "metadata": {},
     "output_type": "execute_result"
    }
   ],
   "source": [
    "eigenvalues"
   ]
  },
  {
   "cell_type": "code",
   "execution_count": 135,
   "metadata": {},
   "outputs": [
    {
     "data": {
      "text/plain": [
       "array([0, 1, 2, 3, 4, 6, 5], dtype=int64)"
      ]
     },
     "execution_count": 135,
     "metadata": {},
     "output_type": "execute_result"
    }
   ],
   "source": [
    "idx"
   ]
  },
  {
   "cell_type": "code",
   "execution_count": 54,
   "metadata": {},
   "outputs": [
    {
     "data": {
      "text/plain": [
       "7"
      ]
     },
     "execution_count": 54,
     "metadata": {},
     "output_type": "execute_result"
    }
   ],
   "source": [
    "pd.DataFrame(final).shape[1]"
   ]
  },
  {
   "cell_type": "code",
   "execution_count": 50,
   "metadata": {},
   "outputs": [
    {
     "data": {
      "text/plain": [
       "array([1.82817372, 1.26323065, 0.81545216, 0.26740915, 0.23280422,\n",
       "       0.17028201, 0.03228917])"
      ]
     },
     "execution_count": 50,
     "metadata": {},
     "output_type": "execute_result"
    }
   ],
   "source": [
    "D"
   ]
  },
  {
   "cell_type": "code",
   "execution_count": 49,
   "metadata": {},
   "outputs": [
    {
     "name": "stderr",
     "output_type": "stream",
     "text": [
      "C:\\Users\\HP\\AppData\\Local\\Temp\\ipykernel_23872\\1974874582.py:1: RuntimeWarning: invalid value encountered in sqrt\n",
      "  loadings = C * np.sqrt(eigenvalues[::-1])\n"
     ]
    },
    {
     "data": {
      "text/html": [
       "<div>\n",
       "<style scoped>\n",
       "    .dataframe tbody tr th:only-of-type {\n",
       "        vertical-align: middle;\n",
       "    }\n",
       "\n",
       "    .dataframe tbody tr th {\n",
       "        vertical-align: top;\n",
       "    }\n",
       "\n",
       "    .dataframe thead th {\n",
       "        text-align: right;\n",
       "    }\n",
       "</style>\n",
       "<table border=\"1\" class=\"dataframe\">\n",
       "  <thead>\n",
       "    <tr style=\"text-align: right;\">\n",
       "      <th></th>\n",
       "      <th>0</th>\n",
       "      <th>1</th>\n",
       "      <th>2</th>\n",
       "      <th>3</th>\n",
       "    </tr>\n",
       "  </thead>\n",
       "  <tbody>\n",
       "    <tr>\n",
       "      <th>0</th>\n",
       "      <td>-0.362026</td>\n",
       "      <td>0.572944</td>\n",
       "      <td>-0.312506</td>\n",
       "      <td>-0.201874</td>\n",
       "    </tr>\n",
       "    <tr>\n",
       "      <th>1</th>\n",
       "      <td>-0.557272</td>\n",
       "      <td>0.602441</td>\n",
       "      <td>0.092032</td>\n",
       "      <td>0.275143</td>\n",
       "    </tr>\n",
       "    <tr>\n",
       "      <th>2</th>\n",
       "      <td>0.427731</td>\n",
       "      <td>-0.057843</td>\n",
       "      <td>0.493310</td>\n",
       "      <td>0.142247</td>\n",
       "    </tr>\n",
       "    <tr>\n",
       "      <th>3</th>\n",
       "      <td>-0.001547</td>\n",
       "      <td>0.406351</td>\n",
       "      <td>0.609016</td>\n",
       "      <td>-0.264709</td>\n",
       "    </tr>\n",
       "    <tr>\n",
       "      <th>4</th>\n",
       "      <td>0.828759</td>\n",
       "      <td>0.312065</td>\n",
       "      <td>-0.107862</td>\n",
       "      <td>-0.047319</td>\n",
       "    </tr>\n",
       "    <tr>\n",
       "      <th>5</th>\n",
       "      <td>0.717103</td>\n",
       "      <td>0.454272</td>\n",
       "      <td>-0.243655</td>\n",
       "      <td>0.089954</td>\n",
       "    </tr>\n",
       "    <tr>\n",
       "      <th>6</th>\n",
       "      <td>-0.050240</td>\n",
       "      <td>0.315936</td>\n",
       "      <td>0.155129</td>\n",
       "      <td>0.125345</td>\n",
       "    </tr>\n",
       "  </tbody>\n",
       "</table>\n",
       "</div>"
      ],
      "text/plain": [
       "          0         1         2         3\n",
       "0 -0.362026  0.572944 -0.312506 -0.201874\n",
       "1 -0.557272  0.602441  0.092032  0.275143\n",
       "2  0.427731 -0.057843  0.493310  0.142247\n",
       "3 -0.001547  0.406351  0.609016 -0.264709\n",
       "4  0.828759  0.312065 -0.107862 -0.047319\n",
       "5  0.717103  0.454272 -0.243655  0.089954\n",
       "6 -0.050240  0.315936  0.155129  0.125345"
      ]
     },
     "execution_count": 49,
     "metadata": {},
     "output_type": "execute_result"
    }
   ],
   "source": [
    "loadings = C * np.sqrt(eigenvalues[::-1])\n",
    "pd.DataFrame(loadings).dropna(axis=1)"
   ]
  },
  {
   "cell_type": "code",
   "execution_count": 34,
   "metadata": {},
   "outputs": [
    {
     "name": "stdout",
     "output_type": "stream",
     "text": [
      "Autovalor 1: -0.26740914748499967\n",
      "Autovector 1: [ 0.41839396 -0.5702476  -0.29481451  0.54862196  0.09807081 -0.18643353\n",
      " -0.25978295]\n",
      "\n",
      "Autovalor 2: -0.1702820100664893\n",
      "Autovector 2: [-0.18668067  0.08042834 -0.31011385 -0.06324911  0.63641704 -0.55577515\n",
      "  0.38026028]\n",
      "\n",
      "Autovalor 3: -0.032289170090544744\n",
      "Autovector 3: [ 0.53579862 -0.3129037   0.52061194 -0.30557695 -0.03505644 -0.21165339\n",
      "  0.45229519]\n",
      "\n",
      "Autovalor 4: 0.23280422172295018\n",
      "Autovector 4: [ 0.22738087  0.32074341  0.38042629 -0.12681366  0.34215396 -0.30677389\n",
      " -0.68806699]\n",
      "\n",
      "Autovalor 5: 0.8154521559803469\n",
      "Autovector 5: [-0.34606667  0.10191528  0.54628725  0.67441812 -0.1194454  -0.26982084\n",
      "  0.17178791]\n",
      "\n",
      "Autovalor 6: 1.2632306539629632\n",
      "Autovector 6: [ 0.50976639  0.53601031 -0.0514643   0.36154311  0.27765356  0.40418014\n",
      "  0.28109804]\n",
      "\n",
      "Autovalor 7: 1.8281737196653418\n",
      "Autovector 7: [ 0.26775118  0.41215303 -0.31634555  0.00114403 -0.61294248 -0.5303624\n",
      "  0.03715666]\n",
      "\n"
     ]
    }
   ],
   "source": [
    "for i, (eigenvalue, eigenvector) in enumerate(zip(eigenvalues, eigenvectors.T)):\n",
    "    print(f\"Autovalor {i+1}: {eigenvalue}\")\n",
    "    print(f\"Autovector {i+1}: {eigenvector}\\n\")\n"
   ]
  },
  {
   "cell_type": "code",
   "execution_count": 33,
   "metadata": {},
   "outputs": [
    {
     "data": {
      "text/plain": [
       "array([-0.26740915, -0.17028201, -0.03228917,  0.23280422,  0.81545216,\n",
       "        1.26323065,  1.82817372])"
      ]
     },
     "execution_count": 33,
     "metadata": {},
     "output_type": "execute_result"
    }
   ],
   "source": [
    "eigenvalues"
   ]
  },
  {
   "cell_type": "code",
   "execution_count": 35,
   "metadata": {},
   "outputs": [
    {
     "data": {
      "text/plain": [
       "array([[ 0.41839396, -0.18668067,  0.53579862,  0.22738087, -0.34606667,\n",
       "         0.50976639,  0.26775118],\n",
       "       [-0.5702476 ,  0.08042834, -0.3129037 ,  0.32074341,  0.10191528,\n",
       "         0.53601031,  0.41215303],\n",
       "       [-0.29481451, -0.31011385,  0.52061194,  0.38042629,  0.54628725,\n",
       "        -0.0514643 , -0.31634555],\n",
       "       [ 0.54862196, -0.06324911, -0.30557695, -0.12681366,  0.67441812,\n",
       "         0.36154311,  0.00114403],\n",
       "       [ 0.09807081,  0.63641704, -0.03505644,  0.34215396, -0.1194454 ,\n",
       "         0.27765356, -0.61294248],\n",
       "       [-0.18643353, -0.55577515, -0.21165339, -0.30677389, -0.26982084,\n",
       "         0.40418014, -0.5303624 ],\n",
       "       [-0.25978295,  0.38026028,  0.45229519, -0.68806699,  0.17178791,\n",
       "         0.28109804,  0.03715666]])"
      ]
     },
     "execution_count": 35,
     "metadata": {},
     "output_type": "execute_result"
    }
   ],
   "source": [
    "eigenvectors"
   ]
  },
  {
   "cell_type": "code",
   "execution_count": 31,
   "metadata": {},
   "outputs": [],
   "source": [
    "columns_to_exclude = [3, 5, 6]\n",
    "\n",
    "# Crear un array con las columnas que se van a conservar\n",
    "columns_to_keep = np.setdiff1d(np.arange(loadings.shape[1]), columns_to_exclude)\n",
    "\n",
    "# Filtrar el array\n",
    "filtered_data = loadings[:, columns_to_keep]"
   ]
  },
  {
   "cell_type": "code",
   "execution_count": 25,
   "metadata": {},
   "outputs": [
    {
     "data": {
      "text/plain": [
       "array([[-0.3620263 , -0.57294446,  0.31250647,  0.21635829, -0.10971079],\n",
       "       [-0.55727201, -0.60244093, -0.09203193, -0.29488426, -0.15475802],\n",
       "       [ 0.42773073,  0.05784254, -0.49331044, -0.15245336, -0.18355489],\n",
       "       [-0.00154684, -0.40635108, -0.60901568,  0.28370129,  0.06118732],\n",
       "       [ 0.82875936, -0.31206465,  0.10786205,  0.050714  , -0.16508857],\n",
       "       [ 0.71710287, -0.45427234,  0.24365467, -0.09640779,  0.14801776],\n",
       "       [-0.0502395 , -0.31593602, -0.15512859, -0.13433797,  0.33199088]])"
      ]
     },
     "execution_count": 25,
     "metadata": {},
     "output_type": "execute_result"
    }
   ],
   "source": [
    "loadings[:,0:5]"
   ]
  },
  {
   "cell_type": "code",
   "execution_count": 32,
   "metadata": {},
   "outputs": [
    {
     "data": {
      "text/html": [
       "<div>\n",
       "<style scoped>\n",
       "    .dataframe tbody tr th:only-of-type {\n",
       "        vertical-align: middle;\n",
       "    }\n",
       "\n",
       "    .dataframe tbody tr th {\n",
       "        vertical-align: top;\n",
       "    }\n",
       "\n",
       "    .dataframe thead th {\n",
       "        text-align: right;\n",
       "    }\n",
       "</style>\n",
       "<table border=\"1\" class=\"dataframe\">\n",
       "  <thead>\n",
       "    <tr style=\"text-align: right;\">\n",
       "      <th></th>\n",
       "      <th>0</th>\n",
       "      <th>1</th>\n",
       "      <th>2</th>\n",
       "      <th>3</th>\n",
       "      <th>4</th>\n",
       "      <th>5</th>\n",
       "      <th>6</th>\n",
       "    </tr>\n",
       "  </thead>\n",
       "  <tbody>\n",
       "    <tr>\n",
       "      <th>0</th>\n",
       "      <td>0.430975</td>\n",
       "      <td>1.000000</td>\n",
       "      <td>1.000000</td>\n",
       "      <td>1.000000</td>\n",
       "      <td>1.000000</td>\n",
       "      <td>1.000000</td>\n",
       "      <td>1.000000</td>\n",
       "    </tr>\n",
       "    <tr>\n",
       "      <th>1</th>\n",
       "      <td>1.000000</td>\n",
       "      <td>0.294093</td>\n",
       "      <td>1.000000</td>\n",
       "      <td>1.000000</td>\n",
       "      <td>1.000000</td>\n",
       "      <td>1.000000</td>\n",
       "      <td>1.000000</td>\n",
       "    </tr>\n",
       "    <tr>\n",
       "      <th>2</th>\n",
       "      <td>1.000000</td>\n",
       "      <td>1.000000</td>\n",
       "      <td>0.536653</td>\n",
       "      <td>1.000000</td>\n",
       "      <td>1.000000</td>\n",
       "      <td>1.000000</td>\n",
       "      <td>1.000000</td>\n",
       "    </tr>\n",
       "    <tr>\n",
       "      <th>3</th>\n",
       "      <td>1.000000</td>\n",
       "      <td>1.000000</td>\n",
       "      <td>1.000000</td>\n",
       "      <td>0.460232</td>\n",
       "      <td>1.000000</td>\n",
       "      <td>1.000000</td>\n",
       "      <td>1.000000</td>\n",
       "    </tr>\n",
       "    <tr>\n",
       "      <th>4</th>\n",
       "      <td>1.000000</td>\n",
       "      <td>1.000000</td>\n",
       "      <td>1.000000</td>\n",
       "      <td>1.000000</td>\n",
       "      <td>0.176885</td>\n",
       "      <td>1.000000</td>\n",
       "      <td>1.000000</td>\n",
       "    </tr>\n",
       "    <tr>\n",
       "      <th>5</th>\n",
       "      <td>1.000000</td>\n",
       "      <td>1.000000</td>\n",
       "      <td>1.000000</td>\n",
       "      <td>1.000000</td>\n",
       "      <td>1.000000</td>\n",
       "      <td>0.198123</td>\n",
       "      <td>1.000000</td>\n",
       "    </tr>\n",
       "    <tr>\n",
       "      <th>6</th>\n",
       "      <td>1.000000</td>\n",
       "      <td>1.000000</td>\n",
       "      <td>1.000000</td>\n",
       "      <td>1.000000</td>\n",
       "      <td>1.000000</td>\n",
       "      <td>1.000000</td>\n",
       "      <td>0.763378</td>\n",
       "    </tr>\n",
       "  </tbody>\n",
       "</table>\n",
       "</div>"
      ],
      "text/plain": [
       "          0         1         2         3         4         5         6\n",
       "0  0.430975  1.000000  1.000000  1.000000  1.000000  1.000000  1.000000\n",
       "1  1.000000  0.294093  1.000000  1.000000  1.000000  1.000000  1.000000\n",
       "2  1.000000  1.000000  0.536653  1.000000  1.000000  1.000000  1.000000\n",
       "3  1.000000  1.000000  1.000000  0.460232  1.000000  1.000000  1.000000\n",
       "4  1.000000  1.000000  1.000000  1.000000  0.176885  1.000000  1.000000\n",
       "5  1.000000  1.000000  1.000000  1.000000  1.000000  0.198123  1.000000\n",
       "6  1.000000  1.000000  1.000000  1.000000  1.000000  1.000000  0.763378"
      ]
     },
     "execution_count": 32,
     "metadata": {},
     "output_type": "execute_result"
    }
   ],
   "source": [
    "1 - pd.DataFrame(np.diag(np.sum((filtered_data**2), axis=1)))"
   ]
  },
  {
   "cell_type": "code",
   "execution_count": null,
   "metadata": {},
   "outputs": [],
   "source": []
  },
  {
   "cell_type": "code",
   "execution_count": 19,
   "metadata": {},
   "outputs": [
    {
     "data": {
      "text/plain": [
       "array([-0.26740915, -0.17028201, -0.03228917,  0.23280422,  0.81545216,\n",
       "        1.26323065,  1.82817372])"
      ]
     },
     "execution_count": 19,
     "metadata": {},
     "output_type": "execute_result"
    }
   ],
   "source": [
    "eigenvalues"
   ]
  },
  {
   "cell_type": "code",
   "execution_count": 6,
   "metadata": {},
   "outputs": [
    {
     "data": {
      "text/plain": [
       "array([nan, nan, nan, nan, nan, nan, nan])"
      ]
     },
     "execution_count": 6,
     "metadata": {},
     "output_type": "execute_result"
    }
   ],
   "source": [
    "loadings"
   ]
  },
  {
   "cell_type": "code",
   "execution_count": 78,
   "metadata": {},
   "outputs": [
    {
     "data": {
      "text/plain": [
       "array([[-0.2678,  0.5098, -0.3461, -0.4184, -0.2274, -0.1867,  0.5358],\n",
       "       [-0.4122,  0.536 ,  0.1019,  0.5702, -0.3207,  0.0804, -0.3129],\n",
       "       [ 0.3163, -0.0515,  0.5463,  0.2948, -0.3804, -0.3101,  0.5206],\n",
       "       [-0.0011,  0.3615,  0.6744, -0.5486,  0.1268, -0.0632, -0.3056],\n",
       "       [ 0.6129,  0.2777, -0.1194, -0.0981, -0.3422,  0.6364, -0.0351],\n",
       "       [ 0.5304,  0.4042, -0.2698,  0.1864,  0.3068, -0.5558, -0.2117],\n",
       "       [-0.0372,  0.2811,  0.1718,  0.2598,  0.6881,  0.3803,  0.4523]])"
      ]
     },
     "execution_count": 78,
     "metadata": {},
     "output_type": "execute_result"
    }
   ],
   "source": [
    "from sklearn.utils.extmath import randomized_svd\n",
    "E, R, T = randomized_svd(data_cor, n_components=7, random_state=1234567890)\n",
    "\n",
    "E"
   ]
  },
  {
   "cell_type": "code",
   "execution_count": 83,
   "metadata": {},
   "outputs": [
    {
     "data": {
      "text/plain": [
       "array([1.8282, 1.2632, 0.8155, 0.2674, 0.2328, 0.1703, 0.0323])"
      ]
     },
     "execution_count": 83,
     "metadata": {},
     "output_type": "execute_result"
    }
   ],
   "source": [
    "R"
   ]
  },
  {
   "cell_type": "code",
   "execution_count": 84,
   "metadata": {},
   "outputs": [
    {
     "data": {
      "text/plain": [
       "array([[-0.362 ,  0.5729, -0.3125, -0.2164, -0.1097, -0.077 ,  0.0963],\n",
       "       [-0.5573,  0.6024,  0.092 ,  0.2949, -0.1548,  0.0332, -0.0562],\n",
       "       [ 0.4277, -0.0578,  0.4933,  0.1525, -0.1836, -0.128 ,  0.0935],\n",
       "       [-0.0015,  0.4064,  0.609 , -0.2837,  0.0612, -0.0261, -0.0549],\n",
       "       [ 0.8288,  0.3121, -0.1079, -0.0507, -0.1651,  0.2626, -0.0063],\n",
       "       [ 0.7171,  0.4543, -0.2437,  0.0964,  0.148 , -0.2293, -0.038 ],\n",
       "       [-0.0502,  0.3159,  0.1551,  0.1343,  0.332 ,  0.1569,  0.0813]])"
      ]
     },
     "execution_count": 84,
     "metadata": {},
     "output_type": "execute_result"
    }
   ],
   "source": [
    "E * np.sqrt(R)"
   ]
  },
  {
   "cell_type": "code",
   "execution_count": 81,
   "metadata": {},
   "outputs": [
    {
     "data": {
      "text/plain": [
       "array([1.8282, 1.2632, 0.8155, 0.2674, 0.2328, 0.1703, 0.0323])"
      ]
     },
     "execution_count": 81,
     "metadata": {},
     "output_type": "execute_result"
    }
   ],
   "source": [
    "D"
   ]
  },
  {
   "cell_type": "code",
   "execution_count": 79,
   "metadata": {},
   "outputs": [
    {
     "data": {
      "text/plain": [
       "array([[-0.2678, -0.5098,  0.3461, -0.4184,  0.2274, -0.1867, -0.5358],\n",
       "       [-0.4122, -0.536 , -0.1019,  0.5702,  0.3207,  0.0804,  0.3129],\n",
       "       [ 0.3163,  0.0515, -0.5463,  0.2948,  0.3804, -0.3101, -0.5206],\n",
       "       [-0.0011, -0.3615, -0.6744, -0.5486, -0.1268, -0.0632,  0.3056],\n",
       "       [ 0.6129, -0.2777,  0.1194, -0.0981,  0.3422,  0.6364,  0.0351],\n",
       "       [ 0.5304, -0.4042,  0.2698,  0.1864, -0.3068, -0.5558,  0.2117],\n",
       "       [-0.0372, -0.2811, -0.1718,  0.2598, -0.6881,  0.3803, -0.4523]])"
      ]
     },
     "execution_count": 79,
     "metadata": {},
     "output_type": "execute_result"
    }
   ],
   "source": [
    "C"
   ]
  },
  {
   "cell_type": "code",
   "execution_count": 160,
   "metadata": {},
   "outputs": [],
   "source": [
    "# Supongamos que estos son tus arrays\n",
    "abs_array = np.array([1.3, 2.5, 0.7, 1.5, 4.2])  # Array en valor absoluto\n",
    "orig_array = np.array([1.3, -2.5, 0.7, -1.5, 4.2])  # Array original\n",
    "\n",
    "# Encuentra los índices donde el array original es negativo\n",
    "negative_indices = np.where(orig_array < 0)[0]\n",
    "\n",
    "# Filtra el primer array para obtener solo los valores correspondientes a esos índices\n",
    "filtered_abs_array = abs_array[negative_indices]"
   ]
  },
  {
   "cell_type": "code",
   "execution_count": 161,
   "metadata": {},
   "outputs": [
    {
     "data": {
      "text/plain": [
       "array([2.5, 1.5])"
      ]
     },
     "execution_count": 161,
     "metadata": {},
     "output_type": "execute_result"
    }
   ],
   "source": [
    "filtered_abs_array"
   ]
  },
  {
   "cell_type": "code",
   "execution_count": 162,
   "metadata": {},
   "outputs": [],
   "source": [
    "data_array = np.array([[10, 20, 30, 40, 50],\n",
    "                       [60, 70, 80, 90, 100],\n",
    "                       [110, 120, 130, 140, 150],\n",
    "                       [160, 170, 180, 190, 200],\n",
    "                       [210, 220, 230, 240, 250]])"
   ]
  },
  {
   "cell_type": "code",
   "execution_count": 163,
   "metadata": {},
   "outputs": [
    {
     "data": {
      "text/html": [
       "<div>\n",
       "<style scoped>\n",
       "    .dataframe tbody tr th:only-of-type {\n",
       "        vertical-align: middle;\n",
       "    }\n",
       "\n",
       "    .dataframe tbody tr th {\n",
       "        vertical-align: top;\n",
       "    }\n",
       "\n",
       "    .dataframe thead th {\n",
       "        text-align: right;\n",
       "    }\n",
       "</style>\n",
       "<table border=\"1\" class=\"dataframe\">\n",
       "  <thead>\n",
       "    <tr style=\"text-align: right;\">\n",
       "      <th></th>\n",
       "      <th>0</th>\n",
       "      <th>1</th>\n",
       "      <th>2</th>\n",
       "      <th>3</th>\n",
       "      <th>4</th>\n",
       "    </tr>\n",
       "  </thead>\n",
       "  <tbody>\n",
       "    <tr>\n",
       "      <th>0</th>\n",
       "      <td>10</td>\n",
       "      <td>20</td>\n",
       "      <td>30</td>\n",
       "      <td>40</td>\n",
       "      <td>50</td>\n",
       "    </tr>\n",
       "    <tr>\n",
       "      <th>1</th>\n",
       "      <td>60</td>\n",
       "      <td>70</td>\n",
       "      <td>80</td>\n",
       "      <td>90</td>\n",
       "      <td>100</td>\n",
       "    </tr>\n",
       "    <tr>\n",
       "      <th>2</th>\n",
       "      <td>110</td>\n",
       "      <td>120</td>\n",
       "      <td>130</td>\n",
       "      <td>140</td>\n",
       "      <td>150</td>\n",
       "    </tr>\n",
       "    <tr>\n",
       "      <th>3</th>\n",
       "      <td>160</td>\n",
       "      <td>170</td>\n",
       "      <td>180</td>\n",
       "      <td>190</td>\n",
       "      <td>200</td>\n",
       "    </tr>\n",
       "    <tr>\n",
       "      <th>4</th>\n",
       "      <td>210</td>\n",
       "      <td>220</td>\n",
       "      <td>230</td>\n",
       "      <td>240</td>\n",
       "      <td>250</td>\n",
       "    </tr>\n",
       "  </tbody>\n",
       "</table>\n",
       "</div>"
      ],
      "text/plain": [
       "     0    1    2    3    4\n",
       "0   10   20   30   40   50\n",
       "1   60   70   80   90  100\n",
       "2  110  120  130  140  150\n",
       "3  160  170  180  190  200\n",
       "4  210  220  230  240  250"
      ]
     },
     "execution_count": 163,
     "metadata": {},
     "output_type": "execute_result"
    }
   ],
   "source": [
    "pd.DataFrame(data_array)"
   ]
  },
  {
   "cell_type": "code",
   "execution_count": 164,
   "metadata": {},
   "outputs": [
    {
     "data": {
      "text/plain": [
       "array([[ 20,  40],\n",
       "       [ 70,  90],\n",
       "       [120, 140],\n",
       "       [170, 190],\n",
       "       [220, 240]])"
      ]
     },
     "execution_count": 164,
     "metadata": {},
     "output_type": "execute_result"
    }
   ],
   "source": [
    "data_array[:, negative_indices]"
   ]
  },
  {
   "cell_type": "code",
   "execution_count": 167,
   "metadata": {},
   "outputs": [
    {
     "data": {
      "text/html": [
       "<div>\n",
       "<style scoped>\n",
       "    .dataframe tbody tr th:only-of-type {\n",
       "        vertical-align: middle;\n",
       "    }\n",
       "\n",
       "    .dataframe tbody tr th {\n",
       "        vertical-align: top;\n",
       "    }\n",
       "\n",
       "    .dataframe thead th {\n",
       "        text-align: right;\n",
       "    }\n",
       "</style>\n",
       "<table border=\"1\" class=\"dataframe\">\n",
       "  <thead>\n",
       "    <tr style=\"text-align: right;\">\n",
       "      <th></th>\n",
       "      <th>0</th>\n",
       "      <th>1</th>\n",
       "      <th>2</th>\n",
       "    </tr>\n",
       "  </thead>\n",
       "  <tbody>\n",
       "    <tr>\n",
       "      <th>0</th>\n",
       "      <td>10</td>\n",
       "      <td>30</td>\n",
       "      <td>50</td>\n",
       "    </tr>\n",
       "    <tr>\n",
       "      <th>1</th>\n",
       "      <td>60</td>\n",
       "      <td>80</td>\n",
       "      <td>100</td>\n",
       "    </tr>\n",
       "    <tr>\n",
       "      <th>2</th>\n",
       "      <td>110</td>\n",
       "      <td>130</td>\n",
       "      <td>150</td>\n",
       "    </tr>\n",
       "    <tr>\n",
       "      <th>3</th>\n",
       "      <td>160</td>\n",
       "      <td>180</td>\n",
       "      <td>200</td>\n",
       "    </tr>\n",
       "    <tr>\n",
       "      <th>4</th>\n",
       "      <td>210</td>\n",
       "      <td>230</td>\n",
       "      <td>250</td>\n",
       "    </tr>\n",
       "  </tbody>\n",
       "</table>\n",
       "</div>"
      ],
      "text/plain": [
       "     0    1    2\n",
       "0   10   30   50\n",
       "1   60   80  100\n",
       "2  110  130  150\n",
       "3  160  180  200\n",
       "4  210  230  250"
      ]
     },
     "execution_count": 167,
     "metadata": {},
     "output_type": "execute_result"
    }
   ],
   "source": [
    "abs_array = np.array([4.2, 2.5, 1.5, 1.3, 0.7])  # Array en valor absoluto\n",
    "orig_array = np.array([1.3, -2.5, 0.7, -1.5, 4.2])  # Array original\n",
    "\n",
    "# Encuentra los índices donde el array original es negativo\n",
    "negative_indices = np.where(orig_array > 0)[0]\n",
    "\n",
    "# Ahora, usando estos índices como filtro para data_array\n",
    "# Supongamos que tienes un array de datos de 5x5\n",
    "data_array = np.array([[10, 20, 30, 40, 50],\n",
    "                       [60, 70, 80, 90, 100],\n",
    "                       [110, 120, 130, 140, 150],\n",
    "                       [160, 170, 180, 190, 200],\n",
    "                       [210, 220, 230, 240, 250]])\n",
    "\n",
    "# Filtra las columnas en data_array usando los índices obtenidos\n",
    "filtered_columns = data_array[:, negative_indices]\n",
    "pd.DataFrame(filtered_columns)"
   ]
  },
  {
   "cell_type": "code",
   "execution_count": 169,
   "metadata": {},
   "outputs": [
    {
     "name": "stdout",
     "output_type": "stream",
     "text": [
      "Índices de elementos positivos en orig_array: [0 2 4]\n",
      "Columnas filtradas de data_array (usando los índices de abs_array):\n",
      " [[ 10  30  50]\n",
      " [ 60  80 100]\n",
      " [110 130 150]\n",
      " [160 180 200]\n",
      " [210 230 250]]\n"
     ]
    }
   ],
   "source": [
    "import numpy as np\n",
    "\n",
    "# Tus arrays\n",
    "abs_array = np.array([4.2, 2.5, 1.5, 1.3, 0.7])  # Array en valor absoluto\n",
    "orig_array = np.array([1.3, -2.5, 0.7, -1.5, 4.2])  # Array original\n",
    "\n",
    "# Encuentra los índices donde el array original es positivo\n",
    "positive_indices = np.where(orig_array > 0)[0]\n",
    "\n",
    "# Filtra abs_array para conservar solo los índices que son positivos en orig_array\n",
    "filtered_indices = [i for i in positive_indices if orig_array[i] > 0]\n",
    "\n",
    "# Supongamos que tienes un array de datos de 5x5\n",
    "data_array = np.array([[10, 20, 30, 40, 50],\n",
    "                       [60, 70, 80, 90, 100],\n",
    "                       [110, 120, 130, 140, 150],\n",
    "                       [160, 170, 180, 190, 200],\n",
    "                       [210, 220, 230, 240, 250]])\n",
    "\n",
    "# Filtra las columnas en data_array usando los índices de abs_array que corresponden a los positivos de orig_array\n",
    "filtered_columns = data_array[:, filtered_indices]\n",
    "\n",
    "# Imprimir los resultados\n",
    "print(\"Índices de elementos positivos en orig_array:\", positive_indices)\n",
    "print(\"Columnas filtradas de data_array (usando los índices de abs_array):\\n\", filtered_columns)\n",
    "\n"
   ]
  },
  {
   "cell_type": "code",
   "execution_count": 170,
   "metadata": {},
   "outputs": [
    {
     "name": "stdout",
     "output_type": "stream",
     "text": [
      "Índices de elementos de abs_array encontrados en orig_array: [0 3 4]\n"
     ]
    }
   ],
   "source": [
    "import numpy as np\n",
    "\n",
    "# Tus arrays\n",
    "abs_array = np.array([4.2, 2.5, 1.5, 1.3, 0.7])  # Array en valor absoluto\n",
    "orig_array = np.array([1.3, -2.5, 0.7, -1.5, 4.2])  # Array original\n",
    "\n",
    "# Inicializamos una lista para guardar los índices encontrados\n",
    "found_indices = []\n",
    "\n",
    "# Buscar cada elemento de abs_array en orig_array\n",
    "for idx, value in enumerate(abs_array):\n",
    "    if value in orig_array:\n",
    "        found_indices.append(idx)\n",
    "\n",
    "# Convertir la lista a un array de NumPy si es necesario\n",
    "found_indices = np.array(found_indices)\n",
    "\n",
    "# Imprimir resultados\n",
    "print(\"Índices de elementos de abs_array encontrados en orig_array:\", found_indices)\n"
   ]
  },
  {
   "cell_type": "code",
   "execution_count": 171,
   "metadata": {},
   "outputs": [
    {
     "data": {
      "text/plain": [
       "array([0, 3, 4])"
      ]
     },
     "execution_count": 171,
     "metadata": {},
     "output_type": "execute_result"
    }
   ],
   "source": [
    "found_indices = [idx for idx, value in enumerate(abs_array) if value in orig_array]"
   ]
  }
 ],
 "metadata": {
  "kernelspec": {
   "display_name": "Python 3",
   "language": "python",
   "name": "python3"
  },
  "language_info": {
   "codemirror_mode": {
    "name": "ipython",
    "version": 3
   },
   "file_extension": ".py",
   "mimetype": "text/x-python",
   "name": "python",
   "nbconvert_exporter": "python",
   "pygments_lexer": "ipython3",
   "version": "3.12.2"
  }
 },
 "nbformat": 4,
 "nbformat_minor": 2
}
